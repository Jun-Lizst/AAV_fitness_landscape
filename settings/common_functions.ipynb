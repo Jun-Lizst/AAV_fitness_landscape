{
 "cells": [
  {
   "cell_type": "code",
   "execution_count": 1,
   "metadata": {},
   "outputs": [],
   "source": [
    "import pandas as pd"
   ]
  },
  {
   "cell_type": "code",
   "execution_count": 2,
   "metadata": {},
   "outputs": [],
   "source": [
    "def codon_to_aa_selector(subset_df, df):\n",
    "    '''\n",
    "    Args: subset_df - a df with some subset of interesting alleles\n",
    "          df - another df that yuou wish to grab the same subset of interesting alleles \n",
    "    Returns: A df with the same alleles from subset df, but the measurments for df \n",
    "    \n",
    "    NOTE: This is most useful when one df is in codon format and another is in aa format, or vice versa \n",
    "    '''\n",
    "    \n",
    "    keep_indices = list(df.index.names)\n",
    "    merge_indices =  [x for x  in list(subset_df.index.names[:len(keep_indices)]) if 'wt' not in x]\n",
    "    print (merge_indices)\n",
    "    return df.reset_index().merge(\n",
    "        subset_df.reset_index()[merge_indices], on=merge_indices).set_index(keep_indices).drop_duplicates()\n",
    "\n"
   ]
  }
 ],
 "metadata": {
  "kernelspec": {
   "display_name": "Python 2",
   "language": "python",
   "name": "python2"
  },
  "language_info": {
   "codemirror_mode": {
    "name": "ipython",
    "version": 2
   },
   "file_extension": ".py",
   "mimetype": "text/x-python",
   "name": "python",
   "nbconvert_exporter": "python",
   "pygments_lexer": "ipython2",
   "version": "2.7.12"
  }
 },
 "nbformat": 4,
 "nbformat_minor": 2
}
