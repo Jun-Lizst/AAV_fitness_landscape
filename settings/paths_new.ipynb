{
 "cells": [
  {
   "cell_type": "code",
   "execution_count": null,
   "metadata": {},
   "outputs": [],
   "source": [
    "import os\n",
    "import pandas as pd\n",
    "\n",
    "THIS_MODULE_PATH = os.path.dirname(os.path.abspath(__file__))\n",
    "\n",
    "# Directories\n",
    "DATA_DIR = os.path.join(THIS_MODULE_PATH, '../data/')\n",
    "FASTQ_DIR = os.path.join(DATA_DIR, 'fastq')\n",
    "COUNTS_DIR = os.path.join(DATA_DIR, 'counts')\n",
    "DATAFRAMES_DIR = os.path.join(DATA_DIR, 'dataframes')\n",
    "SAMPLE_SHEETS_DIR = os.path.join(DATA_DIR, 'sample_sheets')\n",
    "META_DIR = os.path.join(DATA_DIR, 'meta')\n",
    "FIGURES_DIR = os.path.join(DATA_DIR, 'figures')\n",
    "LOOKUP_DF = pd.read_csv('../data/meta/AAV2scan_chip_lookup_table.txt')\n",
    "MOUSE_VAL_DIR = os.path.join(DATA_DIR, 'mouse_validation_data')\n",
    "\n",
    "WT_PLOTTING_DF = pd.read_csv(os.path.join(DATA_DIR,'meta','lookup_rc.txt'))\n",
    "AA_INDEX_DF = pd.read_csv('../data/meta/aa_index_0_center_norm_df.csv')\n",
    "\n",
    "DESIRED_AA_ORD = [\"-\",\"I\", \"L\", \"V\", \"A\", \"G\", \"M\", \"F\", \"Y\", \"W\", \"E\", \n",
    "                    \"D\", \"Q\", \"N\", \"H\", \"C\", \"R\", \"K\", \"S\", \"T\", \"P\", \"*\"]\n"
   ]
  },
  {
   "cell_type": "code",
   "execution_count": null,
   "metadata": {},
   "outputs": [],
   "source": []
  }
 ],
 "metadata": {
  "kernelspec": {
   "display_name": "Python 2",
   "language": "python",
   "name": "python2"
  },
  "language_info": {
   "codemirror_mode": {
    "name": "ipython",
    "version": 2
   },
   "file_extension": ".py",
   "mimetype": "text/x-python",
   "name": "python",
   "nbconvert_exporter": "python",
   "pygments_lexer": "ipython2",
   "version": "2.7.12"
  }
 },
 "nbformat": 4,
 "nbformat_minor": 2
}
