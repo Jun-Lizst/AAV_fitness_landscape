{
 "cells": [
  {
   "cell_type": "code",
   "execution_count": 1,
   "metadata": {
    "collapsed": true
   },
   "outputs": [],
   "source": [
    "import os \n",
    "import sys\n",
    "\n",
    "import pandas as pd \n",
    "pd_idx = pd.IndexSlice\n",
    "\n",
    "sys.path.append('../settings/')"
   ]
  },
  {
   "cell_type": "code",
   "execution_count": 2,
   "metadata": {
    "collapsed": true
   },
   "outputs": [],
   "source": [
    "def load_packaging_df(path='../data/dataframes/aav_packaging_all.csv.gz'):\n",
    "    df = pd.read_csv(path,index_col=list(range(0,11)), header=[0,1,2,3,4,5])\n",
    "    return df"
   ]
  },
  {
   "cell_type": "code",
   "execution_count": 3,
   "metadata": {
    "collapsed": true
   },
   "outputs": [],
   "source": [
    "def load_antibody_df(path = '../data/dataframes/aav_antibody_all.csv.gz'):\n",
    "    return pd.read_csv(path, index_col =list(range(0,11)))"
   ]
  },
  {
   "cell_type": "code",
   "execution_count": 4,
   "metadata": {
    "collapsed": true
   },
   "outputs": [],
   "source": [
    "def load_thermostability_df(path='../data/dataframes/aav_thermostability_all.csv.gz'):\n",
    "    return pd.read_csv(path, header=[0,1,2], index_col=list(range(0,11)))"
   ]
  },
  {
   "cell_type": "code",
   "execution_count": 5,
   "metadata": {
    "collapsed": true
   },
   "outputs": [],
   "source": [
    "def load_mouse_df(path='../data/dataframes/aav_mouse_all.csv.gz'):\n",
    "    return pd.read_csv(path,header=[0,1,2,3,4,5], index_col=list(range(0,11)))"
   ]
  },
  {
   "cell_type": "code",
   "execution_count": 6,
   "metadata": {
    "collapsed": true
   },
   "outputs": [],
   "source": [
    "def load_MAAP_df(path='../data/dataframes/aav_maap_all.csv.gz'):\n",
    "    df= pd.read_csv(path,index_col=list(range(0,11)), header=[0,1,2,3])\n",
    "    return df"
   ]
  },
  {
   "cell_type": "code",
   "execution_count": null,
   "metadata": {
    "collapsed": true
   },
   "outputs": [],
   "source": []
  }
 ],
 "metadata": {
  "kernelspec": {
   "display_name": "aav_venv",
   "language": "python",
   "name": "aav_venv"
  },
  "language_info": {
   "codemirror_mode": {
    "name": "ipython",
    "version": 3
   },
   "file_extension": ".py",
   "mimetype": "text/x-python",
   "name": "python",
   "nbconvert_exporter": "python",
   "pygments_lexer": "ipython3",
   "version": "3.6.6"
  }
 },
 "nbformat": 4,
 "nbformat_minor": 2
}
