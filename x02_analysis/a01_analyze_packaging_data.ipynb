{
 "cells": [
  {
   "cell_type": "markdown",
   "metadata": {},
   "source": [
    "# Packaging analysis \n",
    "\n",
    "Analysis of how single mutations to the AAV2 capsid affect packaging  \n",
    "Includes: \n",
    "- analysis of library and number of mutations succesful assayed at barcode/codon/amin acid level \n",
    "- plots comparing plasmid frequency to codon frequency \n",
    "- packaging experiment replicates analysis \n",
    "- analysis of stop codon mutations vs WT\n",
    "- heatmap of all amino acid substituions, insertions and deletions \n",
    "- analysis of phylogentic mutation phenotype "
   ]
  },
  {
   "cell_type": "code",
   "execution_count": 1,
   "metadata": {},
   "outputs": [],
   "source": [
    "import os \n",
    "import sys \n",
    "\n",
    "from Bio import AlignIO\n",
    "import pandas as pd \n",
    "pd_idx =pd.IndexSlice\n",
    "import numpy as np\n",
    "import seaborn as sns \n",
    "import matplotlib\n",
    "import matplotlib.pyplot as plt\n",
    "from scipy.stats import variation\n",
    "from scipy.stats import ks_2samp,mannwhitneyu,pearsonr,variation,ranksums\n",
    "import scipy.stats as stats\n",
    "\n",
    "%reload_ext autoreload\n",
    "%autoreload 2\n",
    "sys.path.append('../x01_process_data//')\n",
    "import x02_load_dataframes\n",
    "import x03_compute_selections\n",
    "sys.path.append('../settings/')\n",
    "from paper_settings import PAPER_PRESET\n",
    "from paper_settings import PAPER_FONTSIZE\n",
    "from paper_settings import save_fig\n",
    "sns.set(**PAPER_PRESET)"
   ]
  },
  {
   "cell_type": "markdown",
   "metadata": {},
   "source": [
    "### load in packaging count data"
   ]
  },
  {
   "cell_type": "code",
   "execution_count": 2,
   "metadata": {},
   "outputs": [
    {
     "data": {
      "text/html": [
       "<div>\n",
       "<style scoped>\n",
       "    .dataframe tbody tr th:only-of-type {\n",
       "        vertical-align: middle;\n",
       "    }\n",
       "\n",
       "    .dataframe tbody tr th {\n",
       "        vertical-align: top;\n",
       "    }\n",
       "\n",
       "    .dataframe thead tr th {\n",
       "        text-align: left;\n",
       "    }\n",
       "\n",
       "    .dataframe thead tr:last-of-type th {\n",
       "        text-align: right;\n",
       "    }\n",
       "</style>\n",
       "<table border=\"1\" class=\"dataframe\">\n",
       "  <thead>\n",
       "    <tr>\n",
       "      <th></th>\n",
       "      <th></th>\n",
       "      <th></th>\n",
       "      <th></th>\n",
       "      <th></th>\n",
       "      <th></th>\n",
       "      <th></th>\n",
       "      <th></th>\n",
       "      <th></th>\n",
       "      <th></th>\n",
       "      <th>promoter</th>\n",
       "      <th colspan=\"9\" halign=\"left\">CMV</th>\n",
       "      <th colspan=\"11\" halign=\"left\">Rep</th>\n",
       "    </tr>\n",
       "    <tr>\n",
       "      <th></th>\n",
       "      <th></th>\n",
       "      <th></th>\n",
       "      <th></th>\n",
       "      <th></th>\n",
       "      <th></th>\n",
       "      <th></th>\n",
       "      <th></th>\n",
       "      <th></th>\n",
       "      <th></th>\n",
       "      <th>source</th>\n",
       "      <th colspan=\"3\" halign=\"left\">plasmid</th>\n",
       "      <th colspan=\"6\" halign=\"left\">virus</th>\n",
       "      <th colspan=\"5\" halign=\"left\">plasmid</th>\n",
       "      <th colspan=\"6\" halign=\"left\">virus</th>\n",
       "    </tr>\n",
       "    <tr>\n",
       "      <th></th>\n",
       "      <th></th>\n",
       "      <th></th>\n",
       "      <th></th>\n",
       "      <th></th>\n",
       "      <th></th>\n",
       "      <th></th>\n",
       "      <th></th>\n",
       "      <th></th>\n",
       "      <th></th>\n",
       "      <th>virus_rep</th>\n",
       "      <th colspan=\"3\" halign=\"left\">0</th>\n",
       "      <th colspan=\"3\" halign=\"left\">1</th>\n",
       "      <th colspan=\"3\" halign=\"left\">2</th>\n",
       "      <th colspan=\"3\" halign=\"left\">0</th>\n",
       "      <th>14</th>\n",
       "      <th>15</th>\n",
       "      <th>14</th>\n",
       "      <th>15</th>\n",
       "      <th colspan=\"2\" halign=\"left\">3</th>\n",
       "      <th colspan=\"2\" halign=\"left\">4</th>\n",
       "    </tr>\n",
       "    <tr>\n",
       "      <th></th>\n",
       "      <th></th>\n",
       "      <th></th>\n",
       "      <th></th>\n",
       "      <th></th>\n",
       "      <th></th>\n",
       "      <th></th>\n",
       "      <th></th>\n",
       "      <th></th>\n",
       "      <th></th>\n",
       "      <th>tech_rep</th>\n",
       "      <th>p-a</th>\n",
       "      <th>p-b</th>\n",
       "      <th>p-c</th>\n",
       "      <th colspan=\"2\" halign=\"left\">a</th>\n",
       "      <th>b</th>\n",
       "      <th colspan=\"2\" halign=\"left\">a</th>\n",
       "      <th>b</th>\n",
       "      <th>p-a</th>\n",
       "      <th>p-b</th>\n",
       "      <th>p-c</th>\n",
       "      <th>p-a</th>\n",
       "      <th>p-a</th>\n",
       "      <th>d</th>\n",
       "      <th>e</th>\n",
       "      <th colspan=\"2\" halign=\"left\">c</th>\n",
       "      <th colspan=\"2\" halign=\"left\">c</th>\n",
       "    </tr>\n",
       "    <tr>\n",
       "      <th></th>\n",
       "      <th></th>\n",
       "      <th></th>\n",
       "      <th></th>\n",
       "      <th></th>\n",
       "      <th></th>\n",
       "      <th></th>\n",
       "      <th></th>\n",
       "      <th></th>\n",
       "      <th></th>\n",
       "      <th>measurement</th>\n",
       "      <th>count</th>\n",
       "      <th>count</th>\n",
       "      <th>count</th>\n",
       "      <th colspan=\"2\" halign=\"left\">count</th>\n",
       "      <th>count</th>\n",
       "      <th colspan=\"2\" halign=\"left\">count</th>\n",
       "      <th>count</th>\n",
       "      <th>count</th>\n",
       "      <th>count</th>\n",
       "      <th>count</th>\n",
       "      <th>count</th>\n",
       "      <th>count</th>\n",
       "      <th>count</th>\n",
       "      <th>count</th>\n",
       "      <th colspan=\"2\" halign=\"left\">count</th>\n",
       "      <th colspan=\"2\" halign=\"left\">count</th>\n",
       "    </tr>\n",
       "    <tr>\n",
       "      <th></th>\n",
       "      <th></th>\n",
       "      <th></th>\n",
       "      <th></th>\n",
       "      <th></th>\n",
       "      <th></th>\n",
       "      <th></th>\n",
       "      <th></th>\n",
       "      <th></th>\n",
       "      <th></th>\n",
       "      <th>gen_id</th>\n",
       "      <th>GEN00105092</th>\n",
       "      <th>GEN00113847</th>\n",
       "      <th>GEN00113848</th>\n",
       "      <th>GEN00105095</th>\n",
       "      <th>GEN00105099</th>\n",
       "      <th>GEN00105101</th>\n",
       "      <th>GEN00105096</th>\n",
       "      <th>GEN00105100</th>\n",
       "      <th>GEN00105102</th>\n",
       "      <th>GEN00105091</th>\n",
       "      <th>GEN00113849</th>\n",
       "      <th>GEN00113850</th>\n",
       "      <th>GEN00105087</th>\n",
       "      <th>GEN00105088</th>\n",
       "      <th>GEN00105089</th>\n",
       "      <th>GEN00105090</th>\n",
       "      <th>GEN00105093</th>\n",
       "      <th>GEN00105097</th>\n",
       "      <th>GEN00105094</th>\n",
       "      <th>GEN00105098</th>\n",
       "    </tr>\n",
       "    <tr>\n",
       "      <th>abs_pos</th>\n",
       "      <th>tile_num</th>\n",
       "      <th>aa</th>\n",
       "      <th>is_wt_aa</th>\n",
       "      <th>is_wt_codon</th>\n",
       "      <th>wt_bc</th>\n",
       "      <th>lib_type</th>\n",
       "      <th>enzyme</th>\n",
       "      <th>codon</th>\n",
       "      <th>aa-codon</th>\n",
       "      <th>barcode</th>\n",
       "      <th></th>\n",
       "      <th></th>\n",
       "      <th></th>\n",
       "      <th></th>\n",
       "      <th></th>\n",
       "      <th></th>\n",
       "      <th></th>\n",
       "      <th></th>\n",
       "      <th></th>\n",
       "      <th></th>\n",
       "      <th></th>\n",
       "      <th></th>\n",
       "      <th></th>\n",
       "      <th></th>\n",
       "      <th></th>\n",
       "      <th></th>\n",
       "      <th></th>\n",
       "      <th></th>\n",
       "      <th></th>\n",
       "      <th></th>\n",
       "    </tr>\n",
       "  </thead>\n",
       "  <tbody>\n",
       "    <tr>\n",
       "      <th rowspan=\"5\" valign=\"top\">1.0</th>\n",
       "      <th rowspan=\"5\" valign=\"top\">0.0</th>\n",
       "      <th rowspan=\"5\" valign=\"top\">*</th>\n",
       "      <th rowspan=\"5\" valign=\"top\">0</th>\n",
       "      <th rowspan=\"5\" valign=\"top\">0</th>\n",
       "      <th rowspan=\"5\" valign=\"top\">0</th>\n",
       "      <th rowspan=\"5\" valign=\"top\">sub</th>\n",
       "      <th rowspan=\"5\" valign=\"top\">bbsi</th>\n",
       "      <th rowspan=\"2\" valign=\"top\">TAA</th>\n",
       "      <th rowspan=\"2\" valign=\"top\">*-TAA</th>\n",
       "      <th>CACTGTCACACACTGACACT</th>\n",
       "      <td>574.0</td>\n",
       "      <td>556.0</td>\n",
       "      <td>560.0</td>\n",
       "      <td>401.0</td>\n",
       "      <td>253.0</td>\n",
       "      <td>258.0</td>\n",
       "      <td>107.0</td>\n",
       "      <td>106.0</td>\n",
       "      <td>167.0</td>\n",
       "      <td>606.0</td>\n",
       "      <td>641.0</td>\n",
       "      <td>680.0</td>\n",
       "      <td>52.0</td>\n",
       "      <td>NaN</td>\n",
       "      <td>40.0</td>\n",
       "      <td>NaN</td>\n",
       "      <td>347.0</td>\n",
       "      <td>415.0</td>\n",
       "      <td>354.0</td>\n",
       "      <td>206.0</td>\n",
       "    </tr>\n",
       "    <tr>\n",
       "      <th>CTGTGAGTGTGAGAGACACT</th>\n",
       "      <td>685.0</td>\n",
       "      <td>600.0</td>\n",
       "      <td>603.0</td>\n",
       "      <td>311.0</td>\n",
       "      <td>355.0</td>\n",
       "      <td>267.0</td>\n",
       "      <td>38.0</td>\n",
       "      <td>111.0</td>\n",
       "      <td>141.0</td>\n",
       "      <td>567.0</td>\n",
       "      <td>562.0</td>\n",
       "      <td>575.0</td>\n",
       "      <td>NaN</td>\n",
       "      <td>NaN</td>\n",
       "      <td>NaN</td>\n",
       "      <td>NaN</td>\n",
       "      <td>626.0</td>\n",
       "      <td>709.0</td>\n",
       "      <td>373.0</td>\n",
       "      <td>179.0</td>\n",
       "    </tr>\n",
       "    <tr>\n",
       "      <th rowspan=\"2\" valign=\"top\">TAG</th>\n",
       "      <th rowspan=\"2\" valign=\"top\">*-TAG</th>\n",
       "      <th>CTCTCACACAGTGAGTCTGA</th>\n",
       "      <td>112.0</td>\n",
       "      <td>59.0</td>\n",
       "      <td>94.0</td>\n",
       "      <td>737.0</td>\n",
       "      <td>36.0</td>\n",
       "      <td>20.0</td>\n",
       "      <td>249.0</td>\n",
       "      <td>7.0</td>\n",
       "      <td>9.0</td>\n",
       "      <td>106.0</td>\n",
       "      <td>74.0</td>\n",
       "      <td>134.0</td>\n",
       "      <td>NaN</td>\n",
       "      <td>NaN</td>\n",
       "      <td>NaN</td>\n",
       "      <td>NaN</td>\n",
       "      <td>63.0</td>\n",
       "      <td>32.0</td>\n",
       "      <td>56.0</td>\n",
       "      <td>13.0</td>\n",
       "    </tr>\n",
       "    <tr>\n",
       "      <th>CAGAGACAGAGTCTGTCACT</th>\n",
       "      <td>128.0</td>\n",
       "      <td>145.0</td>\n",
       "      <td>96.0</td>\n",
       "      <td>120.0</td>\n",
       "      <td>85.0</td>\n",
       "      <td>43.0</td>\n",
       "      <td>22.0</td>\n",
       "      <td>24.0</td>\n",
       "      <td>16.0</td>\n",
       "      <td>108.0</td>\n",
       "      <td>111.0</td>\n",
       "      <td>95.0</td>\n",
       "      <td>NaN</td>\n",
       "      <td>NaN</td>\n",
       "      <td>NaN</td>\n",
       "      <td>NaN</td>\n",
       "      <td>137.0</td>\n",
       "      <td>118.0</td>\n",
       "      <td>62.0</td>\n",
       "      <td>33.0</td>\n",
       "    </tr>\n",
       "    <tr>\n",
       "      <th>TGA</th>\n",
       "      <th>*-TGA</th>\n",
       "      <th>ACACTGTCTCTGTCAGACAG</th>\n",
       "      <td>1077.0</td>\n",
       "      <td>1127.0</td>\n",
       "      <td>936.0</td>\n",
       "      <td>612.0</td>\n",
       "      <td>397.0</td>\n",
       "      <td>331.0</td>\n",
       "      <td>205.0</td>\n",
       "      <td>137.0</td>\n",
       "      <td>241.0</td>\n",
       "      <td>853.0</td>\n",
       "      <td>920.0</td>\n",
       "      <td>1122.0</td>\n",
       "      <td>NaN</td>\n",
       "      <td>NaN</td>\n",
       "      <td>NaN</td>\n",
       "      <td>NaN</td>\n",
       "      <td>460.0</td>\n",
       "      <td>876.0</td>\n",
       "      <td>538.0</td>\n",
       "      <td>275.0</td>\n",
       "    </tr>\n",
       "  </tbody>\n",
       "</table>\n",
       "</div>"
      ],
      "text/plain": [
       "promoter                                                                                                   CMV  \\\n",
       "source                                                                                                 plasmid   \n",
       "virus_rep                                                                                                    0   \n",
       "tech_rep                                                                                                   p-a   \n",
       "measurement                                                                                              count   \n",
       "gen_id                                                                                             GEN00105092   \n",
       "abs_pos tile_num aa is_wt_aa is_wt_codon wt_bc lib_type enzyme codon aa-codon barcode                            \n",
       "1.0     0.0      *  0        0           0     sub      bbsi   TAA   *-TAA    CACTGTCACACACTGACACT       574.0   \n",
       "                                                                              CTGTGAGTGTGAGAGACACT       685.0   \n",
       "                                                               TAG   *-TAG    CTCTCACACAGTGAGTCTGA       112.0   \n",
       "                                                                              CAGAGACAGAGTCTGTCACT       128.0   \n",
       "                                                               TGA   *-TGA    ACACTGTCTCTGTCAGACAG      1077.0   \n",
       "\n",
       "promoter                                                                                                        \\\n",
       "source                                                                                                           \n",
       "virus_rep                                                                                                        \n",
       "tech_rep                                                                                                   p-b   \n",
       "measurement                                                                                              count   \n",
       "gen_id                                                                                             GEN00113847   \n",
       "abs_pos tile_num aa is_wt_aa is_wt_codon wt_bc lib_type enzyme codon aa-codon barcode                            \n",
       "1.0     0.0      *  0        0           0     sub      bbsi   TAA   *-TAA    CACTGTCACACACTGACACT       556.0   \n",
       "                                                                              CTGTGAGTGTGAGAGACACT       600.0   \n",
       "                                                               TAG   *-TAG    CTCTCACACAGTGAGTCTGA        59.0   \n",
       "                                                                              CAGAGACAGAGTCTGTCACT       145.0   \n",
       "                                                               TGA   *-TGA    ACACTGTCTCTGTCAGACAG      1127.0   \n",
       "\n",
       "promoter                                                                                                        \\\n",
       "source                                                                                                           \n",
       "virus_rep                                                                                                        \n",
       "tech_rep                                                                                                   p-c   \n",
       "measurement                                                                                              count   \n",
       "gen_id                                                                                             GEN00113848   \n",
       "abs_pos tile_num aa is_wt_aa is_wt_codon wt_bc lib_type enzyme codon aa-codon barcode                            \n",
       "1.0     0.0      *  0        0           0     sub      bbsi   TAA   *-TAA    CACTGTCACACACTGACACT       560.0   \n",
       "                                                                              CTGTGAGTGTGAGAGACACT       603.0   \n",
       "                                                               TAG   *-TAG    CTCTCACACAGTGAGTCTGA        94.0   \n",
       "                                                                              CAGAGACAGAGTCTGTCACT        96.0   \n",
       "                                                               TGA   *-TGA    ACACTGTCTCTGTCAGACAG       936.0   \n",
       "\n",
       "promoter                                                                                                        \\\n",
       "source                                                                                                   virus   \n",
       "virus_rep                                                                                                    1   \n",
       "tech_rep                                                                                                     a   \n",
       "measurement                                                                                              count   \n",
       "gen_id                                                                                             GEN00105095   \n",
       "abs_pos tile_num aa is_wt_aa is_wt_codon wt_bc lib_type enzyme codon aa-codon barcode                            \n",
       "1.0     0.0      *  0        0           0     sub      bbsi   TAA   *-TAA    CACTGTCACACACTGACACT       401.0   \n",
       "                                                                              CTGTGAGTGTGAGAGACACT       311.0   \n",
       "                                                               TAG   *-TAG    CTCTCACACAGTGAGTCTGA       737.0   \n",
       "                                                                              CAGAGACAGAGTCTGTCACT       120.0   \n",
       "                                                               TGA   *-TGA    ACACTGTCTCTGTCAGACAG       612.0   \n",
       "\n",
       "promoter                                                                                                        \\\n",
       "source                                                                                                           \n",
       "virus_rep                                                                                                        \n",
       "tech_rep                                                                                                         \n",
       "measurement                                                                                                      \n",
       "gen_id                                                                                             GEN00105099   \n",
       "abs_pos tile_num aa is_wt_aa is_wt_codon wt_bc lib_type enzyme codon aa-codon barcode                            \n",
       "1.0     0.0      *  0        0           0     sub      bbsi   TAA   *-TAA    CACTGTCACACACTGACACT       253.0   \n",
       "                                                                              CTGTGAGTGTGAGAGACACT       355.0   \n",
       "                                                               TAG   *-TAG    CTCTCACACAGTGAGTCTGA        36.0   \n",
       "                                                                              CAGAGACAGAGTCTGTCACT        85.0   \n",
       "                                                               TGA   *-TGA    ACACTGTCTCTGTCAGACAG       397.0   \n",
       "\n",
       "promoter                                                                                                        \\\n",
       "source                                                                                                           \n",
       "virus_rep                                                                                                        \n",
       "tech_rep                                                                                                     b   \n",
       "measurement                                                                                              count   \n",
       "gen_id                                                                                             GEN00105101   \n",
       "abs_pos tile_num aa is_wt_aa is_wt_codon wt_bc lib_type enzyme codon aa-codon barcode                            \n",
       "1.0     0.0      *  0        0           0     sub      bbsi   TAA   *-TAA    CACTGTCACACACTGACACT       258.0   \n",
       "                                                                              CTGTGAGTGTGAGAGACACT       267.0   \n",
       "                                                               TAG   *-TAG    CTCTCACACAGTGAGTCTGA        20.0   \n",
       "                                                                              CAGAGACAGAGTCTGTCACT        43.0   \n",
       "                                                               TGA   *-TGA    ACACTGTCTCTGTCAGACAG       331.0   \n",
       "\n",
       "promoter                                                                                                        \\\n",
       "source                                                                                                           \n",
       "virus_rep                                                                                                    2   \n",
       "tech_rep                                                                                                     a   \n",
       "measurement                                                                                              count   \n",
       "gen_id                                                                                             GEN00105096   \n",
       "abs_pos tile_num aa is_wt_aa is_wt_codon wt_bc lib_type enzyme codon aa-codon barcode                            \n",
       "1.0     0.0      *  0        0           0     sub      bbsi   TAA   *-TAA    CACTGTCACACACTGACACT       107.0   \n",
       "                                                                              CTGTGAGTGTGAGAGACACT        38.0   \n",
       "                                                               TAG   *-TAG    CTCTCACACAGTGAGTCTGA       249.0   \n",
       "                                                                              CAGAGACAGAGTCTGTCACT        22.0   \n",
       "                                                               TGA   *-TGA    ACACTGTCTCTGTCAGACAG       205.0   \n",
       "\n",
       "promoter                                                                                                        \\\n",
       "source                                                                                                           \n",
       "virus_rep                                                                                                        \n",
       "tech_rep                                                                                                         \n",
       "measurement                                                                                                      \n",
       "gen_id                                                                                             GEN00105100   \n",
       "abs_pos tile_num aa is_wt_aa is_wt_codon wt_bc lib_type enzyme codon aa-codon barcode                            \n",
       "1.0     0.0      *  0        0           0     sub      bbsi   TAA   *-TAA    CACTGTCACACACTGACACT       106.0   \n",
       "                                                                              CTGTGAGTGTGAGAGACACT       111.0   \n",
       "                                                               TAG   *-TAG    CTCTCACACAGTGAGTCTGA         7.0   \n",
       "                                                                              CAGAGACAGAGTCTGTCACT        24.0   \n",
       "                                                               TGA   *-TGA    ACACTGTCTCTGTCAGACAG       137.0   \n",
       "\n",
       "promoter                                                                                                        \\\n",
       "source                                                                                                           \n",
       "virus_rep                                                                                                        \n",
       "tech_rep                                                                                                     b   \n",
       "measurement                                                                                              count   \n",
       "gen_id                                                                                             GEN00105102   \n",
       "abs_pos tile_num aa is_wt_aa is_wt_codon wt_bc lib_type enzyme codon aa-codon barcode                            \n",
       "1.0     0.0      *  0        0           0     sub      bbsi   TAA   *-TAA    CACTGTCACACACTGACACT       167.0   \n",
       "                                                                              CTGTGAGTGTGAGAGACACT       141.0   \n",
       "                                                               TAG   *-TAG    CTCTCACACAGTGAGTCTGA         9.0   \n",
       "                                                                              CAGAGACAGAGTCTGTCACT        16.0   \n",
       "                                                               TGA   *-TGA    ACACTGTCTCTGTCAGACAG       241.0   \n",
       "\n",
       "promoter                                                                                                   Rep  \\\n",
       "source                                                                                                 plasmid   \n",
       "virus_rep                                                                                                    0   \n",
       "tech_rep                                                                                                   p-a   \n",
       "measurement                                                                                              count   \n",
       "gen_id                                                                                             GEN00105091   \n",
       "abs_pos tile_num aa is_wt_aa is_wt_codon wt_bc lib_type enzyme codon aa-codon barcode                            \n",
       "1.0     0.0      *  0        0           0     sub      bbsi   TAA   *-TAA    CACTGTCACACACTGACACT       606.0   \n",
       "                                                                              CTGTGAGTGTGAGAGACACT       567.0   \n",
       "                                                               TAG   *-TAG    CTCTCACACAGTGAGTCTGA       106.0   \n",
       "                                                                              CAGAGACAGAGTCTGTCACT       108.0   \n",
       "                                                               TGA   *-TGA    ACACTGTCTCTGTCAGACAG       853.0   \n",
       "\n",
       "promoter                                                                                                        \\\n",
       "source                                                                                                           \n",
       "virus_rep                                                                                                        \n",
       "tech_rep                                                                                                   p-b   \n",
       "measurement                                                                                              count   \n",
       "gen_id                                                                                             GEN00113849   \n",
       "abs_pos tile_num aa is_wt_aa is_wt_codon wt_bc lib_type enzyme codon aa-codon barcode                            \n",
       "1.0     0.0      *  0        0           0     sub      bbsi   TAA   *-TAA    CACTGTCACACACTGACACT       641.0   \n",
       "                                                                              CTGTGAGTGTGAGAGACACT       562.0   \n",
       "                                                               TAG   *-TAG    CTCTCACACAGTGAGTCTGA        74.0   \n",
       "                                                                              CAGAGACAGAGTCTGTCACT       111.0   \n",
       "                                                               TGA   *-TGA    ACACTGTCTCTGTCAGACAG       920.0   \n",
       "\n",
       "promoter                                                                                                        \\\n",
       "source                                                                                                           \n",
       "virus_rep                                                                                                        \n",
       "tech_rep                                                                                                   p-c   \n",
       "measurement                                                                                              count   \n",
       "gen_id                                                                                             GEN00113850   \n",
       "abs_pos tile_num aa is_wt_aa is_wt_codon wt_bc lib_type enzyme codon aa-codon barcode                            \n",
       "1.0     0.0      *  0        0           0     sub      bbsi   TAA   *-TAA    CACTGTCACACACTGACACT       680.0   \n",
       "                                                                              CTGTGAGTGTGAGAGACACT       575.0   \n",
       "                                                               TAG   *-TAG    CTCTCACACAGTGAGTCTGA       134.0   \n",
       "                                                                              CAGAGACAGAGTCTGTCACT        95.0   \n",
       "                                                               TGA   *-TGA    ACACTGTCTCTGTCAGACAG      1122.0   \n",
       "\n",
       "promoter                                                                                                        \\\n",
       "source                                                                                                           \n",
       "virus_rep                                                                                                   14   \n",
       "tech_rep                                                                                                   p-a   \n",
       "measurement                                                                                              count   \n",
       "gen_id                                                                                             GEN00105087   \n",
       "abs_pos tile_num aa is_wt_aa is_wt_codon wt_bc lib_type enzyme codon aa-codon barcode                            \n",
       "1.0     0.0      *  0        0           0     sub      bbsi   TAA   *-TAA    CACTGTCACACACTGACACT        52.0   \n",
       "                                                                              CTGTGAGTGTGAGAGACACT         NaN   \n",
       "                                                               TAG   *-TAG    CTCTCACACAGTGAGTCTGA         NaN   \n",
       "                                                                              CAGAGACAGAGTCTGTCACT         NaN   \n",
       "                                                               TGA   *-TGA    ACACTGTCTCTGTCAGACAG         NaN   \n",
       "\n",
       "promoter                                                                                                        \\\n",
       "source                                                                                                           \n",
       "virus_rep                                                                                                   15   \n",
       "tech_rep                                                                                                   p-a   \n",
       "measurement                                                                                              count   \n",
       "gen_id                                                                                             GEN00105088   \n",
       "abs_pos tile_num aa is_wt_aa is_wt_codon wt_bc lib_type enzyme codon aa-codon barcode                            \n",
       "1.0     0.0      *  0        0           0     sub      bbsi   TAA   *-TAA    CACTGTCACACACTGACACT         NaN   \n",
       "                                                                              CTGTGAGTGTGAGAGACACT         NaN   \n",
       "                                                               TAG   *-TAG    CTCTCACACAGTGAGTCTGA         NaN   \n",
       "                                                                              CAGAGACAGAGTCTGTCACT         NaN   \n",
       "                                                               TGA   *-TGA    ACACTGTCTCTGTCAGACAG         NaN   \n",
       "\n",
       "promoter                                                                                                        \\\n",
       "source                                                                                                   virus   \n",
       "virus_rep                                                                                                   14   \n",
       "tech_rep                                                                                                     d   \n",
       "measurement                                                                                              count   \n",
       "gen_id                                                                                             GEN00105089   \n",
       "abs_pos tile_num aa is_wt_aa is_wt_codon wt_bc lib_type enzyme codon aa-codon barcode                            \n",
       "1.0     0.0      *  0        0           0     sub      bbsi   TAA   *-TAA    CACTGTCACACACTGACACT        40.0   \n",
       "                                                                              CTGTGAGTGTGAGAGACACT         NaN   \n",
       "                                                               TAG   *-TAG    CTCTCACACAGTGAGTCTGA         NaN   \n",
       "                                                                              CAGAGACAGAGTCTGTCACT         NaN   \n",
       "                                                               TGA   *-TGA    ACACTGTCTCTGTCAGACAG         NaN   \n",
       "\n",
       "promoter                                                                                                        \\\n",
       "source                                                                                                           \n",
       "virus_rep                                                                                                   15   \n",
       "tech_rep                                                                                                     e   \n",
       "measurement                                                                                              count   \n",
       "gen_id                                                                                             GEN00105090   \n",
       "abs_pos tile_num aa is_wt_aa is_wt_codon wt_bc lib_type enzyme codon aa-codon barcode                            \n",
       "1.0     0.0      *  0        0           0     sub      bbsi   TAA   *-TAA    CACTGTCACACACTGACACT         NaN   \n",
       "                                                                              CTGTGAGTGTGAGAGACACT         NaN   \n",
       "                                                               TAG   *-TAG    CTCTCACACAGTGAGTCTGA         NaN   \n",
       "                                                                              CAGAGACAGAGTCTGTCACT         NaN   \n",
       "                                                               TGA   *-TGA    ACACTGTCTCTGTCAGACAG         NaN   \n",
       "\n",
       "promoter                                                                                                        \\\n",
       "source                                                                                                           \n",
       "virus_rep                                                                                                    3   \n",
       "tech_rep                                                                                                     c   \n",
       "measurement                                                                                              count   \n",
       "gen_id                                                                                             GEN00105093   \n",
       "abs_pos tile_num aa is_wt_aa is_wt_codon wt_bc lib_type enzyme codon aa-codon barcode                            \n",
       "1.0     0.0      *  0        0           0     sub      bbsi   TAA   *-TAA    CACTGTCACACACTGACACT       347.0   \n",
       "                                                                              CTGTGAGTGTGAGAGACACT       626.0   \n",
       "                                                               TAG   *-TAG    CTCTCACACAGTGAGTCTGA        63.0   \n",
       "                                                                              CAGAGACAGAGTCTGTCACT       137.0   \n",
       "                                                               TGA   *-TGA    ACACTGTCTCTGTCAGACAG       460.0   \n",
       "\n",
       "promoter                                                                                                        \\\n",
       "source                                                                                                           \n",
       "virus_rep                                                                                                        \n",
       "tech_rep                                                                                                         \n",
       "measurement                                                                                                      \n",
       "gen_id                                                                                             GEN00105097   \n",
       "abs_pos tile_num aa is_wt_aa is_wt_codon wt_bc lib_type enzyme codon aa-codon barcode                            \n",
       "1.0     0.0      *  0        0           0     sub      bbsi   TAA   *-TAA    CACTGTCACACACTGACACT       415.0   \n",
       "                                                                              CTGTGAGTGTGAGAGACACT       709.0   \n",
       "                                                               TAG   *-TAG    CTCTCACACAGTGAGTCTGA        32.0   \n",
       "                                                                              CAGAGACAGAGTCTGTCACT       118.0   \n",
       "                                                               TGA   *-TGA    ACACTGTCTCTGTCAGACAG       876.0   \n",
       "\n",
       "promoter                                                                                                        \\\n",
       "source                                                                                                           \n",
       "virus_rep                                                                                                    4   \n",
       "tech_rep                                                                                                     c   \n",
       "measurement                                                                                              count   \n",
       "gen_id                                                                                             GEN00105094   \n",
       "abs_pos tile_num aa is_wt_aa is_wt_codon wt_bc lib_type enzyme codon aa-codon barcode                            \n",
       "1.0     0.0      *  0        0           0     sub      bbsi   TAA   *-TAA    CACTGTCACACACTGACACT       354.0   \n",
       "                                                                              CTGTGAGTGTGAGAGACACT       373.0   \n",
       "                                                               TAG   *-TAG    CTCTCACACAGTGAGTCTGA        56.0   \n",
       "                                                                              CAGAGACAGAGTCTGTCACT        62.0   \n",
       "                                                               TGA   *-TGA    ACACTGTCTCTGTCAGACAG       538.0   \n",
       "\n",
       "promoter                                                                                                        \n",
       "source                                                                                                          \n",
       "virus_rep                                                                                                       \n",
       "tech_rep                                                                                                        \n",
       "measurement                                                                                                     \n",
       "gen_id                                                                                             GEN00105098  \n",
       "abs_pos tile_num aa is_wt_aa is_wt_codon wt_bc lib_type enzyme codon aa-codon barcode                           \n",
       "1.0     0.0      *  0        0           0     sub      bbsi   TAA   *-TAA    CACTGTCACACACTGACACT       206.0  \n",
       "                                                                              CTGTGAGTGTGAGAGACACT       179.0  \n",
       "                                                               TAG   *-TAG    CTCTCACACAGTGAGTCTGA        13.0  \n",
       "                                                                              CAGAGACAGAGTCTGTCACT        33.0  \n",
       "                                                               TGA   *-TGA    ACACTGTCTCTGTCAGACAG       275.0  "
      ]
     },
     "execution_count": 2,
     "metadata": {},
     "output_type": "execute_result"
    }
   ],
   "source": [
    "packaging_counts = x02_load_dataframes.load_packaging_df()\n",
    "packaging_counts.head()"
   ]
  },
  {
   "cell_type": "markdown",
   "metadata": {},
   "source": [
    "### how often each mutation is seen in terms of amino acid / codon / barcode "
   ]
  },
  {
   "cell_type": "code",
   "execution_count": 3,
   "metadata": {},
   "outputs": [
    {
     "name": "stdout",
     "output_type": "stream",
     "text": [
      "203761 barcodes seen of 207168.0 total barcodes, Percent: 98.355\n"
     ]
    }
   ],
   "source": [
    "packaging_counts_plasmid = packaging_counts.loc[:,pd_idx['CMV','plasmid','0']].sum(axis=1).reset_index()\n",
    "barcodes_seen = packaging_counts_plasmid[packaging_counts_plasmid[0]>0][0].count()\n",
    "barcodes_total = float(packaging_counts_plasmid[0].count())\n",
    "barcodes_percent = barcodes_seen / barcodes_total\n",
    "print (\"%s barcodes seen of %s total barcodes, Percent: %.3f\" % (barcodes_seen,barcodes_total,100*barcodes_percent))"
   ]
  },
  {
   "cell_type": "code",
   "execution_count": 4,
   "metadata": {},
   "outputs": [
    {
     "name": "stdout",
     "output_type": "stream",
     "text": [
      "203761 barcodes seen of 207168.0 total barcodes, Percent: 98.355\n"
     ]
    }
   ],
   "source": [
    "packaging_counts_plasmid = packaging_counts.loc[:,pd_idx['CMV','plasmid','0']].sum(axis=1).reset_index()\n",
    "barcodes_seen = packaging_counts_plasmid[packaging_counts_plasmid[0]>0][0].count()\n",
    "barcodes_total = float(packaging_counts_plasmid[0].count())\n",
    "barcodes_percent = barcodes_seen / barcodes_total\n",
    "print (\"%s barcodes seen of %s total barcodes, Percent: %.3f\" % (barcodes_seen,barcodes_total,100*barcodes_percent))"
   ]
  },
  {
   "cell_type": "code",
   "execution_count": 5,
   "metadata": {},
   "outputs": [
    {
     "name": "stdout",
     "output_type": "stream",
     "text": [
      "94054 codons seen of 94110 total codons, Percent: 99.940\n"
     ]
    }
   ],
   "source": [
    "codon_count = packaging_counts_plasmid.groupby(['abs_pos', 'codon','tile_num'])[0].sum()\n",
    "print (\"%s codons seen of %s total codons, Percent: %.3f\" % (\n",
    "    codon_count[codon_count>0].count(), codon_count.count() , 100*(codon_count[codon_count>0].count() / float(codon_count.count()))))"
   ]
  },
  {
   "cell_type": "code",
   "execution_count": 6,
   "metadata": {},
   "outputs": [
    {
     "name": "stdout",
     "output_type": "stream",
     "text": [
      "31598 AA seen of 31599 total AA, Percent: 99.997\n"
     ]
    }
   ],
   "source": [
    "aa_count = packaging_counts_plasmid.groupby(['abs_pos', 'aa','tile_num'])[0].sum()\n",
    "print (\"%s AA seen of %s total AA, Percent: %.3f\" % (\n",
    "    aa_count[aa_count>0].count(), aa_count.count() , 100*(aa_count[aa_count>0].count() / float(aa_count.count()))))"
   ]
  },
  {
   "cell_type": "markdown",
   "metadata": {},
   "source": [
    "### distribution of counts (Fig. S2A)"
   ]
  },
  {
   "cell_type": "code",
   "execution_count": 7,
   "metadata": {},
   "outputs": [
    {
     "name": "stdout",
     "output_type": "stream",
     "text": [
      "Total Reads: 1.344e+08\n",
      "Average read number per barcode: 6.487e+02\n"
     ]
    },
    {
     "data": {
      "image/png": "[encoded data removed]",
      "text/plain": [
       "<matplotlib.figure.Figure at 0x7f8c3246fe48>"
      ]
     },
     "metadata": {
      "needs_background": "light"
     },
     "output_type": "display_data"
    }
   ],
   "source": [
    "fig,ax =plt.subplots(figsize=(1.5,1.5))\n",
    "\n",
    "sns.distplot(packaging_counts_plasmid[packaging_counts_plasmid[0]>0][0].dropna().apply(np.log10), ax=ax)\n",
    "ax.set_xlabel('log10 - Mutant Count ')\n",
    "ax.set_ylabel('Density')\n",
    "\n",
    "print (\"Total Reads: %.3e\" % packaging_counts_plasmid[0].sum())\n",
    "print (\"Average read number per barcode: %.3e\"  % packaging_counts_plasmid[0].mean())"
   ]
  },
  {
   "cell_type": "markdown",
   "metadata": {},
   "source": [
    "### Comparison of plasmid frequency to count frequency (Fig. 1B)"
   ]
  },
  {
   "cell_type": "code",
   "execution_count": 8,
   "metadata": {},
   "outputs": [],
   "source": [
    "def correlation_plot(x, y,\n",
    "                     scatter_kwargs={}, plot_kwargs={}):\n",
    "    plt.scatter(x, y, **scatter_kwargs)\n",
    "    slope, intercept, r_value, p_value, std_err = stats.linregress(x, y)\n",
    "    line_x = np.arange(-8.5,-2.5)\n",
    "    line_y = slope*line_x + intercept\n",
    "    plt.plot(line_x, line_y, **plot_kwargs)"
   ]
  },
  {
   "cell_type": "markdown",
   "metadata": {},
   "source": [
    "first determine the frequencies for plotting, along with wilt type normalziation for point color"
   ]
  },
  {
   "cell_type": "code",
   "execution_count": 9,
   "metadata": {},
   "outputs": [
    {
     "data": {
      "text/html": [
       "<div>\n",
       "<style scoped>\n",
       "    .dataframe tbody tr th:only-of-type {\n",
       "        vertical-align: middle;\n",
       "    }\n",
       "\n",
       "    .dataframe tbody tr th {\n",
       "        vertical-align: top;\n",
       "    }\n",
       "\n",
       "    .dataframe thead th {\n",
       "        text-align: right;\n",
       "    }\n",
       "</style>\n",
       "<table border=\"1\" class=\"dataframe\">\n",
       "  <thead>\n",
       "    <tr style=\"text-align: right;\">\n",
       "      <th></th>\n",
       "      <th></th>\n",
       "      <th></th>\n",
       "      <th></th>\n",
       "      <th></th>\n",
       "      <th></th>\n",
       "      <th></th>\n",
       "      <th></th>\n",
       "      <th></th>\n",
       "      <th></th>\n",
       "      <th>source</th>\n",
       "      <th>plasmid</th>\n",
       "      <th>virus</th>\n",
       "      <th>selection</th>\n",
       "      <th>selection_wt_norm</th>\n",
       "    </tr>\n",
       "    <tr>\n",
       "      <th>abs_pos</th>\n",
       "      <th>tile_num</th>\n",
       "      <th>aa</th>\n",
       "      <th>is_wt_aa</th>\n",
       "      <th>is_wt_codon</th>\n",
       "      <th>wt_bc</th>\n",
       "      <th>lib_type</th>\n",
       "      <th>enzyme</th>\n",
       "      <th>codon</th>\n",
       "      <th>aa-codon</th>\n",
       "      <th>barcode</th>\n",
       "      <th></th>\n",
       "      <th></th>\n",
       "      <th></th>\n",
       "      <th></th>\n",
       "    </tr>\n",
       "  </thead>\n",
       "  <tbody>\n",
       "    <tr>\n",
       "      <th>526.0</th>\n",
       "      <th>13.0</th>\n",
       "      <th>I</th>\n",
       "      <th>0</th>\n",
       "      <th>0</th>\n",
       "      <th>0</th>\n",
       "      <th>sub</th>\n",
       "      <th>bbsi</th>\n",
       "      <th>ATA</th>\n",
       "      <th>I-ATA</th>\n",
       "      <th>TGTGACAGAGACAGACACAC</th>\n",
       "      <td>-5.354551</td>\n",
       "      <td>-4.394210</td>\n",
       "      <td>0.960341</td>\n",
       "      <td>0.509791</td>\n",
       "    </tr>\n",
       "    <tr>\n",
       "      <th>525.0</th>\n",
       "      <th>13.0</th>\n",
       "      <th>S</th>\n",
       "      <th>0</th>\n",
       "      <th>0</th>\n",
       "      <th>0</th>\n",
       "      <th>sub</th>\n",
       "      <th>bbsi</th>\n",
       "      <th>AGT</th>\n",
       "      <th>S-AGT</th>\n",
       "      <th>GTCACTCAGTCACTGACTGA</th>\n",
       "      <td>-5.588008</td>\n",
       "      <td>-4.968020</td>\n",
       "      <td>0.619988</td>\n",
       "      <td>0.169437</td>\n",
       "    </tr>\n",
       "    <tr>\n",
       "      <th>50.0</th>\n",
       "      <th>1.0</th>\n",
       "      <th>I</th>\n",
       "      <th>0</th>\n",
       "      <th>0</th>\n",
       "      <th>0</th>\n",
       "      <th>sub</th>\n",
       "      <th>bbsi</th>\n",
       "      <th>ATA</th>\n",
       "      <th>I-ATA</th>\n",
       "      <th>CACACACTCAGAGTCTGACA</th>\n",
       "      <td>-5.935213</td>\n",
       "      <td>-6.445142</td>\n",
       "      <td>-0.509929</td>\n",
       "      <td>-0.960479</td>\n",
       "    </tr>\n",
       "    <tr>\n",
       "      <th>675.5</th>\n",
       "      <th>17.0</th>\n",
       "      <th>Y</th>\n",
       "      <th>0</th>\n",
       "      <th>0</th>\n",
       "      <th>0</th>\n",
       "      <th>ins</th>\n",
       "      <th>bbsi</th>\n",
       "      <th>TAC</th>\n",
       "      <th>Y-TAC</th>\n",
       "      <th>CTGTGTGAGAGTCTGTCTGA</th>\n",
       "      <td>-5.661470</td>\n",
       "      <td>-7.059791</td>\n",
       "      <td>-1.398321</td>\n",
       "      <td>-1.848871</td>\n",
       "    </tr>\n",
       "    <tr>\n",
       "      <th>636.0</th>\n",
       "      <th>16.0</th>\n",
       "      <th>D</th>\n",
       "      <th>0</th>\n",
       "      <th>0</th>\n",
       "      <th>0</th>\n",
       "      <th>sub</th>\n",
       "      <th>bbsi</th>\n",
       "      <th>GAC</th>\n",
       "      <th>D-GAC</th>\n",
       "      <th>TGTCTGAGTCACACTGTCAC</th>\n",
       "      <td>-5.737402</td>\n",
       "      <td>-7.445142</td>\n",
       "      <td>-1.707739</td>\n",
       "      <td>-2.158290</td>\n",
       "    </tr>\n",
       "  </tbody>\n",
       "</table>\n",
       "</div>"
      ],
      "text/plain": [
       "source                                                                                               plasmid  \\\n",
       "abs_pos tile_num aa is_wt_aa is_wt_codon wt_bc lib_type enzyme codon aa-codon barcode                          \n",
       "526.0   13.0     I  0        0           0     sub      bbsi   ATA   I-ATA    TGTGACAGAGACAGACACAC -5.354551   \n",
       "525.0   13.0     S  0        0           0     sub      bbsi   AGT   S-AGT    GTCACTCAGTCACTGACTGA -5.588008   \n",
       "50.0    1.0      I  0        0           0     sub      bbsi   ATA   I-ATA    CACACACTCAGAGTCTGACA -5.935213   \n",
       "675.5   17.0     Y  0        0           0     ins      bbsi   TAC   Y-TAC    CTGTGTGAGAGTCTGTCTGA -5.661470   \n",
       "636.0   16.0     D  0        0           0     sub      bbsi   GAC   D-GAC    TGTCTGAGTCACACTGTCAC -5.737402   \n",
       "\n",
       "source                                                                                                 virus  \\\n",
       "abs_pos tile_num aa is_wt_aa is_wt_codon wt_bc lib_type enzyme codon aa-codon barcode                          \n",
       "526.0   13.0     I  0        0           0     sub      bbsi   ATA   I-ATA    TGTGACAGAGACAGACACAC -4.394210   \n",
       "525.0   13.0     S  0        0           0     sub      bbsi   AGT   S-AGT    GTCACTCAGTCACTGACTGA -4.968020   \n",
       "50.0    1.0      I  0        0           0     sub      bbsi   ATA   I-ATA    CACACACTCAGAGTCTGACA -6.445142   \n",
       "675.5   17.0     Y  0        0           0     ins      bbsi   TAC   Y-TAC    CTGTGTGAGAGTCTGTCTGA -7.059791   \n",
       "636.0   16.0     D  0        0           0     sub      bbsi   GAC   D-GAC    TGTCTGAGTCACACTGTCAC -7.445142   \n",
       "\n",
       "source                                                                                              selection  \\\n",
       "abs_pos tile_num aa is_wt_aa is_wt_codon wt_bc lib_type enzyme codon aa-codon barcode                           \n",
       "526.0   13.0     I  0        0           0     sub      bbsi   ATA   I-ATA    TGTGACAGAGACAGACACAC   0.960341   \n",
       "525.0   13.0     S  0        0           0     sub      bbsi   AGT   S-AGT    GTCACTCAGTCACTGACTGA   0.619988   \n",
       "50.0    1.0      I  0        0           0     sub      bbsi   ATA   I-ATA    CACACACTCAGAGTCTGACA  -0.509929   \n",
       "675.5   17.0     Y  0        0           0     ins      bbsi   TAC   Y-TAC    CTGTGTGAGAGTCTGTCTGA  -1.398321   \n",
       "636.0   16.0     D  0        0           0     sub      bbsi   GAC   D-GAC    TGTCTGAGTCACACTGTCAC  -1.707739   \n",
       "\n",
       "source                                                                                              selection_wt_norm  \n",
       "abs_pos tile_num aa is_wt_aa is_wt_codon wt_bc lib_type enzyme codon aa-codon barcode                                  \n",
       "526.0   13.0     I  0        0           0     sub      bbsi   ATA   I-ATA    TGTGACAGAGACAGACACAC           0.509791  \n",
       "525.0   13.0     S  0        0           0     sub      bbsi   AGT   S-AGT    GTCACTCAGTCACTGACTGA           0.169437  \n",
       "50.0    1.0      I  0        0           0     sub      bbsi   ATA   I-ATA    CACACACTCAGAGTCTGACA          -0.960479  \n",
       "675.5   17.0     Y  0        0           0     ins      bbsi   TAC   Y-TAC    CTGTGTGAGAGTCTGTCTGA          -1.848871  \n",
       "636.0   16.0     D  0        0           0     sub      bbsi   GAC   D-GAC    TGTCTGAGTCACACTGTCAC          -2.158290  "
      ]
     },
     "execution_count": 9,
     "metadata": {},
     "output_type": "execute_result"
    }
   ],
   "source": [
    "package_counts_summed_freq = packaging_counts.groupby(\n",
    "    level=['promoter', 'source'],axis=1).sum().apply(\n",
    "    lambda x: x/sum(x)).xs('CMV', level='promoter', axis=1).apply(np.log10).replace([np.inf, -np.inf], np.nan).dropna()\n",
    "\n",
    "package_counts_summed_freq['selection'] = package_counts_summed_freq['virus'] - package_counts_summed_freq['plasmid']\n",
    "package_counts_summed_freq['selection_wt_norm'] = package_counts_summed_freq['selection']- package_counts_summed_freq['selection'].xs(1,level='wt_bc').mean()\n",
    "package_counts_summed_freq_sample = package_counts_summed_freq.sample(20000, random_state=100)\n",
    "package_counts_summed_freq_sample.head()"
   ]
  },
  {
   "cell_type": "code",
   "execution_count": 10,
   "metadata": {},
   "outputs": [],
   "source": [
    "package_counts_summed_freq_wt_barcodes = package_counts_summed_freq.xs(1, level='wt_bc')"
   ]
  },
  {
   "cell_type": "code",
   "execution_count": 11,
   "metadata": {},
   "outputs": [
    {
     "data": {
      "text/plain": [
       "(-8, -3)"
      ]
     },
     "execution_count": 11,
     "metadata": {},
     "output_type": "execute_result"
    },
    {
     "data": {
      "image/png": "[encoded data removed]",
      "text/plain": [
       "<matplotlib.figure.Figure at 0x7f8c20d5b7f0>"
      ]
     },
     "metadata": {
      "needs_background": "light"
     },
     "output_type": "display_data"
    }
   ],
   "source": [
    "fig,ax =plt.subplots(figsize=(1.5,1.5))\n",
    "\n",
    "plt.scatter(package_counts_summed_freq_sample['plasmid'], package_counts_summed_freq_sample['virus'], \n",
    "            c=package_counts_summed_freq_sample['selection_wt_norm'],cmap='RdBu_r', s= .1,alpha=.5,vmin=-2, vmax=2)\n",
    "correlation_plot(package_counts_summed_freq_wt_barcodes['plasmid'],package_counts_summed_freq_wt_barcodes['virus'], \n",
    "                scatter_kwargs={'s':.1,'c':'white','alpha':.3,'label':'WT codons'}, \n",
    "                 plot_kwargs= {'c':'black','linestyle':'dashed','alpha':.8,'lw':.5})\n",
    "plt.xlim(-6.5, -3.5)\n",
    "plt.ylim(-8, -3)"
   ]
  },
  {
   "cell_type": "markdown",
   "metadata": {},
   "source": [
    "## Replicate analsysis (Fig. S2B-D)"
   ]
  },
  {
   "cell_type": "code",
   "execution_count": 12,
   "metadata": {},
   "outputs": [
    {
     "data": {
      "text/html": [
       "<div>\n",
       "<style scoped>\n",
       "    .dataframe tbody tr th:only-of-type {\n",
       "        vertical-align: middle;\n",
       "    }\n",
       "\n",
       "    .dataframe tbody tr th {\n",
       "        vertical-align: top;\n",
       "    }\n",
       "\n",
       "    .dataframe thead tr th {\n",
       "        text-align: left;\n",
       "    }\n",
       "\n",
       "    .dataframe thead tr:last-of-type th {\n",
       "        text-align: right;\n",
       "    }\n",
       "</style>\n",
       "<table border=\"1\" class=\"dataframe\">\n",
       "  <thead>\n",
       "    <tr>\n",
       "      <th></th>\n",
       "      <th></th>\n",
       "      <th></th>\n",
       "      <th></th>\n",
       "      <th></th>\n",
       "      <th></th>\n",
       "      <th></th>\n",
       "      <th></th>\n",
       "      <th></th>\n",
       "      <th></th>\n",
       "      <th colspan=\"2\" halign=\"left\">CMV</th>\n",
       "      <th colspan=\"4\" halign=\"left\">Rep</th>\n",
       "    </tr>\n",
       "    <tr>\n",
       "      <th></th>\n",
       "      <th></th>\n",
       "      <th></th>\n",
       "      <th></th>\n",
       "      <th></th>\n",
       "      <th></th>\n",
       "      <th></th>\n",
       "      <th></th>\n",
       "      <th></th>\n",
       "      <th></th>\n",
       "      <th colspan=\"2\" halign=\"left\">virus</th>\n",
       "      <th colspan=\"4\" halign=\"left\">virus</th>\n",
       "    </tr>\n",
       "    <tr>\n",
       "      <th></th>\n",
       "      <th></th>\n",
       "      <th></th>\n",
       "      <th></th>\n",
       "      <th></th>\n",
       "      <th></th>\n",
       "      <th></th>\n",
       "      <th></th>\n",
       "      <th></th>\n",
       "      <th></th>\n",
       "      <th>1</th>\n",
       "      <th>2</th>\n",
       "      <th>3</th>\n",
       "      <th>4</th>\n",
       "      <th>14</th>\n",
       "      <th>15</th>\n",
       "    </tr>\n",
       "    <tr>\n",
       "      <th>abs_pos</th>\n",
       "      <th>tile_num</th>\n",
       "      <th>aa</th>\n",
       "      <th>is_wt_aa</th>\n",
       "      <th>is_wt_codon</th>\n",
       "      <th>wt_bc</th>\n",
       "      <th>lib_type</th>\n",
       "      <th>enzyme</th>\n",
       "      <th>codon</th>\n",
       "      <th>aa-codon</th>\n",
       "      <th></th>\n",
       "      <th></th>\n",
       "      <th></th>\n",
       "      <th></th>\n",
       "      <th></th>\n",
       "      <th></th>\n",
       "    </tr>\n",
       "  </thead>\n",
       "  <tbody>\n",
       "    <tr>\n",
       "      <th rowspan=\"5\" valign=\"top\">1.0</th>\n",
       "      <th rowspan=\"5\" valign=\"top\">0.0</th>\n",
       "      <th rowspan=\"3\" valign=\"top\">*</th>\n",
       "      <th rowspan=\"3\" valign=\"top\">0</th>\n",
       "      <th rowspan=\"3\" valign=\"top\">0</th>\n",
       "      <th rowspan=\"3\" valign=\"top\">0</th>\n",
       "      <th rowspan=\"3\" valign=\"top\">sub</th>\n",
       "      <th rowspan=\"3\" valign=\"top\">bbsi</th>\n",
       "      <th>TAA</th>\n",
       "      <th>*-TAA</th>\n",
       "      <td>0.214813</td>\n",
       "      <td>0.179319</td>\n",
       "      <td>0.238270</td>\n",
       "      <td>0.225661</td>\n",
       "      <td>0.796651</td>\n",
       "      <td>NaN</td>\n",
       "    </tr>\n",
       "    <tr>\n",
       "      <th>TAG</th>\n",
       "      <th>*-TAG</th>\n",
       "      <td>0.196879</td>\n",
       "      <td>0.107946</td>\n",
       "      <td>0.183849</td>\n",
       "      <td>0.155891</td>\n",
       "      <td>NaN</td>\n",
       "      <td>NaN</td>\n",
       "    </tr>\n",
       "    <tr>\n",
       "      <th>TGA</th>\n",
       "      <th>*-TGA</th>\n",
       "      <td>0.168971</td>\n",
       "      <td>0.144022</td>\n",
       "      <td>0.206508</td>\n",
       "      <td>0.179436</td>\n",
       "      <td>NaN</td>\n",
       "      <td>NaN</td>\n",
       "    </tr>\n",
       "    <tr>\n",
       "      <th>-</th>\n",
       "      <th>0</th>\n",
       "      <th>0</th>\n",
       "      <th>0</th>\n",
       "      <th>del</th>\n",
       "      <th>bbsi</th>\n",
       "      <th>---</th>\n",
       "      <th>-----</th>\n",
       "      <td>0.169594</td>\n",
       "      <td>0.305526</td>\n",
       "      <td>0.024670</td>\n",
       "      <td>NaN</td>\n",
       "      <td>NaN</td>\n",
       "      <td>NaN</td>\n",
       "    </tr>\n",
       "    <tr>\n",
       "      <th>A</th>\n",
       "      <th>0</th>\n",
       "      <th>0</th>\n",
       "      <th>0</th>\n",
       "      <th>sub</th>\n",
       "      <th>bbsi</th>\n",
       "      <th>GCA</th>\n",
       "      <th>A-GCA</th>\n",
       "      <td>0.192496</td>\n",
       "      <td>0.148303</td>\n",
       "      <td>0.071771</td>\n",
       "      <td>0.077652</td>\n",
       "      <td>NaN</td>\n",
       "      <td>NaN</td>\n",
       "    </tr>\n",
       "  </tbody>\n",
       "</table>\n",
       "</div>"
      ],
      "text/plain": [
       "                                                                                    CMV  \\\n",
       "                                                                                  virus   \n",
       "                                                                                      1   \n",
       "abs_pos tile_num aa is_wt_aa is_wt_codon wt_bc lib_type enzyme codon aa-codon             \n",
       "1.0     0.0      *  0        0           0     sub      bbsi   TAA   *-TAA     0.214813   \n",
       "                                                               TAG   *-TAG     0.196879   \n",
       "                                                               TGA   *-TGA     0.168971   \n",
       "                 -  0        0           0     del      bbsi   ---   -----     0.169594   \n",
       "                 A  0        0           0     sub      bbsi   GCA   A-GCA     0.192496   \n",
       "\n",
       "                                                                                         \\\n",
       "                                                                                          \n",
       "                                                                                      2   \n",
       "abs_pos tile_num aa is_wt_aa is_wt_codon wt_bc lib_type enzyme codon aa-codon             \n",
       "1.0     0.0      *  0        0           0     sub      bbsi   TAA   *-TAA     0.179319   \n",
       "                                                               TAG   *-TAG     0.107946   \n",
       "                                                               TGA   *-TGA     0.144022   \n",
       "                 -  0        0           0     del      bbsi   ---   -----     0.305526   \n",
       "                 A  0        0           0     sub      bbsi   GCA   A-GCA     0.148303   \n",
       "\n",
       "                                                                                    Rep  \\\n",
       "                                                                                  virus   \n",
       "                                                                                      3   \n",
       "abs_pos tile_num aa is_wt_aa is_wt_codon wt_bc lib_type enzyme codon aa-codon             \n",
       "1.0     0.0      *  0        0           0     sub      bbsi   TAA   *-TAA     0.238270   \n",
       "                                                               TAG   *-TAG     0.183849   \n",
       "                                                               TGA   *-TGA     0.206508   \n",
       "                 -  0        0           0     del      bbsi   ---   -----     0.024670   \n",
       "                 A  0        0           0     sub      bbsi   GCA   A-GCA     0.071771   \n",
       "\n",
       "                                                                                         \\\n",
       "                                                                                          \n",
       "                                                                                      4   \n",
       "abs_pos tile_num aa is_wt_aa is_wt_codon wt_bc lib_type enzyme codon aa-codon             \n",
       "1.0     0.0      *  0        0           0     sub      bbsi   TAA   *-TAA     0.225661   \n",
       "                                                               TAG   *-TAG     0.155891   \n",
       "                                                               TGA   *-TGA     0.179436   \n",
       "                 -  0        0           0     del      bbsi   ---   -----          NaN   \n",
       "                 A  0        0           0     sub      bbsi   GCA   A-GCA     0.077652   \n",
       "\n",
       "                                                                                         \\\n",
       "                                                                                          \n",
       "                                                                                     14   \n",
       "abs_pos tile_num aa is_wt_aa is_wt_codon wt_bc lib_type enzyme codon aa-codon             \n",
       "1.0     0.0      *  0        0           0     sub      bbsi   TAA   *-TAA     0.796651   \n",
       "                                                               TAG   *-TAG          NaN   \n",
       "                                                               TGA   *-TGA          NaN   \n",
       "                 -  0        0           0     del      bbsi   ---   -----          NaN   \n",
       "                 A  0        0           0     sub      bbsi   GCA   A-GCA          NaN   \n",
       "\n",
       "                                                                                   \n",
       "                                                                                   \n",
       "                                                                               15  \n",
       "abs_pos tile_num aa is_wt_aa is_wt_codon wt_bc lib_type enzyme codon aa-codon      \n",
       "1.0     0.0      *  0        0           0     sub      bbsi   TAA   *-TAA    NaN  \n",
       "                                                               TAG   *-TAG    NaN  \n",
       "                                                               TGA   *-TGA    NaN  \n",
       "                 -  0        0           0     del      bbsi   ---   -----    NaN  \n",
       "                 A  0        0           0     sub      bbsi   GCA   A-GCA    NaN  "
      ]
     },
     "execution_count": 12,
     "metadata": {},
     "output_type": "execute_result"
    }
   ],
   "source": [
    "package_bio_replicates_selection = x03_compute_selections.compute_packaging_selection(\n",
    "    packaging_counts,level='codon', wt_norm=True, sum_measurments=False, for_plotting=False)\n",
    "package_bio_replicates_selection.head()"
   ]
  },
  {
   "cell_type": "markdown",
   "metadata": {},
   "source": [
    "### compare CMV-AAV2 lib production replicaties"
   ]
  },
  {
   "cell_type": "code",
   "execution_count": 13,
   "metadata": {},
   "outputs": [
    {
     "data": {
      "text/plain": [
       "<matplotlib.figure.Figure at 0x7f8c20cf0748>"
      ]
     },
     "metadata": {},
     "output_type": "display_data"
    },
    {
     "data": {
      "image/png": "[encoded data removed]",
      "text/plain": [
       "<matplotlib.figure.Figure at 0x7f8c20cf0898>"
      ]
     },
     "metadata": {
      "needs_background": "light"
     },
     "output_type": "display_data"
    }
   ],
   "source": [
    "cmap=plt.cm.jet\n",
    "joint_kws=dict(gridsize=200, cmap='inferno', mincnt=2,alpha=.5)\n",
    "marginal_kws=dict(color='black')\n",
    "\n",
    "fig = plt.figure(figsize=[1.3,1.3])\n",
    "g = sns.jointplot(x=('CMV', 'virus', '1'), \n",
    "              y=('CMV', 'virus', '2') ,size=2,ratio=6,\n",
    "              data=package_bio_replicates_selection.apply(np.log2),\n",
    "              kind='hex',color='black',joint_kws=joint_kws,marginal_kws=marginal_kws,stat_func=None)\n",
    "g.set_axis_labels('Replicate 1', 'Replicate 2')\n",
    "\n",
    "cb = plt.colorbar(ticks=[1,25,50,75,100,125,150])\n",
    "cb.outline.set_visible(False)\n",
    "plt.show()"
   ]
  },
  {
   "cell_type": "markdown",
   "metadata": {},
   "source": [
    "### compare Rep-AAV2 lib production replicaties"
   ]
  },
  {
   "cell_type": "code",
   "execution_count": 14,
   "metadata": {},
   "outputs": [
    {
     "data": {
      "text/plain": [
       "<matplotlib.figure.Figure at 0x7f8c20a84780>"
      ]
     },
     "metadata": {},
     "output_type": "display_data"
    },
    {
     "data": {
      "image/png": "[encoded data removed]",
      "text/plain": [
       "<matplotlib.figure.Figure at 0x7f8c20bc6b00>"
      ]
     },
     "metadata": {
      "needs_background": "light"
     },
     "output_type": "display_data"
    }
   ],
   "source": [
    "cmap=plt.cm.jet\n",
    "joint_kws=dict(gridsize=200, cmap='inferno', mincnt=2,alpha=.5)\n",
    "marginal_kws=dict(color='black')\n",
    "\n",
    "fig = plt.figure(figsize=[1.3,1.3])\n",
    "g = sns.jointplot(x=('Rep', 'virus', '3'), \n",
    "              y=('Rep', 'virus', '4'), \n",
    "              data=package_bio_replicates_selection.apply(np.log2),\n",
    "              kind='hex',color='black',joint_kws=joint_kws,marginal_kws=marginal_kws,size=2,ratio=6, stat_func=None)\n",
    "g.set_axis_labels('Replicate 1', 'Replicate 2')\n",
    "\n",
    "cb = plt.colorbar(ticks=[1,25,50,75,100,125,150])\n",
    "cb.outline.set_visible(False)\n",
    "plt.show()"
   ]
  },
  {
   "cell_type": "markdown",
   "metadata": {},
   "source": [
    "### compare Rep-AAV2 vs CMV-AAV2 lib production replicaties"
   ]
  },
  {
   "cell_type": "code",
   "execution_count": 15,
   "metadata": {},
   "outputs": [
    {
     "data": {
      "text/plain": [
       "<matplotlib.figure.Figure at 0x7f8c20ac8b70>"
      ]
     },
     "metadata": {},
     "output_type": "display_data"
    },
    {
     "data": {
      "image/png": "[encoded data removed]",
      "text/plain": [
       "<matplotlib.figure.Figure at 0x7f8c20976c18>"
      ]
     },
     "metadata": {
      "needs_background": "light"
     },
     "output_type": "display_data"
    }
   ],
   "source": [
    "cmap=plt.cm.jet\n",
    "joint_kws=dict(gridsize=200, cmap='inferno', mincnt=2,alpha=.5)\n",
    "marginal_kws=dict(color='black')\n",
    "\n",
    "fig = plt.figure(figsize=[1.3,1.3])\n",
    "g = sns.jointplot(x=('CMV', 'virus', '1'), \n",
    "              y=('Rep', 'virus', '3'), \n",
    "              data=package_bio_replicates_selection.apply(np.log2),\n",
    "              kind='hex',color='black',joint_kws=joint_kws,marginal_kws=marginal_kws,size=2,ratio=6, stat_func=None)\n",
    "g.set_axis_labels('Replicate 1', 'Replicate 2')\n",
    "\n",
    "cb = plt.colorbar(ticks=[1,25,50,75,100,125,150])\n",
    "cb.outline.set_visible(False)\n",
    "plt.show()"
   ]
  },
  {
   "cell_type": "markdown",
   "metadata": {},
   "source": [
    "## Wildtype Vs VP1/2/3 Stops (Fig. 1C)"
   ]
  },
  {
   "cell_type": "code",
   "execution_count": 16,
   "metadata": {},
   "outputs": [],
   "source": [
    "package_barcode_full_sum = x03_compute_selections.compute_packaging_selection(\n",
    "    packaging_counts,level='barcode', wt_norm=True, sum_measurments=True, for_plotting=False)"
   ]
  },
  {
   "cell_type": "code",
   "execution_count": 17,
   "metadata": {},
   "outputs": [
    {
     "data": {
      "text/plain": [
       "<matplotlib.legend.Legend at 0x7f8c20620518>"
      ]
     },
     "execution_count": 17,
     "metadata": {},
     "output_type": "execute_result"
    },
    {
     "data": {
      "image/png": "[encoded data removed]",
      "text/plain": [
       "<matplotlib.figure.Figure at 0x7f8c20976908>"
      ]
     },
     "metadata": {
      "needs_background": "light"
     },
     "output_type": "display_data"
    }
   ],
   "source": [
    "set_2_colors = sns.color_palette(\"colorblind\")\n",
    "VP2_START = 139\n",
    "VP3_START = 204\n",
    "cmv_data = package_barcode_full_sum.xs('CMV', level=0, axis=1,drop_level=False)\n",
    "WT = cmv_data.query(\"wt_bc==1\").apply(\n",
    "    np.log2).dropna().values\n",
    "VP12_stops = cmv_data.query(\"(abs_pos < @VP3_START) & (aa == '*')\").apply(\n",
    "    np.log2).dropna().values\n",
    "VP3_stops = cmv_data.query(\"(abs_pos > @VP3_START) & (aa == '*')\").apply(\n",
    "    np.log2).dropna().values\n",
    "\n",
    "fig = plt.figure(figsize=(1.86, 1.3))\n",
    "g = sns.distplot(WT,bins=50, label='WT\\nReplicates',color=set_2_colors[2])\n",
    "sns.distplot(VP12_stops, bins=50, label='VP1/2 Stop',color=set_2_colors[0])\n",
    "sns.distplot(VP3_stops, bins=50,label='VP3 Stop',color=set_2_colors[1])\n",
    "g.set_xlabel(\"\")\n",
    "g.set_ylabel(\"Density\")\n",
    "g.set_xlim((-8,2))\n",
    "\n",
    "plt.legend(frameon=False,columnspacing=.1,handlelength=1,fontsize=6)"
   ]
  },
  {
   "cell_type": "markdown",
   "metadata": {},
   "source": [
    "## effect sizes for difference WT vs stop difference"
   ]
  },
  {
   "cell_type": "code",
   "execution_count": 18,
   "metadata": {},
   "outputs": [
    {
     "data": {
      "text/plain": [
       "-0.09012982882751788"
      ]
     },
     "execution_count": 18,
     "metadata": {},
     "output_type": "execute_result"
    }
   ],
   "source": [
    "np.median(WT.flatten())"
   ]
  },
  {
   "cell_type": "code",
   "execution_count": 19,
   "metadata": {},
   "outputs": [
    {
     "data": {
      "text/plain": [
       "-4.817610034282405"
      ]
     },
     "execution_count": 19,
     "metadata": {},
     "output_type": "execute_result"
    }
   ],
   "source": [
    "np.median(VP3_stops.flatten())"
   ]
  },
  {
   "cell_type": "code",
   "execution_count": 20,
   "metadata": {},
   "outputs": [
    {
     "data": {
      "text/plain": [
       "-2.62732137476437"
      ]
     },
     "execution_count": 20,
     "metadata": {},
     "output_type": "execute_result"
    }
   ],
   "source": [
    "np.median(VP12_stops.flatten())"
   ]
  },
  {
   "cell_type": "markdown",
   "metadata": {},
   "source": [
    "log2 mean difference WT vs VP3 stops"
   ]
  },
  {
   "cell_type": "code",
   "execution_count": 21,
   "metadata": {},
   "outputs": [
    {
     "data": {
      "text/plain": [
       "4.727480205454887"
      ]
     },
     "execution_count": 21,
     "metadata": {},
     "output_type": "execute_result"
    }
   ],
   "source": [
    "np.median(WT.flatten()) - np.median(VP3_stops.flatten())"
   ]
  },
  {
   "cell_type": "markdown",
   "metadata": {},
   "source": [
    "log2 mean difference WT vs VP12 stops"
   ]
  },
  {
   "cell_type": "code",
   "execution_count": 22,
   "metadata": {},
   "outputs": [
    {
     "data": {
      "text/plain": [
       "2.537191545936852"
      ]
     },
     "execution_count": 22,
     "metadata": {},
     "output_type": "execute_result"
    }
   ],
   "source": [
    "np.median(WT.flatten()) - np.median(VP12_stops.flatten())"
   ]
  },
  {
   "cell_type": "markdown",
   "metadata": {},
   "source": [
    "### Calculate p-values and CVs"
   ]
  },
  {
   "cell_type": "code",
   "execution_count": 23,
   "metadata": {},
   "outputs": [
    {
     "data": {
      "text/plain": [
       "MannwhitneyuResult(statistic=23408.0, pvalue=7.04760690822782e-219)"
      ]
     },
     "execution_count": 23,
     "metadata": {},
     "output_type": "execute_result"
    }
   ],
   "source": [
    "mannwhitneyu(WT.flatten(), VP3_stops.flatten())"
   ]
  },
  {
   "cell_type": "code",
   "execution_count": 24,
   "metadata": {},
   "outputs": [
    {
     "data": {
      "text/plain": [
       "MannwhitneyuResult(statistic=16537.5, pvalue=2.114440679332685e-172)"
      ]
     },
     "execution_count": 24,
     "metadata": {},
     "output_type": "execute_result"
    }
   ],
   "source": [
    "mannwhitneyu(WT, VP12_stops)"
   ]
  },
  {
   "cell_type": "code",
   "execution_count": 25,
   "metadata": {},
   "outputs": [
    {
     "data": {
      "text/plain": [
       "array([0.58699533])"
      ]
     },
     "execution_count": 25,
     "metadata": {},
     "output_type": "execute_result"
    }
   ],
   "source": [
    "variation(2**WT)"
   ]
  },
  {
   "cell_type": "code",
   "execution_count": 26,
   "metadata": {},
   "outputs": [
    {
     "data": {
      "text/html": [
       "<div>\n",
       "<style scoped>\n",
       "    .dataframe tbody tr th:only-of-type {\n",
       "        vertical-align: middle;\n",
       "    }\n",
       "\n",
       "    .dataframe tbody tr th {\n",
       "        vertical-align: top;\n",
       "    }\n",
       "\n",
       "    .dataframe thead tr th {\n",
       "        text-align: left;\n",
       "    }\n",
       "</style>\n",
       "<table border=\"1\" class=\"dataframe\">\n",
       "  <thead>\n",
       "    <tr>\n",
       "      <th></th>\n",
       "      <th>CMV</th>\n",
       "      <th colspan=\"3\" halign=\"left\">Rep</th>\n",
       "    </tr>\n",
       "    <tr>\n",
       "      <th></th>\n",
       "      <th>0</th>\n",
       "      <th>0</th>\n",
       "      <th>14</th>\n",
       "      <th>15</th>\n",
       "    </tr>\n",
       "  </thead>\n",
       "  <tbody>\n",
       "    <tr>\n",
       "      <th>count</th>\n",
       "      <td>398.000000</td>\n",
       "      <td>395.000000</td>\n",
       "      <td>22.000000</td>\n",
       "      <td>23.000000</td>\n",
       "    </tr>\n",
       "    <tr>\n",
       "      <th>mean</th>\n",
       "      <td>1.000000</td>\n",
       "      <td>1.000000</td>\n",
       "      <td>1.000000</td>\n",
       "      <td>1.000000</td>\n",
       "    </tr>\n",
       "    <tr>\n",
       "      <th>std</th>\n",
       "      <td>0.587734</td>\n",
       "      <td>0.823701</td>\n",
       "      <td>1.604742</td>\n",
       "      <td>1.164592</td>\n",
       "    </tr>\n",
       "    <tr>\n",
       "      <th>min</th>\n",
       "      <td>0.014205</td>\n",
       "      <td>0.028950</td>\n",
       "      <td>0.039417</td>\n",
       "      <td>0.034400</td>\n",
       "    </tr>\n",
       "    <tr>\n",
       "      <th>25%</th>\n",
       "      <td>0.701123</td>\n",
       "      <td>0.434144</td>\n",
       "      <td>0.264859</td>\n",
       "      <td>0.332415</td>\n",
       "    </tr>\n",
       "    <tr>\n",
       "      <th>50%</th>\n",
       "      <td>0.939439</td>\n",
       "      <td>0.780613</td>\n",
       "      <td>0.519877</td>\n",
       "      <td>0.528650</td>\n",
       "    </tr>\n",
       "    <tr>\n",
       "      <th>75%</th>\n",
       "      <td>1.204042</td>\n",
       "      <td>1.303773</td>\n",
       "      <td>0.679451</td>\n",
       "      <td>1.149138</td>\n",
       "    </tr>\n",
       "    <tr>\n",
       "      <th>max</th>\n",
       "      <td>8.829868</td>\n",
       "      <td>4.961226</td>\n",
       "      <td>7.184614</td>\n",
       "      <td>4.196099</td>\n",
       "    </tr>\n",
       "  </tbody>\n",
       "</table>\n",
       "</div>"
      ],
      "text/plain": [
       "              CMV         Rep                      \n",
       "                0           0         14         15\n",
       "count  398.000000  395.000000  22.000000  23.000000\n",
       "mean     1.000000    1.000000   1.000000   1.000000\n",
       "std      0.587734    0.823701   1.604742   1.164592\n",
       "min      0.014205    0.028950   0.039417   0.034400\n",
       "25%      0.701123    0.434144   0.264859   0.332415\n",
       "50%      0.939439    0.780613   0.519877   0.528650\n",
       "75%      1.204042    1.303773   0.679451   1.149138\n",
       "max      8.829868    4.961226   7.184614   4.196099"
      ]
     },
     "execution_count": 26,
     "metadata": {},
     "output_type": "execute_result"
    }
   ],
   "source": [
    "package_barcode_full_sum.xs(1,level='wt_bc').describe()"
   ]
  },
  {
   "cell_type": "markdown",
   "metadata": {},
   "source": [
    "## Amino Acid Heatmap (Fig. 1D)"
   ]
  },
  {
   "cell_type": "code",
   "execution_count": 27,
   "metadata": {},
   "outputs": [],
   "source": [
    "package_aa_full_sum = x03_compute_selections.compute_packaging_selection(\n",
    "    packaging_counts,level='aa', wt_norm=True, sum_measurments=True, for_plotting=True)"
   ]
  },
  {
   "cell_type": "code",
   "execution_count": 28,
   "metadata": {},
   "outputs": [],
   "source": [
    "DESIRED_AA_ORD = [\"-\",\"I\", \"L\", \"V\", \"A\", \"G\", \"M\", \"F\", \"Y\", \"W\", \"E\", \n",
    "                    \"D\", \"Q\", \"N\", \"H\", \"C\", \"R\", \"K\", \"S\", \"T\", \"P\", \"*\"]"
   ]
  },
  {
   "cell_type": "markdown",
   "metadata": {},
   "source": [
    "data shaping for heatmap generation"
   ]
  },
  {
   "cell_type": "code",
   "execution_count": 29,
   "metadata": {},
   "outputs": [],
   "source": [
    "sub_del = package_aa_full_sum.query(\"lib_type.isin(['sub','del'])\").xs('CMV', level=0,axis=1)\n",
    "sub_del.index = sub_del.index.droplevel(['lib_type', 'is_wt_aa'])\n",
    "sub_del_matrix = sub_del.groupby(level=[0,1]).mean().unstack(0)\n",
    "sub_del_matrix.columns = sub_del_matrix.columns.droplevel(0)\n",
    "sub_del_matrix_aa_ordered = sub_del_matrix.reindex(DESIRED_AA_ORD)\n",
    "ins_df = package_aa_full_sum.query(\"lib_type.isin(['ins'])\").xs(('CMV','0'), level=[0,1],axis=1,drop_level=True)\n",
    "ins_df.index = ins_df.index.droplevel(['lib_type', 'is_wt_aa'])\n",
    "ins_df.reset_index(inplace=True)\n",
    "ins_df['abs_pos'] = ins_df['abs_pos'] -.5\n",
    "ins_df.set_index(['abs_pos', 'aa'], inplace=True)\n",
    "ins_df_matrix = ins_df.unstack(0)\n",
    "ins_df_matrix_ordered = ins_df_matrix.reindex(DESIRED_AA_ORD)\n",
    "ins_df_matrix_ordered.columns = ins_df_matrix_ordered.columns.droplevel([0,1])\n",
    "ins_df_matrix_ordered.dropna(inplace=True)\n",
    "ins_subs_stacked = pd.concat([ins_df_matrix_ordered,sub_del_matrix_aa_ordered])"
   ]
  },
  {
   "cell_type": "code",
   "execution_count": 30,
   "metadata": {},
   "outputs": [
    {
     "data": {
      "image/png": "[encoded data removed]",
      "text/plain": [
       "<matplotlib.figure.Figure at 0x7f8c201e40f0>"
      ]
     },
     "metadata": {
      "needs_background": "light"
     },
     "output_type": "display_data"
    }
   ],
   "source": [
    "fig,ax = plt.subplots(figsize = [8,2.5])\n",
    "g = sns.heatmap(ins_subs_stacked.apply(np.log2),vmin=-5,vmax=5,\n",
    "                cmap='RdBu_r',cbar=None,xticklabels=50,yticklabels=1)\n",
    "ax.tick_params(labelsize=3,rotation=0)\n",
    "\n",
    "fig.subplots_adjust(right=0.8)\n",
    "\n",
    "plt.plot([0,735],[19,19], c='white',linewidth=.75)\n",
    "plt.plot([0,735],[20,20], c='white',linewidth=.75)\n",
    "ax.set_xlabel('VP Position',size=PAPER_FONTSIZE)\n",
    "ax.set_ylabel('Amino Acid', size=PAPER_FONTSIZE)\n",
    "ax.tick_params(length=.5)"
   ]
  },
  {
   "cell_type": "code",
   "execution_count": 31,
   "metadata": {},
   "outputs": [
    {
     "data": {
      "text/plain": [
       "Text(0,0.5,'log2(selection)')"
      ]
     },
     "execution_count": 31,
     "metadata": {},
     "output_type": "execute_result"
    },
    {
     "data": {
      "image/png": "[encoded data removed]",
      "text/plain": [
       "<matplotlib.figure.Figure at 0x7f8c20b2c860>"
      ]
     },
     "metadata": {
      "needs_background": "light"
     },
     "output_type": "display_data"
    }
   ],
   "source": [
    "a = np.array([[-5,5]])\n",
    "fig = plt.figure(figsize=(.1, 2))\n",
    "img = plt.imshow(a, cmap=\"RdBu_r\")\n",
    "plt.gca().set_visible(False)\n",
    "cax = plt.axes([0.1, 0.2, 0.8, 0.6])\n",
    "plt.colorbar( cax=cax)\n",
    "plt.ylabel('log2(selection)')\n",
    "# save_fig(fig, 'heatmap_colorbar.pdf',transparent=True)"
   ]
  },
  {
   "cell_type": "markdown",
   "metadata": {},
   "source": [
    "## Variable region analysis"
   ]
  },
  {
   "cell_type": "code",
   "execution_count": 32,
   "metadata": {},
   "outputs": [],
   "source": [
    "VR_1 = np.arange(262,269,.5)\n",
    "VR_2 = np.arange(326,331,.5)\n",
    "VR_3 = np.arange(380, 389,.5)\n",
    "VR_4 = np.arange(449,469,.5)\n",
    "VR_5 = np.arange(487,504,.5)\n",
    "VR_6 = np.arange(525,540,.5)\n",
    "VR_7 = np.arange(544,556,.5)\n",
    "VR_8 = np.arange(579, 594,.5)\n",
    "VR_9 = np.arange(704,711,.5)\n",
    "\n",
    "VR_LIST = np.concatenate([VR_1,VR_2,VR_4,VR_5,VR_6,VR_7,VR_8,VR_9])\n"
   ]
  },
  {
   "cell_type": "code",
   "execution_count": 33,
   "metadata": {},
   "outputs": [],
   "source": [
    "vr_df = package_aa_full_sum.query(\"abs_pos in (@VR_LIST) & is_wt_aa==0\").iloc[\n",
    "    :,0].dropna().apply(np.log2)\n",
    "conserved_df =package_aa_full_sum.query(\"(abs_pos not in (@VR_LIST)) & \\\n",
    "    (abs_pos > 211)  & is_wt_aa ==0\").iloc[:,0].dropna().apply(np.log2)"
   ]
  },
  {
   "cell_type": "code",
   "execution_count": 34,
   "metadata": {},
   "outputs": [
    {
     "data": {
      "text/plain": [
       "(4115,)"
      ]
     },
     "execution_count": 34,
     "metadata": {},
     "output_type": "execute_result"
    }
   ],
   "source": [
    "vr_array = vr_df.values\n",
    "conserved_array = conserved_df.dropna().values\n",
    "vr_array.shape"
   ]
  },
  {
   "cell_type": "code",
   "execution_count": 35,
   "metadata": {},
   "outputs": [
    {
     "data": {
      "text/plain": [
       "(17893,)"
      ]
     },
     "execution_count": 35,
     "metadata": {},
     "output_type": "execute_result"
    }
   ],
   "source": [
    "conserved_array.shape"
   ]
  },
  {
   "cell_type": "markdown",
   "metadata": {},
   "source": [
    "## Serotype Comparison (Fig. 1F)"
   ]
  },
  {
   "cell_type": "markdown",
   "metadata": {},
   "source": [
    "determine alignment positions relative to AAV2 capsid position"
   ]
  },
  {
   "cell_type": "code",
   "execution_count": 39,
   "metadata": {},
   "outputs": [],
   "source": [
    "AAV_alignments = AlignIO.parse('../data/meta/AAV_protein_alignment.phy','phylip')\n",
    "\n",
    "def calculate_aligment_positions(alignment_in):\n",
    "    alignment_obj = []\n",
    "    alignment_df = pd.DataFrame()\n",
    "    for alignment in alignment_in:\n",
    "        for idx, seq_obj in enumerate(alignment):\n",
    "            protein_position=1\n",
    "            for alignment_position, aa in enumerate(seq_obj.seq):\n",
    "                if aa == '-':\n",
    "                    protein_position_write = 0\n",
    "                else:\n",
    "                    protein_position_write = protein_position\n",
    "                alignment_obj.append({'align_pos':alignment_position+1,\n",
    "                                      '%s_pos' % seq_obj.id :protein_position_write, \n",
    "                                      '%s_aa' % seq_obj.id: aa})\n",
    "                if aa != '-':\n",
    "                    protein_position +=1\n",
    "\n",
    "            df = pd.DataFrame(alignment_obj)\n",
    "            if idx == 0:\n",
    "                alignment_df = pd.DataFrame(alignment_obj)\n",
    "            else:\n",
    "                alignment_df = alignment_df.merge(df, on=['align_pos'], how='left')\n",
    "            alignment_obj = []\n",
    "    return alignment_df.set_index('align_pos')\n",
    "\n",
    "alignment_df = calculate_aligment_positions(AAV_alignments)\n",
    "# alignment_df"
   ]
  },
  {
   "cell_type": "code",
   "execution_count": 40,
   "metadata": {},
   "outputs": [
    {
     "data": {
      "text/plain": [
       "(960, 2)"
      ]
     },
     "execution_count": 40,
     "metadata": {},
     "output_type": "execute_result"
    }
   ],
   "source": [
    "def get_residue_differences(alignemnt_df):\n",
    "    aav_diffs = []\n",
    "\n",
    "    for idx, row in alignment_df.iterrows():\n",
    "        aav2_aa =  row['aav2_aa']\n",
    "        aav2_pos = row['aav2_pos']\n",
    "        for sidx, val in row.iteritems():\n",
    "            if type(val) is str:\n",
    "                if val != aav2_aa:\n",
    "                    aav_diffs.append({'abs_pos': aav2_pos, 'aa':val})\n",
    "    return pd.DataFrame(aav_diffs).drop_duplicates()\n",
    "\n",
    "differences_aav_seroptypes_df = get_residue_differences(alignment_df)\n",
    "differences_aav_seroptypes_df.shape"
   ]
  },
  {
   "cell_type": "code",
   "execution_count": 41,
   "metadata": {},
   "outputs": [],
   "source": [
    "alignment_aa = alignment_df[[x for x in alignment_df.columns if '_aa' in x]]\n",
    "alignment_aa\n",
    "conservation = []\n",
    "for idx, row in alignment_aa.iterrows():\n",
    "    conservation.append(1 - len(row.unique()) / float(row.count()))"
   ]
  },
  {
   "cell_type": "code",
   "execution_count": 42,
   "metadata": {},
   "outputs": [],
   "source": [
    "aav2_cons = pd.concat([alignment_df['aav2_pos'], pd.DataFrame(conservation)],axis=1)\n",
    "aav2_cons[aav2_cons['aav2_pos'] != 0].dropna()[0].to_csv('../data/meta/conservation.csv', index=False)"
   ]
  },
  {
   "cell_type": "code",
   "execution_count": 43,
   "metadata": {},
   "outputs": [],
   "source": [
    "def subset_fitness_residues(diff_df, fitness_df):\n",
    "    serotype_fitness_df = pd.DataFrame()\n",
    "    for idx, row in diff_df.iterrows():\n",
    "        if row['abs_pos'] == 0:\n",
    "            continue\n",
    "        value = fitness_df.xs([row['aa'], row['abs_pos']], level=['aa', 'abs_pos'], drop_level=False)\n",
    "        serotype_fitness_df = pd.concat([serotype_fitness_df, value])\n",
    "    return serotype_fitness_df\n",
    "serotype_fitness_df = subset_fitness_residues(differences_aav_seroptypes_df, package_aa_full_sum)"
   ]
  },
  {
   "cell_type": "code",
   "execution_count": 44,
   "metadata": {},
   "outputs": [],
   "source": [
    "non_vr_other_serotypes = serotype_fitness_df.query(\"abs_pos not in @VR_LIST\").iloc[:,0].dropna().apply(np.log2)\n",
    "vr_other_serotypes = serotype_fitness_df.query(\"abs_pos  in @VR_LIST\").iloc[:,0].dropna().apply(np.log2)"
   ]
  },
  {
   "cell_type": "code",
   "execution_count": 45,
   "metadata": {},
   "outputs": [],
   "source": [
    "vr_df_not_in_other_serotypes = vr_df[~vr_df.isin(vr_other_serotypes)]"
   ]
  },
  {
   "cell_type": "code",
   "execution_count": 46,
   "metadata": {},
   "outputs": [],
   "source": [
    "def melt_for_box_plot(vr_df, sero_df, cons_df, sero_vr_df):\n",
    "    vr_df_plot  = vr_df.reset_index()\n",
    "    vr_df_plot['type'] = 'VR-All'\n",
    "    sero_df_plot = sero_df.reset_index()\n",
    "    sero_df_plot['type'] = 'Serotypes\\n(VR-)'\n",
    "    cons_df_plot = cons_df.reset_index()\n",
    "    cons_df_plot['type'] = 'Conserved'\n",
    "    sero_vr_df_plot = sero_vr_df.reset_index()\n",
    "    sero_vr_df_plot['type'] = 'Serotypes\\n(VR+)'\n",
    "\n",
    "    \n",
    "    return pd.concat([vr_df_plot, sero_df_plot, cons_df_plot,sero_vr_df_plot])"
   ]
  },
  {
   "cell_type": "code",
   "execution_count": 47,
   "metadata": {},
   "outputs": [
    {
     "data": {
      "image/png": "[encoded data removed]",
      "text/plain": [
       "<matplotlib.figure.Figure at 0x7f8c20a3ddd8>"
      ]
     },
     "metadata": {
      "needs_background": "light"
     },
     "output_type": "display_data"
    }
   ],
   "source": [
    "fig, ax =plt.subplots(figsize=[2.64,2])\n",
    "fit_df = melt_for_box_plot(vr_df, non_vr_other_serotypes, conserved_df,vr_other_serotypes)\n",
    "sns.violinplot(x='type', y=('CMV', '0'),order=['Serotypes\\n(VR+)',\n",
    "                                           'Serotypes\\n(VR-)',\n",
    "                                           'VR-All',\n",
    "                                           'Conserved'] , data=fit_df, color='lightgray')\n",
    "\n",
    "plt.ylabel('log2(Selection)')\n",
    "plt.xlabel('')\n",
    "plt.yticks([-8,-4,0,4])\n",
    "plt.ylim((-9, 6))\n",
    "ax.set_yticks([0], minor=True)\n",
    "ax.yaxis.grid(True, which='minor')\n"
   ]
  },
  {
   "cell_type": "code",
   "execution_count": 48,
   "metadata": {},
   "outputs": [
    {
     "data": {
      "text/html": [
       "<div>\n",
       "<style scoped>\n",
       "    .dataframe tbody tr th:only-of-type {\n",
       "        vertical-align: middle;\n",
       "    }\n",
       "\n",
       "    .dataframe tbody tr th {\n",
       "        vertical-align: top;\n",
       "    }\n",
       "\n",
       "    .dataframe thead th {\n",
       "        text-align: right;\n",
       "    }\n",
       "</style>\n",
       "<table border=\"1\" class=\"dataframe\">\n",
       "  <thead>\n",
       "    <tr style=\"text-align: right;\">\n",
       "      <th></th>\n",
       "      <th>col_1</th>\n",
       "      <th>col_2</th>\n",
       "      <th>effect_size</th>\n",
       "      <th>ks_pval</th>\n",
       "      <th>mannpval</th>\n",
       "    </tr>\n",
       "  </thead>\n",
       "  <tbody>\n",
       "    <tr>\n",
       "      <th>0</th>\n",
       "      <td>VR-All</td>\n",
       "      <td>Serotypes\\n(VR-)</td>\n",
       "      <td>-0.649327</td>\n",
       "      <td>2.140506e-15</td>\n",
       "      <td>3.021068e-11</td>\n",
       "    </tr>\n",
       "    <tr>\n",
       "      <th>1</th>\n",
       "      <td>VR-All</td>\n",
       "      <td>Conserved</td>\n",
       "      <td>2.687190</td>\n",
       "      <td>0.000000e+00</td>\n",
       "      <td>0.000000e+00</td>\n",
       "    </tr>\n",
       "    <tr>\n",
       "      <th>2</th>\n",
       "      <td>VR-All</td>\n",
       "      <td>Serotypes\\n(VR+)</td>\n",
       "      <td>-0.828524</td>\n",
       "      <td>2.331468e-15</td>\n",
       "      <td>5.035062e-16</td>\n",
       "    </tr>\n",
       "    <tr>\n",
       "      <th>3</th>\n",
       "      <td>Serotypes\\n(VR-)</td>\n",
       "      <td>VR-All</td>\n",
       "      <td>0.649327</td>\n",
       "      <td>2.140506e-15</td>\n",
       "      <td>3.021068e-11</td>\n",
       "    </tr>\n",
       "    <tr>\n",
       "      <th>4</th>\n",
       "      <td>Serotypes\\n(VR-)</td>\n",
       "      <td>Conserved</td>\n",
       "      <td>3.336517</td>\n",
       "      <td>1.527973e-203</td>\n",
       "      <td>1.196214e-214</td>\n",
       "    </tr>\n",
       "    <tr>\n",
       "      <th>5</th>\n",
       "      <td>Serotypes\\n(VR-)</td>\n",
       "      <td>Serotypes\\n(VR+)</td>\n",
       "      <td>-0.179197</td>\n",
       "      <td>2.934965e-02</td>\n",
       "      <td>4.412552e-04</td>\n",
       "    </tr>\n",
       "    <tr>\n",
       "      <th>6</th>\n",
       "      <td>Conserved</td>\n",
       "      <td>VR-All</td>\n",
       "      <td>-2.687190</td>\n",
       "      <td>0.000000e+00</td>\n",
       "      <td>0.000000e+00</td>\n",
       "    </tr>\n",
       "    <tr>\n",
       "      <th>7</th>\n",
       "      <td>Conserved</td>\n",
       "      <td>Serotypes\\n(VR-)</td>\n",
       "      <td>-3.336517</td>\n",
       "      <td>1.527973e-203</td>\n",
       "      <td>1.196214e-214</td>\n",
       "    </tr>\n",
       "    <tr>\n",
       "      <th>8</th>\n",
       "      <td>Conserved</td>\n",
       "      <td>Serotypes\\n(VR+)</td>\n",
       "      <td>-3.515714</td>\n",
       "      <td>1.319640e-117</td>\n",
       "      <td>4.392509e-122</td>\n",
       "    </tr>\n",
       "    <tr>\n",
       "      <th>9</th>\n",
       "      <td>Serotypes\\n(VR+)</td>\n",
       "      <td>VR-All</td>\n",
       "      <td>0.828524</td>\n",
       "      <td>2.331468e-15</td>\n",
       "      <td>5.035062e-16</td>\n",
       "    </tr>\n",
       "    <tr>\n",
       "      <th>10</th>\n",
       "      <td>Serotypes\\n(VR+)</td>\n",
       "      <td>Serotypes\\n(VR-)</td>\n",
       "      <td>0.179197</td>\n",
       "      <td>2.934965e-02</td>\n",
       "      <td>4.412552e-04</td>\n",
       "    </tr>\n",
       "    <tr>\n",
       "      <th>11</th>\n",
       "      <td>Serotypes\\n(VR+)</td>\n",
       "      <td>Conserved</td>\n",
       "      <td>3.515714</td>\n",
       "      <td>1.319640e-117</td>\n",
       "      <td>4.392509e-122</td>\n",
       "    </tr>\n",
       "  </tbody>\n",
       "</table>\n",
       "</div>"
      ],
      "text/plain": [
       "               col_1             col_2  effect_size        ks_pval  \\\n",
       "0             VR-All  Serotypes\\n(VR-)    -0.649327   2.140506e-15   \n",
       "1             VR-All         Conserved     2.687190   0.000000e+00   \n",
       "2             VR-All  Serotypes\\n(VR+)    -0.828524   2.331468e-15   \n",
       "3   Serotypes\\n(VR-)            VR-All     0.649327   2.140506e-15   \n",
       "4   Serotypes\\n(VR-)         Conserved     3.336517  1.527973e-203   \n",
       "5   Serotypes\\n(VR-)  Serotypes\\n(VR+)    -0.179197   2.934965e-02   \n",
       "6          Conserved            VR-All    -2.687190   0.000000e+00   \n",
       "7          Conserved  Serotypes\\n(VR-)    -3.336517  1.527973e-203   \n",
       "8          Conserved  Serotypes\\n(VR+)    -3.515714  1.319640e-117   \n",
       "9   Serotypes\\n(VR+)            VR-All     0.828524   2.331468e-15   \n",
       "10  Serotypes\\n(VR+)  Serotypes\\n(VR-)     0.179197   2.934965e-02   \n",
       "11  Serotypes\\n(VR+)         Conserved     3.515714  1.319640e-117   \n",
       "\n",
       "         mannpval  \n",
       "0    3.021068e-11  \n",
       "1    0.000000e+00  \n",
       "2    5.035062e-16  \n",
       "3    3.021068e-11  \n",
       "4   1.196214e-214  \n",
       "5    4.412552e-04  \n",
       "6    0.000000e+00  \n",
       "7   1.196214e-214  \n",
       "8   4.392509e-122  \n",
       "9    5.035062e-16  \n",
       "10   4.412552e-04  \n",
       "11  4.392509e-122  "
      ]
     },
     "execution_count": 48,
     "metadata": {},
     "output_type": "execute_result"
    }
   ],
   "source": [
    "pvals=[]\n",
    "for col_1 in fit_df['type'].unique():\n",
    "    for col_2 in fit_df['type'].unique():\n",
    "        if col_1==col_2 : continue\n",
    "        col_1_data = fit_df[fit_df['type'] == col_1][('CMV', '0')]\n",
    "        col_2_data = fit_df[fit_df['type'] == col_2][('CMV', '0')]\n",
    "        pvals.append({'col_1':col_1, 'col_2':col_2,\n",
    "                      'mannpval': mannwhitneyu(col_1_data, col_2_data)[1],\n",
    "                     'ks_pval': stats.ks_2samp(col_1_data, col_2_data)[1], \n",
    "                      'effect_size':np.median(col_1_data) - np.median(col_2_data) })\n",
    "pd.DataFrame(pvals)"
   ]
  },
  {
   "cell_type": "code",
   "execution_count": null,
   "metadata": {},
   "outputs": [],
   "source": []
  }
 ],
 "metadata": {
  "kernelspec": {
   "display_name": "aav_venv",
   "language": "python",
   "name": "aav_venv"
  },
  "language_info": {
   "codemirror_mode": {
    "name": "ipython",
    "version": 3
   },
   "file_extension": ".py",
   "mimetype": "text/x-python",
   "name": "python",
   "nbconvert_exporter": "python",
   "pygments_lexer": "ipython3",
   "version": "3.6.6"
  }
 },
 "nbformat": 4,
 "nbformat_minor": 2
}
