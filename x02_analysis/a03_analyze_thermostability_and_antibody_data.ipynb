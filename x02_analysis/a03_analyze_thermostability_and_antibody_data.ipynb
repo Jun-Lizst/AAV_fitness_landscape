{
 "cells": [
  {
   "cell_type": "markdown",
   "metadata": {},
   "source": [
    "# Thermostability and antibody neutralization analysis"
   ]
  },
  {
   "cell_type": "code",
   "execution_count": 1,
   "metadata": {
    "collapsed": true
   },
   "outputs": [],
   "source": [
    "import os \n",
    "import sys \n",
    "\n",
    "from Bio import AlignIO\n",
    "import pandas as pd \n",
    "pd_idx =pd.IndexSlice\n",
    "import numpy as np\n",
    "import seaborn as sns \n",
    "import matplotlib.pyplot as plt\n",
    "import scipy.stats as stats\n",
    "from scipy.stats import pearsonr\n",
    "\n",
    "\n",
    "from common import mm_to_inch,load_axis_contacts\n",
    "%reload_ext autoreload\n",
    "%autoreload 2\n",
    "sys.path.append('../x01_process_data/')\n",
    "import x02_load_dataframes\n",
    "import x03_compute_selections\n",
    "\n",
    "sys.path.append('../settings/')\n",
    "# from paths_new import FIGURES_DIR\n",
    "from common import DESIRED_AA_ORD\n",
    "from common import codon_to_aa_selector\n",
    "from paper_settings import PAPER_PRESET\n",
    "from paper_settings import PAPER_FONTSIZE\n",
    "from paper_settings import save_fig\n",
    "\n",
    "\n",
    "sns.set(**PAPER_PRESET)"
   ]
  },
  {
   "cell_type": "code",
   "execution_count": 2,
   "metadata": {
    "collapsed": true
   },
   "outputs": [],
   "source": [
    "package_data = x02_load_dataframes.load_packaging_df()\n",
    "tm_data = x02_load_dataframes.load_thermostability_df()"
   ]
  },
  {
   "cell_type": "code",
   "execution_count": 3,
   "metadata": {
    "collapsed": true
   },
   "outputs": [],
   "source": [
    "tm_selection_dict = x03_compute_selections.compute_tm_selection(package_data, tm_data,wt_norm=True,sum_all=True)"
   ]
  },
  {
   "cell_type": "code",
   "execution_count": 4,
   "metadata": {
    "collapsed": false
   },
   "outputs": [
    {
     "data": {
      "text/html": [
       "<div>\n",
       "<style scoped>\n",
       "    .dataframe tbody tr th:only-of-type {\n",
       "        vertical-align: middle;\n",
       "    }\n",
       "\n",
       "    .dataframe tbody tr th {\n",
       "        vertical-align: top;\n",
       "    }\n",
       "\n",
       "    .dataframe thead th {\n",
       "        text-align: right;\n",
       "    }\n",
       "</style>\n",
       "<table border=\"1\" class=\"dataframe\">\n",
       "  <thead>\n",
       "    <tr style=\"text-align: right;\">\n",
       "      <th></th>\n",
       "      <th></th>\n",
       "      <th></th>\n",
       "      <th>virus</th>\n",
       "      <th>CMV2</th>\n",
       "      <th>Rep2</th>\n",
       "    </tr>\n",
       "    <tr>\n",
       "      <th>abs_pos</th>\n",
       "      <th>aa</th>\n",
       "      <th>wt_bc</th>\n",
       "      <th>lib_type</th>\n",
       "      <th></th>\n",
       "      <th></th>\n",
       "    </tr>\n",
       "  </thead>\n",
       "  <tbody>\n",
       "    <tr>\n",
       "      <th rowspan=\"5\" valign=\"top\">1.0</th>\n",
       "      <th>*</th>\n",
       "      <th>0</th>\n",
       "      <th>sub</th>\n",
       "      <td>0.803975</td>\n",
       "      <td>0.506584</td>\n",
       "    </tr>\n",
       "    <tr>\n",
       "      <th>-</th>\n",
       "      <th>0</th>\n",
       "      <th>del</th>\n",
       "      <td>NaN</td>\n",
       "      <td>NaN</td>\n",
       "    </tr>\n",
       "    <tr>\n",
       "      <th>A</th>\n",
       "      <th>0</th>\n",
       "      <th>sub</th>\n",
       "      <td>0.112274</td>\n",
       "      <td>0.676374</td>\n",
       "    </tr>\n",
       "    <tr>\n",
       "      <th>C</th>\n",
       "      <th>0</th>\n",
       "      <th>sub</th>\n",
       "      <td>1.073104</td>\n",
       "      <td>0.488647</td>\n",
       "    </tr>\n",
       "    <tr>\n",
       "      <th>D</th>\n",
       "      <th>0</th>\n",
       "      <th>sub</th>\n",
       "      <td>19.535643</td>\n",
       "      <td>NaN</td>\n",
       "    </tr>\n",
       "  </tbody>\n",
       "</table>\n",
       "</div>"
      ],
      "text/plain": [
       "virus                           CMV2      Rep2\n",
       "abs_pos aa wt_bc lib_type                     \n",
       "1.0     *  0     sub        0.803975  0.506584\n",
       "        -  0     del             NaN       NaN\n",
       "        A  0     sub        0.112274  0.676374\n",
       "        C  0     sub        1.073104  0.488647\n",
       "        D  0     sub       19.535643       NaN"
      ]
     },
     "execution_count": 4,
     "metadata": {},
     "output_type": "execute_result"
    }
   ],
   "source": [
    "tma_aa_selection = tm_selection_dict['aa_selection']\n",
    "tma_barcode_selection = tm_selection_dict['barcode_selection']\n",
    "tma_aa_mean = tma_aa_selection.loc[:,pd_idx[:,['67']]].groupby(level='virus', axis=1).mean()\n",
    "tma_aa_mean.head()"
   ]
  },
  {
   "cell_type": "code",
   "execution_count": 5,
   "metadata": {
    "collapsed": false
   },
   "outputs": [
    {
     "name": "stdout",
     "output_type": "stream",
     "text": [
      "['abs_pos', 'aa', 'lib_type']\n",
      "['abs_pos', 'aa', 'lib_type']\n",
      "['abs_pos', 'aa', 'lib_type']\n"
     ]
    },
    {
     "name": "stderr",
     "output_type": "stream",
     "text": [
      "/home/ubuntu/repos/AAV2scan-paper/venv/lib/python3.6/site-packages/pandas/core/generic.py:3111: PerformanceWarning: dropping on a non-lexsorted multi-index without a level parameter may impact performance.\n",
      "  obj = obj._drop_axis(labels, axis, level=level, errors=errors)\n"
     ]
    }
   ],
   "source": [
    "package_aa_sel = x03_compute_selections.compute_packaging_selection(package_data, level='aa')\n",
    "package_barcode_sel = x03_compute_selections.compute_packaging_selection(package_data, level='barcode')\n",
    "tm_aa_filtered = codon_to_aa_selector(\n",
    "    package_aa_sel[package_aa_sel[('CMV','0')]>.5], tma_aa_selection)\n",
    "\n",
    "package_aa_sel_filtered = codon_to_aa_selector(\n",
    "    package_aa_sel[package_aa_sel[('CMV','0')]>.5], package_aa_sel)\n",
    "\n",
    "tm_barcode_filtered = codon_to_aa_selector(\n",
    "    package_aa_sel[package_aa_sel[('CMV','0')]>.5], tma_barcode_selection)\n",
    "\n"
   ]
  },
  {
   "cell_type": "code",
   "execution_count": 6,
   "metadata": {
    "collapsed": false
   },
   "outputs": [
    {
     "data": {
      "text/html": [
       "<div>\n",
       "<style scoped>\n",
       "    .dataframe tbody tr th:only-of-type {\n",
       "        vertical-align: middle;\n",
       "    }\n",
       "\n",
       "    .dataframe tbody tr th {\n",
       "        vertical-align: top;\n",
       "    }\n",
       "\n",
       "    .dataframe thead th {\n",
       "        text-align: right;\n",
       "    }\n",
       "</style>\n",
       "<table border=\"1\" class=\"dataframe\">\n",
       "  <thead>\n",
       "    <tr style=\"text-align: right;\">\n",
       "      <th></th>\n",
       "      <th></th>\n",
       "      <th></th>\n",
       "      <th>CMV</th>\n",
       "      <th>Rep</th>\n",
       "    </tr>\n",
       "    <tr>\n",
       "      <th>abs_pos</th>\n",
       "      <th>aa</th>\n",
       "      <th>lib_type</th>\n",
       "      <th></th>\n",
       "      <th></th>\n",
       "    </tr>\n",
       "  </thead>\n",
       "  <tbody>\n",
       "    <tr>\n",
       "      <th>1.0</th>\n",
       "      <th>M</th>\n",
       "      <th>sub</th>\n",
       "      <td>1.162297</td>\n",
       "      <td>1.017629</td>\n",
       "    </tr>\n",
       "    <tr>\n",
       "      <th rowspan=\"2\" valign=\"top\">1.5</th>\n",
       "      <th>A</th>\n",
       "      <th>ins</th>\n",
       "      <td>0.738688</td>\n",
       "      <td>0.466243</td>\n",
       "    </tr>\n",
       "    <tr>\n",
       "      <th>G</th>\n",
       "      <th>ins</th>\n",
       "      <td>0.506037</td>\n",
       "      <td>0.278422</td>\n",
       "    </tr>\n",
       "    <tr>\n",
       "      <th rowspan=\"2\" valign=\"top\">2.0</th>\n",
       "      <th rowspan=\"2\" valign=\"top\">A</th>\n",
       "      <th>sub</th>\n",
       "      <td>0.962769</td>\n",
       "      <td>0.254804</td>\n",
       "    </tr>\n",
       "    <tr>\n",
       "      <th>sub</th>\n",
       "      <td>NaN</td>\n",
       "      <td>NaN</td>\n",
       "    </tr>\n",
       "  </tbody>\n",
       "</table>\n",
       "</div>"
      ],
      "text/plain": [
       "                          CMV       Rep\n",
       "abs_pos aa lib_type                    \n",
       "1.0     M  sub       1.162297  1.017629\n",
       "1.5     A  ins       0.738688  0.466243\n",
       "        G  ins       0.506037  0.278422\n",
       "2.0     A  sub       0.962769  0.254804\n",
       "           sub            NaN       NaN"
      ]
     },
     "execution_count": 6,
     "metadata": {},
     "output_type": "execute_result"
    }
   ],
   "source": [
    "package_aa_sel_filtered_all = package_aa_sel_filtered.iloc[:,:2]\n",
    "package_aa_sel_filtered_all.columns = package_aa_sel_filtered_all.columns.droplevel(1)\n",
    "package_aa_sel_filtered_all.index = package_aa_sel_filtered_all.index.droplevel(2)\n",
    "package_aa_sel_filtered_all.head()"
   ]
  },
  {
   "cell_type": "code",
   "execution_count": 7,
   "metadata": {
    "collapsed": false
   },
   "outputs": [
    {
     "data": {
      "text/html": [
       "<div>\n",
       "<style scoped>\n",
       "    .dataframe tbody tr th:only-of-type {\n",
       "        vertical-align: middle;\n",
       "    }\n",
       "\n",
       "    .dataframe tbody tr th {\n",
       "        vertical-align: top;\n",
       "    }\n",
       "\n",
       "    .dataframe thead th {\n",
       "        text-align: right;\n",
       "    }\n",
       "</style>\n",
       "<table border=\"1\" class=\"dataframe\">\n",
       "  <thead>\n",
       "    <tr style=\"text-align: right;\">\n",
       "      <th></th>\n",
       "      <th></th>\n",
       "      <th>virus</th>\n",
       "      <th>CMV2</th>\n",
       "      <th>Rep2</th>\n",
       "    </tr>\n",
       "    <tr>\n",
       "      <th>abs_pos</th>\n",
       "      <th>aa</th>\n",
       "      <th>lib_type</th>\n",
       "      <th></th>\n",
       "      <th></th>\n",
       "    </tr>\n",
       "  </thead>\n",
       "  <tbody>\n",
       "    <tr>\n",
       "      <th rowspan=\"5\" valign=\"top\">1.0</th>\n",
       "      <th>*</th>\n",
       "      <th>sub</th>\n",
       "      <td>0.803975</td>\n",
       "      <td>0.506584</td>\n",
       "    </tr>\n",
       "    <tr>\n",
       "      <th>-</th>\n",
       "      <th>del</th>\n",
       "      <td>NaN</td>\n",
       "      <td>NaN</td>\n",
       "    </tr>\n",
       "    <tr>\n",
       "      <th>A</th>\n",
       "      <th>sub</th>\n",
       "      <td>0.112274</td>\n",
       "      <td>0.676374</td>\n",
       "    </tr>\n",
       "    <tr>\n",
       "      <th>C</th>\n",
       "      <th>sub</th>\n",
       "      <td>1.073104</td>\n",
       "      <td>0.488647</td>\n",
       "    </tr>\n",
       "    <tr>\n",
       "      <th>D</th>\n",
       "      <th>sub</th>\n",
       "      <td>19.535643</td>\n",
       "      <td>NaN</td>\n",
       "    </tr>\n",
       "  </tbody>\n",
       "</table>\n",
       "</div>"
      ],
      "text/plain": [
       "virus                     CMV2      Rep2\n",
       "abs_pos aa lib_type                     \n",
       "1.0     *  sub        0.803975  0.506584\n",
       "        -  del             NaN       NaN\n",
       "        A  sub        0.112274  0.676374\n",
       "        C  sub        1.073104  0.488647\n",
       "        D  sub       19.535643       NaN"
      ]
     },
     "execution_count": 7,
     "metadata": {},
     "output_type": "execute_result"
    }
   ],
   "source": [
    "tma_aa_mean.index = tma_aa_mean.index.droplevel(2)\n",
    "tma_aa_mean.head()"
   ]
  },
  {
   "cell_type": "code",
   "execution_count": 8,
   "metadata": {
    "collapsed": false
   },
   "outputs": [
    {
     "data": {
      "text/html": [
       "<div>\n",
       "<style scoped>\n",
       "    .dataframe tbody tr th:only-of-type {\n",
       "        vertical-align: middle;\n",
       "    }\n",
       "\n",
       "    .dataframe tbody tr th {\n",
       "        vertical-align: top;\n",
       "    }\n",
       "\n",
       "    .dataframe thead th {\n",
       "        text-align: right;\n",
       "    }\n",
       "</style>\n",
       "<table border=\"1\" class=\"dataframe\">\n",
       "  <thead>\n",
       "    <tr style=\"text-align: right;\">\n",
       "      <th></th>\n",
       "      <th></th>\n",
       "      <th></th>\n",
       "      <th>CMV</th>\n",
       "      <th>Rep</th>\n",
       "      <th>CMV2</th>\n",
       "      <th>Rep2</th>\n",
       "    </tr>\n",
       "    <tr>\n",
       "      <th>abs_pos</th>\n",
       "      <th>aa</th>\n",
       "      <th>lib_type</th>\n",
       "      <th></th>\n",
       "      <th></th>\n",
       "      <th></th>\n",
       "      <th></th>\n",
       "    </tr>\n",
       "  </thead>\n",
       "  <tbody>\n",
       "    <tr>\n",
       "      <th>1.0</th>\n",
       "      <th>M</th>\n",
       "      <th>sub</th>\n",
       "      <td>1.162297</td>\n",
       "      <td>1.017629</td>\n",
       "      <td>0.875946</td>\n",
       "      <td>1.046950</td>\n",
       "    </tr>\n",
       "    <tr>\n",
       "      <th rowspan=\"2\" valign=\"top\">1.5</th>\n",
       "      <th>A</th>\n",
       "      <th>ins</th>\n",
       "      <td>0.738688</td>\n",
       "      <td>0.466243</td>\n",
       "      <td>0.581564</td>\n",
       "      <td>0.734899</td>\n",
       "    </tr>\n",
       "    <tr>\n",
       "      <th>G</th>\n",
       "      <th>ins</th>\n",
       "      <td>0.506037</td>\n",
       "      <td>0.278422</td>\n",
       "      <td>0.722526</td>\n",
       "      <td>1.500956</td>\n",
       "    </tr>\n",
       "    <tr>\n",
       "      <th>2.0</th>\n",
       "      <th>A</th>\n",
       "      <th>sub</th>\n",
       "      <td>0.962769</td>\n",
       "      <td>0.254804</td>\n",
       "      <td>1.684666</td>\n",
       "      <td>4.947548</td>\n",
       "    </tr>\n",
       "    <tr>\n",
       "      <th>2.5</th>\n",
       "      <th>A</th>\n",
       "      <th>ins</th>\n",
       "      <td>0.659602</td>\n",
       "      <td>0.314683</td>\n",
       "      <td>0.731344</td>\n",
       "      <td>0.837111</td>\n",
       "    </tr>\n",
       "  </tbody>\n",
       "</table>\n",
       "</div>"
      ],
      "text/plain": [
       "                          CMV       Rep      CMV2      Rep2\n",
       "abs_pos aa lib_type                                        \n",
       "1.0     M  sub       1.162297  1.017629  0.875946  1.046950\n",
       "1.5     A  ins       0.738688  0.466243  0.581564  0.734899\n",
       "        G  ins       0.506037  0.278422  0.722526  1.500956\n",
       "2.0     A  sub       0.962769  0.254804  1.684666  4.947548\n",
       "2.5     A  ins       0.659602  0.314683  0.731344  0.837111"
      ]
     },
     "execution_count": 8,
     "metadata": {},
     "output_type": "execute_result"
    }
   ],
   "source": [
    "tm_package_compare = package_aa_sel_filtered_all.join(tma_aa_mean,how='inner')\n",
    "tm_package_compare.dropna(inplace=True)\n",
    "tm_package_compare.head()"
   ]
  },
  {
   "cell_type": "markdown",
   "metadata": {},
   "source": [
    "### histogram of selection values across temperatures"
   ]
  },
  {
   "cell_type": "code",
   "execution_count": 9,
   "metadata": {
    "collapsed": false
   },
   "outputs": [
    {
     "data": {
      "image/png": "[encoded data removed]",
      "text/plain": [
       "<matplotlib.figure.Figure at 0x7f761580fcc0>"
      ]
     },
     "metadata": {
      "needs_background": "light"
     },
     "output_type": "display_data"
    }
   ],
   "source": [
    "tms_good = ['55','60','65','66','67','68']\n",
    "fig, axes = plt.subplots(ncols=1, nrows=6, sharex=True, sharey=True, figsize=(2,7))\n",
    "for tm, ax in zip(tms_good, axes.flatten()):\n",
    "    tm_in = tm_aa_filtered.groupby(\n",
    "    level=['abs_pos', 'aa', 'wt_bc']).mean().xs(\n",
    "        ('CMV2', tm), level=['virus','tm'], axis=1).dropna().apply(np.log2)\n",
    "    count = tm_in[tm_in<-2.5].count()\n",
    "    percent_in_tail = (float(count) / tm_in.count() ).values[0]\n",
    "    sns.distplot(tm_aa_filtered.groupby(\n",
    "    level=['abs_pos', 'aa', 'wt_bc']).mean().xs(\n",
    "        ('CMV2', tm), level=['virus','tm'], axis=1).dropna().apply(np.log2),ax=ax,axlabel=\"Temp: %sC\" % (tm),color='slategray')\n",
    "    ax.plot([-2.5,-2.5],[0,1],c='grey')\n",
    "    ax.text(-7,0.1,\"%.01f%%\" % (percent_in_tail*100),size=7)\n",
    "    ax.set_ylim(0,1)\n",
    "    ax.set_yticks([0,1])\n",
    "plt.tight_layout()"
   ]
  },
  {
   "cell_type": "markdown",
   "metadata": {},
   "source": [
    "### positional frequency of mutations in the left tail of selection distribution - less than log2(-2.5) "
   ]
  },
  {
   "cell_type": "code",
   "execution_count": 10,
   "metadata": {
    "collapsed": false
   },
   "outputs": [
    {
     "name": "stderr",
     "output_type": "stream",
     "text": [
      "/home/ubuntu/repos/AAV2scan-paper/venv/lib/python3.6/site-packages/pandas/core/groupby/groupby.py:4315: FutureWarning: arrays to stack must be passed as a \"sequence\" type such as list or tuple. Support for non-sequence iterables such as generators is deprecated as of NumPy 1.16 and will raise an error in the future.\n",
      "  stacked_values = np.vstack(map(np.asarray, values))\n"
     ]
    },
    {
     "data": {
      "image/png": "[encoded data removed]",
      "text/plain": [
       "<matplotlib.figure.Figure at 0x7f7604ba94a8>"
      ]
     },
     "metadata": {
      "needs_background": "light"
     },
     "output_type": "display_data"
    }
   ],
   "source": [
    "tm_aa_left_tail = tm_aa_filtered[tm_aa_filtered < (2**-2.5)]\n",
    "fig, axes = plt.subplots( nrows=6, sharex=True, sharey=True, figsize=(5,7))\n",
    "for tm, ax in zip(tms_good, axes.flatten()):\n",
    "    ax.plot(tm_aa_left_tail.groupby(level='abs_pos').apply(\n",
    "        lambda x: x.count()/len(x)).xs(('CMV2', tm), level=['virus', 'tm'], axis=1),c='slategray',linewidth=.5)\n",
    "    ax.set_xlabel(\"Temp: %sC\" % (tm))\n",
    "plt.tight_layout()"
   ]
  },
  {
   "cell_type": "markdown",
   "metadata": {},
   "source": [
    "### focus on temperature 65C, the measured Tm for AAV2"
   ]
  },
  {
   "cell_type": "code",
   "execution_count": 11,
   "metadata": {
    "collapsed": false
   },
   "outputs": [
    {
     "name": "stderr",
     "output_type": "stream",
     "text": [
      "/home/ubuntu/repos/AAV2scan-paper/venv/lib/python3.6/site-packages/ipykernel_launcher.py:5: SettingWithCopyWarning: \n",
      "A value is trying to be set on a copy of a slice from a DataFrame.\n",
      "Try using .loc[row_indexer,col_indexer] = value instead\n",
      "\n",
      "See the caveats in the documentation: http://pandas.pydata.org/pandas-docs/stable/indexing.html#indexing-view-versus-copy\n",
      "  \"\"\"\n"
     ]
    }
   ],
   "source": [
    "tm_65_percents = tm_aa_left_tail.groupby(level='abs_pos').apply(\n",
    "        lambda x: x.count()/len(x)).xs(('CMV2', tm), level=['virus', 'tm'], axis=1).reset_index()\n",
    "tm_65_percents.columns = tm_65_percents.columns.droplevel(1)\n",
    "tm_65_percents_subs = tm_65_percents[tm_65_percents['abs_pos'].isin(np.arange(0,735))]\n",
    "tm_65_percents_subs['abs_pos']  = tm_65_percents_subs['abs_pos'].apply(int)"
   ]
  },
  {
   "cell_type": "markdown",
   "metadata": {},
   "source": [
    "### load known AAV2 contacts from VIPERDB \n",
    "add selection values for each contact  \n",
    "website: http://viperdb.scripps.edu/"
   ]
  },
  {
   "cell_type": "code",
   "execution_count": 12,
   "metadata": {
    "collapsed": false
   },
   "outputs": [
    {
     "data": {
      "text/html": [
       "<div>\n",
       "<style scoped>\n",
       "    .dataframe tbody tr th:only-of-type {\n",
       "        vertical-align: middle;\n",
       "    }\n",
       "\n",
       "    .dataframe tbody tr th {\n",
       "        vertical-align: top;\n",
       "    }\n",
       "\n",
       "    .dataframe thead th {\n",
       "        text-align: right;\n",
       "    }\n",
       "</style>\n",
       "<table border=\"1\" class=\"dataframe\">\n",
       "  <thead>\n",
       "    <tr style=\"text-align: right;\">\n",
       "      <th></th>\n",
       "      <th>Residue1-Residue2</th>\n",
       "      <th>Type1-Type2</th>\n",
       "      <th>A1-A6 (I-2)</th>\n",
       "      <th>A1-A7 (I-3)</th>\n",
       "      <th>A1-A2 (I-5)</th>\n",
       "      <th>A1-A12 (I-5)</th>\n",
       "      <th>Residue1_pdb</th>\n",
       "      <th>Residue2_pdb</th>\n",
       "      <th>res1_vp</th>\n",
       "      <th>res2_vp</th>\n",
       "      <th>abs_pos_x</th>\n",
       "      <th>CMV2_x</th>\n",
       "      <th>abs_pos_y</th>\n",
       "      <th>CMV2_y</th>\n",
       "    </tr>\n",
       "  </thead>\n",
       "  <tbody>\n",
       "    <tr>\n",
       "      <th>109</th>\n",
       "      <td>ASN180-THR202</td>\n",
       "      <td>P-P</td>\n",
       "      <td>NaN</td>\n",
       "      <td>NaN</td>\n",
       "      <td>A2-A1</td>\n",
       "      <td>NaN</td>\n",
       "      <td>180</td>\n",
       "      <td>202</td>\n",
       "      <td>317</td>\n",
       "      <td>339</td>\n",
       "      <td>317</td>\n",
       "      <td>1.0</td>\n",
       "      <td>339</td>\n",
       "      <td>0.0</td>\n",
       "    </tr>\n",
       "    <tr>\n",
       "      <th>253</th>\n",
       "      <td>ASN298-HSD221</td>\n",
       "      <td>P-B</td>\n",
       "      <td>NaN</td>\n",
       "      <td>A1-A7</td>\n",
       "      <td>NaN</td>\n",
       "      <td>NaN</td>\n",
       "      <td>298</td>\n",
       "      <td>221</td>\n",
       "      <td>435</td>\n",
       "      <td>358</td>\n",
       "      <td>435</td>\n",
       "      <td>1.0</td>\n",
       "      <td>358</td>\n",
       "      <td>0.0</td>\n",
       "    </tr>\n",
       "    <tr>\n",
       "      <th>567</th>\n",
       "      <td>GLN562-THR564</td>\n",
       "      <td>P-P</td>\n",
       "      <td>A1-A6</td>\n",
       "      <td>NaN</td>\n",
       "      <td>NaN</td>\n",
       "      <td>NaN</td>\n",
       "      <td>562</td>\n",
       "      <td>564</td>\n",
       "      <td>699</td>\n",
       "      <td>701</td>\n",
       "      <td>699</td>\n",
       "      <td>1.0</td>\n",
       "      <td>701</td>\n",
       "      <td>0.0</td>\n",
       "    </tr>\n",
       "    <tr>\n",
       "      <th>124</th>\n",
       "      <td>ARG267-ASN180</td>\n",
       "      <td>B-P</td>\n",
       "      <td>NaN</td>\n",
       "      <td>NaN</td>\n",
       "      <td>A1-A2</td>\n",
       "      <td>NaN</td>\n",
       "      <td>267</td>\n",
       "      <td>180</td>\n",
       "      <td>404</td>\n",
       "      <td>317</td>\n",
       "      <td>404</td>\n",
       "      <td>1.0</td>\n",
       "      <td>317</td>\n",
       "      <td>1.0</td>\n",
       "    </tr>\n",
       "    <tr>\n",
       "      <th>561</th>\n",
       "      <td>GLN562-GLN160</td>\n",
       "      <td>P-P</td>\n",
       "      <td>A6-A1</td>\n",
       "      <td>NaN</td>\n",
       "      <td>NaN</td>\n",
       "      <td>NaN</td>\n",
       "      <td>562</td>\n",
       "      <td>160</td>\n",
       "      <td>699</td>\n",
       "      <td>297</td>\n",
       "      <td>699</td>\n",
       "      <td>1.0</td>\n",
       "      <td>297</td>\n",
       "      <td>0.0</td>\n",
       "    </tr>\n",
       "  </tbody>\n",
       "</table>\n",
       "</div>"
      ],
      "text/plain": [
       "    Residue1-Residue2 Type1-Type2 A1-A6 (I-2) A1-A7 (I-3) A1-A2 (I-5)  \\\n",
       "109     ASN180-THR202         P-P         NaN         NaN       A2-A1   \n",
       "253     ASN298-HSD221         P-B         NaN       A1-A7         NaN   \n",
       "567     GLN562-THR564         P-P       A1-A6         NaN         NaN   \n",
       "124     ARG267-ASN180         B-P         NaN         NaN       A1-A2   \n",
       "561     GLN562-GLN160         P-P       A6-A1         NaN         NaN   \n",
       "\n",
       "    A1-A12 (I-5) Residue1_pdb Residue2_pdb  res1_vp  res2_vp  abs_pos_x  \\\n",
       "109          NaN          180          202      317      339        317   \n",
       "253          NaN          298          221      435      358        435   \n",
       "567          NaN          562          564      699      701        699   \n",
       "124          NaN          267          180      404      317        404   \n",
       "561          NaN          562          160      699      297        699   \n",
       "\n",
       "     CMV2_x  abs_pos_y  CMV2_y  \n",
       "109     1.0        339     0.0  \n",
       "253     1.0        358     0.0  \n",
       "567     1.0        701     0.0  \n",
       "124     1.0        317     1.0  \n",
       "561     1.0        297     0.0  "
      ]
     },
     "execution_count": 12,
     "metadata": {},
     "output_type": "execute_result"
    }
   ],
   "source": [
    "contacts_df = load_axis_contacts()\n",
    "contacts_df_with_tm_freq =  contacts_df.merge(\n",
    "    tm_65_percents_subs, left_on='res1_vp', right_on='abs_pos').merge(\n",
    "    tm_65_percents_subs, left_on='res2_vp', right_on='abs_pos')\n",
    "contacts_df_with_tm_freq.sort_values('CMV2_x',ascending = False).head()"
   ]
  },
  {
   "cell_type": "markdown",
   "metadata": {},
   "source": [
    "subset contacts at two-fold axis"
   ]
  },
  {
   "cell_type": "code",
   "execution_count": 13,
   "metadata": {
    "collapsed": false
   },
   "outputs": [
    {
     "data": {
      "text/html": [
       "<div>\n",
       "<style scoped>\n",
       "    .dataframe tbody tr th:only-of-type {\n",
       "        vertical-align: middle;\n",
       "    }\n",
       "\n",
       "    .dataframe tbody tr th {\n",
       "        vertical-align: top;\n",
       "    }\n",
       "\n",
       "    .dataframe thead th {\n",
       "        text-align: right;\n",
       "    }\n",
       "</style>\n",
       "<table border=\"1\" class=\"dataframe\">\n",
       "  <thead>\n",
       "    <tr style=\"text-align: right;\">\n",
       "      <th></th>\n",
       "      <th>0</th>\n",
       "      <th>1</th>\n",
       "    </tr>\n",
       "  </thead>\n",
       "  <tbody>\n",
       "    <tr>\n",
       "      <th>69</th>\n",
       "      <td>0.0</td>\n",
       "      <td>695</td>\n",
       "    </tr>\n",
       "    <tr>\n",
       "      <th>92</th>\n",
       "      <td>0.0</td>\n",
       "      <td>293</td>\n",
       "    </tr>\n",
       "    <tr>\n",
       "      <th>93</th>\n",
       "      <td>0.0</td>\n",
       "      <td>294</td>\n",
       "    </tr>\n",
       "    <tr>\n",
       "      <th>94</th>\n",
       "      <td>0.0</td>\n",
       "      <td>297</td>\n",
       "    </tr>\n",
       "    <tr>\n",
       "      <th>95</th>\n",
       "      <td>0.5</td>\n",
       "      <td>700</td>\n",
       "    </tr>\n",
       "  </tbody>\n",
       "</table>\n",
       "</div>"
      ],
      "text/plain": [
       "      0    1\n",
       "69  0.0  695\n",
       "92  0.0  293\n",
       "93  0.0  294\n",
       "94  0.0  297\n",
       "95  0.5  700"
      ]
     },
     "execution_count": 13,
     "metadata": {},
     "output_type": "execute_result"
    }
   ],
   "source": [
    "two_fold = contacts_df_with_tm_freq[['A1-A6 (I-2)', 'CMV2_x', 'CMV2_y', 'abs_pos_x', 'abs_pos_y']].dropna()\n",
    "two_fold_deduped = pd.concat([pd.concat([two_fold['CMV2_x'],two_fold['CMV2_y']] ), \n",
    "pd.concat([two_fold['abs_pos_x'],two_fold['abs_pos_y']] )],axis=1).drop_duplicates()\n",
    "two_fold_deduped.head()"
   ]
  },
  {
   "cell_type": "markdown",
   "metadata": {},
   "source": [
    "subset three-fold axis"
   ]
  },
  {
   "cell_type": "code",
   "execution_count": 14,
   "metadata": {
    "collapsed": true
   },
   "outputs": [],
   "source": [
    "three_fold = contacts_df_with_tm_freq[['A1-A7 (I-3)', 'CMV2_x', 'CMV2_y', 'abs_pos_x', 'abs_pos_y']].dropna()"
   ]
  },
  {
   "cell_type": "code",
   "execution_count": 15,
   "metadata": {
    "collapsed": false
   },
   "outputs": [
    {
     "data": {
      "text/html": [
       "<div>\n",
       "<style scoped>\n",
       "    .dataframe tbody tr th:only-of-type {\n",
       "        vertical-align: middle;\n",
       "    }\n",
       "\n",
       "    .dataframe tbody tr th {\n",
       "        vertical-align: top;\n",
       "    }\n",
       "\n",
       "    .dataframe thead th {\n",
       "        text-align: right;\n",
       "    }\n",
       "</style>\n",
       "<table border=\"1\" class=\"dataframe\">\n",
       "  <thead>\n",
       "    <tr style=\"text-align: right;\">\n",
       "      <th></th>\n",
       "      <th>0</th>\n",
       "      <th>1</th>\n",
       "    </tr>\n",
       "  </thead>\n",
       "  <tbody>\n",
       "    <tr>\n",
       "      <th>16</th>\n",
       "      <td>0.0</td>\n",
       "      <td>692</td>\n",
       "    </tr>\n",
       "    <tr>\n",
       "      <th>49</th>\n",
       "      <td>0.0</td>\n",
       "      <td>260</td>\n",
       "    </tr>\n",
       "    <tr>\n",
       "      <th>50</th>\n",
       "      <td>0.0</td>\n",
       "      <td>272</td>\n",
       "    </tr>\n",
       "    <tr>\n",
       "      <th>51</th>\n",
       "      <td>0.0</td>\n",
       "      <td>376</td>\n",
       "    </tr>\n",
       "    <tr>\n",
       "      <th>52</th>\n",
       "      <td>0.0</td>\n",
       "      <td>378</td>\n",
       "    </tr>\n",
       "  </tbody>\n",
       "</table>\n",
       "</div>"
      ],
      "text/plain": [
       "      0    1\n",
       "16  0.0  692\n",
       "49  0.0  260\n",
       "50  0.0  272\n",
       "51  0.0  376\n",
       "52  0.0  378"
      ]
     },
     "execution_count": 15,
     "metadata": {},
     "output_type": "execute_result"
    }
   ],
   "source": [
    "three_fold_deduped = pd.concat([pd.concat([three_fold['CMV2_x'],three_fold['CMV2_y']] ), \n",
    "pd.concat([three_fold['abs_pos_x'],three_fold['abs_pos_y']] )],axis=1).drop_duplicates()\n",
    "three_fold_deduped.head()"
   ]
  },
  {
   "cell_type": "markdown",
   "metadata": {},
   "source": [
    "subset five-fold axis"
   ]
  },
  {
   "cell_type": "code",
   "execution_count": 16,
   "metadata": {
    "collapsed": false
   },
   "outputs": [
    {
     "data": {
      "text/html": [
       "<div>\n",
       "<style scoped>\n",
       "    .dataframe tbody tr th:only-of-type {\n",
       "        vertical-align: middle;\n",
       "    }\n",
       "\n",
       "    .dataframe tbody tr th {\n",
       "        vertical-align: top;\n",
       "    }\n",
       "\n",
       "    .dataframe thead th {\n",
       "        text-align: right;\n",
       "    }\n",
       "</style>\n",
       "<table border=\"1\" class=\"dataframe\">\n",
       "  <thead>\n",
       "    <tr style=\"text-align: right;\">\n",
       "      <th></th>\n",
       "      <th>A1-A2 (I-5)</th>\n",
       "      <th>CMV2_x</th>\n",
       "      <th>CMV2_y</th>\n",
       "      <th>abs_pos_x</th>\n",
       "      <th>abs_pos_y</th>\n",
       "    </tr>\n",
       "  </thead>\n",
       "  <tbody>\n",
       "    <tr>\n",
       "      <th>0</th>\n",
       "      <td>A1-A2</td>\n",
       "      <td>0.5</td>\n",
       "      <td>0.0</td>\n",
       "      <td>218</td>\n",
       "      <td>223</td>\n",
       "    </tr>\n",
       "    <tr>\n",
       "      <th>1</th>\n",
       "      <td>A1-A2</td>\n",
       "      <td>0.0</td>\n",
       "      <td>0.0</td>\n",
       "      <td>407</td>\n",
       "      <td>223</td>\n",
       "    </tr>\n",
       "    <tr>\n",
       "      <th>2</th>\n",
       "      <td>A2-A1</td>\n",
       "      <td>0.0</td>\n",
       "      <td>0.0</td>\n",
       "      <td>221</td>\n",
       "      <td>221</td>\n",
       "    </tr>\n",
       "    <tr>\n",
       "      <th>3</th>\n",
       "      <td>A1-A2</td>\n",
       "      <td>1.0</td>\n",
       "      <td>0.0</td>\n",
       "      <td>404</td>\n",
       "      <td>221</td>\n",
       "    </tr>\n",
       "    <tr>\n",
       "      <th>4</th>\n",
       "      <td>A2-A1</td>\n",
       "      <td>0.0</td>\n",
       "      <td>1.0</td>\n",
       "      <td>221</td>\n",
       "      <td>404</td>\n",
       "    </tr>\n",
       "  </tbody>\n",
       "</table>\n",
       "</div>"
      ],
      "text/plain": [
       "  A1-A2 (I-5)  CMV2_x  CMV2_y  abs_pos_x  abs_pos_y\n",
       "0       A1-A2     0.5     0.0        218        223\n",
       "1       A1-A2     0.0     0.0        407        223\n",
       "2       A2-A1     0.0     0.0        221        221\n",
       "3       A1-A2     1.0     0.0        404        221\n",
       "4       A2-A1     0.0     1.0        221        404"
      ]
     },
     "execution_count": 16,
     "metadata": {},
     "output_type": "execute_result"
    }
   ],
   "source": [
    "five_fold_1 = contacts_df_with_tm_freq[['A1-A2 (I-5)', 'CMV2_x', 'CMV2_y', 'abs_pos_x', 'abs_pos_y']].dropna()\n",
    "five_fold_1.head()"
   ]
  },
  {
   "cell_type": "code",
   "execution_count": 17,
   "metadata": {
    "collapsed": false
   },
   "outputs": [
    {
     "data": {
      "text/html": [
       "<div>\n",
       "<style scoped>\n",
       "    .dataframe tbody tr th:only-of-type {\n",
       "        vertical-align: middle;\n",
       "    }\n",
       "\n",
       "    .dataframe tbody tr th {\n",
       "        vertical-align: top;\n",
       "    }\n",
       "\n",
       "    .dataframe thead th {\n",
       "        text-align: right;\n",
       "    }\n",
       "</style>\n",
       "<table border=\"1\" class=\"dataframe\">\n",
       "  <thead>\n",
       "    <tr style=\"text-align: right;\">\n",
       "      <th></th>\n",
       "      <th>0</th>\n",
       "      <th>1</th>\n",
       "    </tr>\n",
       "  </thead>\n",
       "  <tbody>\n",
       "    <tr>\n",
       "      <th>0</th>\n",
       "      <td>0.5</td>\n",
       "      <td>218</td>\n",
       "    </tr>\n",
       "    <tr>\n",
       "      <th>1</th>\n",
       "      <td>0.0</td>\n",
       "      <td>407</td>\n",
       "    </tr>\n",
       "    <tr>\n",
       "      <th>2</th>\n",
       "      <td>0.0</td>\n",
       "      <td>221</td>\n",
       "    </tr>\n",
       "    <tr>\n",
       "      <th>3</th>\n",
       "      <td>1.0</td>\n",
       "      <td>404</td>\n",
       "    </tr>\n",
       "    <tr>\n",
       "      <th>5</th>\n",
       "      <td>0.0</td>\n",
       "      <td>225</td>\n",
       "    </tr>\n",
       "  </tbody>\n",
       "</table>\n",
       "</div>"
      ],
      "text/plain": [
       "     0    1\n",
       "0  0.5  218\n",
       "1  0.0  407\n",
       "2  0.0  221\n",
       "3  1.0  404\n",
       "5  0.0  225"
      ]
     },
     "execution_count": 17,
     "metadata": {},
     "output_type": "execute_result"
    }
   ],
   "source": [
    "five_fold_deduped = pd.concat([pd.concat([five_fold_1['CMV2_x'],five_fold_1['CMV2_y']] ), \n",
    "pd.concat([five_fold_1['abs_pos_x'],five_fold_1['abs_pos_y']] )],axis=1).drop_duplicates()\n",
    "five_fold_deduped.head()"
   ]
  },
  {
   "cell_type": "markdown",
   "metadata": {},
   "source": [
    "### P-Value 3-fold contacts vs all other positions"
   ]
  },
  {
   "cell_type": "markdown",
   "metadata": {},
   "source": [
    "first subset three-fold vs everything else"
   ]
  },
  {
   "cell_type": "code",
   "execution_count": 18,
   "metadata": {
    "collapsed": false
   },
   "outputs": [
    {
     "data": {
      "text/html": [
       "<div>\n",
       "<style scoped>\n",
       "    .dataframe tbody tr th:only-of-type {\n",
       "        vertical-align: middle;\n",
       "    }\n",
       "\n",
       "    .dataframe tbody tr th {\n",
       "        vertical-align: top;\n",
       "    }\n",
       "\n",
       "    .dataframe thead th {\n",
       "        text-align: right;\n",
       "    }\n",
       "</style>\n",
       "<table border=\"1\" class=\"dataframe\">\n",
       "  <thead>\n",
       "    <tr style=\"text-align: right;\">\n",
       "      <th>virus</th>\n",
       "      <th>abs_pos</th>\n",
       "      <th>CMV2</th>\n",
       "    </tr>\n",
       "  </thead>\n",
       "  <tbody>\n",
       "    <tr>\n",
       "      <th>0</th>\n",
       "      <td>1</td>\n",
       "      <td>0.000000</td>\n",
       "    </tr>\n",
       "    <tr>\n",
       "      <th>2</th>\n",
       "      <td>2</td>\n",
       "      <td>0.000000</td>\n",
       "    </tr>\n",
       "    <tr>\n",
       "      <th>4</th>\n",
       "      <td>3</td>\n",
       "      <td>0.142857</td>\n",
       "    </tr>\n",
       "    <tr>\n",
       "      <th>6</th>\n",
       "      <td>4</td>\n",
       "      <td>0.000000</td>\n",
       "    </tr>\n",
       "    <tr>\n",
       "      <th>8</th>\n",
       "      <td>5</td>\n",
       "      <td>0.500000</td>\n",
       "    </tr>\n",
       "  </tbody>\n",
       "</table>\n",
       "</div>"
      ],
      "text/plain": [
       "virus  abs_pos      CMV2\n",
       "0            1  0.000000\n",
       "2            2  0.000000\n",
       "4            3  0.142857\n",
       "6            4  0.000000\n",
       "8            5  0.500000"
      ]
     },
     "execution_count": 18,
     "metadata": {},
     "output_type": "execute_result"
    }
   ],
   "source": [
    "not_three_fold = tm_65_percents_subs[~tm_65_percents_subs['abs_pos'].isin(three_fold_deduped[1])]\n",
    "not_three_fold.head()"
   ]
  },
  {
   "cell_type": "code",
   "execution_count": 19,
   "metadata": {
    "collapsed": false
   },
   "outputs": [
    {
     "data": {
      "text/plain": [
       "0.0003640731791881707"
      ]
     },
     "execution_count": 19,
     "metadata": {},
     "output_type": "execute_result"
    }
   ],
   "source": [
    "not_three_fold['CMV2'].mean() - three_fold_deduped[0].mean()"
   ]
  },
  {
   "cell_type": "code",
   "execution_count": 20,
   "metadata": {
    "collapsed": false
   },
   "outputs": [
    {
     "name": "stdout",
     "output_type": "stream",
     "text": [
      "0.40782122905027934\n",
      "0.35877862595419846\n"
     ]
    },
    {
     "data": {
      "text/plain": [
       "1.1366932128848213"
      ]
     },
     "execution_count": 20,
     "metadata": {},
     "output_type": "execute_result"
    }
   ],
   "source": [
    "not_three_fold_proportion = (len(not_three_fold.loc[not_three_fold['CMV2'] > 0]) / len(not_three_fold))\n",
    "three_fold_proportion = len(three_fold_deduped.loc[three_fold_deduped[0] > 0]) / len(three_fold_deduped)\n",
    "print (three_fold_proportion)\n",
    "print (not_three_fold_proportion)\n",
    "three_fold_proportion/not_three_fold_proportion"
   ]
  },
  {
   "cell_type": "code",
   "execution_count": 21,
   "metadata": {
    "collapsed": true
   },
   "outputs": [],
   "source": [
    "import scipy.stats as stats\n",
    "def two_proprotions_confint(success_a, size_a, success_b, size_b, significance = 0.05):\n",
    "    \"\"\"\n",
    "    Parameters\n",
    "    ----------\n",
    "    success_a, success_b : int\n",
    "        Number of successes in each group\n",
    "\n",
    "    size_a, size_b : int\n",
    "        Size, or number of observations in each group\n",
    "\n",
    "    significance : float, default 0.05\n",
    "\n",
    "    Returns\n",
    "    -------\n",
    "    prop_diff : float\n",
    "        Difference between the two proportion\n",
    "\n",
    "    confint : 1d ndarray\n",
    "        Confidence interval of the two proportion test\n",
    "    \"\"\"\n",
    "    prop_a = success_a / size_a\n",
    "    prop_b = success_b / size_b\n",
    "    var = prop_a * (1 - prop_a) / size_a + prop_b * (1 - prop_b) / size_b\n",
    "    se = np.sqrt(var)\n",
    "\n",
    "    # z critical value\n",
    "    confidence = 1 - significance\n",
    "    z = stats.norm(loc = 0, scale = 1).ppf(confidence + significance / 2)\n",
    "\n",
    "    # standard formula for the confidence interval\n",
    "    # point-estimate +- z * standard-error\n",
    "    prop_diff = prop_b - prop_a\n",
    "    confint = prop_diff + np.array([-1, 1]) * z * se\n",
    "    return prop_diff, confint"
   ]
  },
  {
   "cell_type": "code",
   "execution_count": 22,
   "metadata": {
    "collapsed": false
   },
   "outputs": [
    {
     "data": {
      "text/plain": [
       "(-0.04904260309608088, array([-0.3763194 ,  0.27823419]))"
      ]
     },
     "execution_count": 22,
     "metadata": {},
     "output_type": "execute_result"
    }
   ],
   "source": [
    "null_obs = len(not_three_fold)\n",
    "null_successes = len(not_three_fold.loc[not_three_fold['CMV2'] > 0]) \n",
    "threefold_obs = len(three_fold_deduped)\n",
    "threefold_sucesses = len(three_fold_deduped.loc[three_fold_deduped[0] > 0])\n",
    "\n",
    "two_proprotions_confint(success_a=threefold_sucesses, \n",
    "                        size_a=threefold_obs, \n",
    "                        success_b=null_successes, \n",
    "                        size_b=null_obs, \n",
    "                        significance = 0.00000000000001)"
   ]
  },
  {
   "cell_type": "markdown",
   "metadata": {},
   "source": [
    "### Antibody Analysis"
   ]
  },
  {
   "cell_type": "code",
   "execution_count": 23,
   "metadata": {
    "collapsed": false,
    "scrolled": false
   },
   "outputs": [
    {
     "data": {
      "text/html": [
       "<div>\n",
       "<style scoped>\n",
       "    .dataframe tbody tr th:only-of-type {\n",
       "        vertical-align: middle;\n",
       "    }\n",
       "\n",
       "    .dataframe tbody tr th {\n",
       "        vertical-align: top;\n",
       "    }\n",
       "\n",
       "    .dataframe thead th {\n",
       "        text-align: right;\n",
       "    }\n",
       "</style>\n",
       "<table border=\"1\" class=\"dataframe\">\n",
       "  <thead>\n",
       "    <tr style=\"text-align: right;\">\n",
       "      <th></th>\n",
       "      <th></th>\n",
       "      <th></th>\n",
       "      <th></th>\n",
       "      <th></th>\n",
       "      <th></th>\n",
       "      <th></th>\n",
       "      <th></th>\n",
       "      <th></th>\n",
       "      <th></th>\n",
       "      <th></th>\n",
       "      <th>count</th>\n",
       "      <th>count.1</th>\n",
       "    </tr>\n",
       "    <tr>\n",
       "      <th>abs_pos</th>\n",
       "      <th>tile_num</th>\n",
       "      <th>aa</th>\n",
       "      <th>is_wt_aa</th>\n",
       "      <th>is_wt_codon</th>\n",
       "      <th>wt_bc</th>\n",
       "      <th>lib_type</th>\n",
       "      <th>enzyme</th>\n",
       "      <th>codon</th>\n",
       "      <th>aa-codon</th>\n",
       "      <th>barcode</th>\n",
       "      <th></th>\n",
       "      <th></th>\n",
       "    </tr>\n",
       "  </thead>\n",
       "  <tbody>\n",
       "    <tr>\n",
       "      <th rowspan=\"5\" valign=\"top\">1.0</th>\n",
       "      <th rowspan=\"5\" valign=\"top\">0.0</th>\n",
       "      <th rowspan=\"5\" valign=\"top\">*</th>\n",
       "      <th rowspan=\"5\" valign=\"top\">0</th>\n",
       "      <th rowspan=\"5\" valign=\"top\">0</th>\n",
       "      <th rowspan=\"5\" valign=\"top\">0</th>\n",
       "      <th rowspan=\"5\" valign=\"top\">sub</th>\n",
       "      <th rowspan=\"5\" valign=\"top\">bbsi</th>\n",
       "      <th rowspan=\"2\" valign=\"top\">TAA</th>\n",
       "      <th rowspan=\"2\" valign=\"top\">*-TAA</th>\n",
       "      <th>CACTGTCACACACTGACACT</th>\n",
       "      <td>23.0</td>\n",
       "      <td>39.0</td>\n",
       "    </tr>\n",
       "    <tr>\n",
       "      <th>CTGTGAGTGTGAGAGACACT</th>\n",
       "      <td>31.0</td>\n",
       "      <td>42.0</td>\n",
       "    </tr>\n",
       "    <tr>\n",
       "      <th rowspan=\"2\" valign=\"top\">TAG</th>\n",
       "      <th rowspan=\"2\" valign=\"top\">*-TAG</th>\n",
       "      <th>CTCTCACACAGTGAGTCTGA</th>\n",
       "      <td>1.0</td>\n",
       "      <td>2.0</td>\n",
       "    </tr>\n",
       "    <tr>\n",
       "      <th>CAGAGACAGAGTCTGTCACT</th>\n",
       "      <td>10.0</td>\n",
       "      <td>8.0</td>\n",
       "    </tr>\n",
       "    <tr>\n",
       "      <th>TGA</th>\n",
       "      <th>*-TGA</th>\n",
       "      <th>ACACTGTCTCTGTCAGACAG</th>\n",
       "      <td>57.0</td>\n",
       "      <td>89.0</td>\n",
       "    </tr>\n",
       "  </tbody>\n",
       "</table>\n",
       "</div>"
      ],
      "text/plain": [
       "                                                                                                    count  \\\n",
       "abs_pos tile_num aa is_wt_aa is_wt_codon wt_bc lib_type enzyme codon aa-codon barcode                       \n",
       "1.0     0.0      *  0        0           0     sub      bbsi   TAA   *-TAA    CACTGTCACACACTGACACT   23.0   \n",
       "                                                                              CTGTGAGTGTGAGAGACACT   31.0   \n",
       "                                                               TAG   *-TAG    CTCTCACACAGTGAGTCTGA    1.0   \n",
       "                                                                              CAGAGACAGAGTCTGTCACT   10.0   \n",
       "                                                               TGA   *-TGA    ACACTGTCTCTGTCAGACAG   57.0   \n",
       "\n",
       "                                                                                                    count.1  \n",
       "abs_pos tile_num aa is_wt_aa is_wt_codon wt_bc lib_type enzyme codon aa-codon barcode                        \n",
       "1.0     0.0      *  0        0           0     sub      bbsi   TAA   *-TAA    CACTGTCACACACTGACACT     39.0  \n",
       "                                                                              CTGTGAGTGTGAGAGACACT     42.0  \n",
       "                                                               TAG   *-TAG    CTCTCACACAGTGAGTCTGA      2.0  \n",
       "                                                                              CAGAGACAGAGTCTGTCACT      8.0  \n",
       "                                                               TGA   *-TGA    ACACTGTCTCTGTCAGACAG     89.0  "
      ]
     },
     "execution_count": 23,
     "metadata": {},
     "output_type": "execute_result"
    }
   ],
   "source": [
    "antibody_counts = x02_load_dataframes.load_antibody_df()\n",
    "antibody_counts.head()"
   ]
  },
  {
   "cell_type": "code",
   "execution_count": 24,
   "metadata": {
    "collapsed": false
   },
   "outputs": [
    {
     "data": {
      "text/html": [
       "<div>\n",
       "<style scoped>\n",
       "    .dataframe tbody tr th:only-of-type {\n",
       "        vertical-align: middle;\n",
       "    }\n",
       "\n",
       "    .dataframe tbody tr th {\n",
       "        vertical-align: top;\n",
       "    }\n",
       "\n",
       "    .dataframe thead th {\n",
       "        text-align: right;\n",
       "    }\n",
       "</style>\n",
       "<table border=\"1\" class=\"dataframe\">\n",
       "  <thead>\n",
       "    <tr style=\"text-align: right;\">\n",
       "      <th></th>\n",
       "      <th></th>\n",
       "      <th></th>\n",
       "      <th></th>\n",
       "      <th>count</th>\n",
       "      <th>count.1</th>\n",
       "    </tr>\n",
       "    <tr>\n",
       "      <th>abs_pos</th>\n",
       "      <th>aa</th>\n",
       "      <th>wt_bc</th>\n",
       "      <th>lib_type</th>\n",
       "      <th></th>\n",
       "      <th></th>\n",
       "    </tr>\n",
       "  </thead>\n",
       "  <tbody>\n",
       "    <tr>\n",
       "      <th rowspan=\"5\" valign=\"top\">1.0</th>\n",
       "      <th>*</th>\n",
       "      <th>0</th>\n",
       "      <th>sub</th>\n",
       "      <td>0.701798</td>\n",
       "      <td>0.985308</td>\n",
       "    </tr>\n",
       "    <tr>\n",
       "      <th>-</th>\n",
       "      <th>0</th>\n",
       "      <th>del</th>\n",
       "      <td>NaN</td>\n",
       "      <td>NaN</td>\n",
       "    </tr>\n",
       "    <tr>\n",
       "      <th>A</th>\n",
       "      <th>0</th>\n",
       "      <th>sub</th>\n",
       "      <td>0.462160</td>\n",
       "      <td>0.591185</td>\n",
       "    </tr>\n",
       "    <tr>\n",
       "      <th>C</th>\n",
       "      <th>0</th>\n",
       "      <th>sub</th>\n",
       "      <td>0.756812</td>\n",
       "      <td>1.243935</td>\n",
       "    </tr>\n",
       "    <tr>\n",
       "      <th>D</th>\n",
       "      <th>0</th>\n",
       "      <th>sub</th>\n",
       "      <td>0.368794</td>\n",
       "      <td>NaN</td>\n",
       "    </tr>\n",
       "  </tbody>\n",
       "</table>\n",
       "</div>"
      ],
      "text/plain": [
       "                              count   count.1\n",
       "abs_pos aa wt_bc lib_type                    \n",
       "1.0     *  0     sub       0.701798  0.985308\n",
       "        -  0     del            NaN       NaN\n",
       "        A  0     sub       0.462160  0.591185\n",
       "        C  0     sub       0.756812  1.243935\n",
       "        D  0     sub       0.368794       NaN"
      ]
     },
     "execution_count": 24,
     "metadata": {},
     "output_type": "execute_result"
    }
   ],
   "source": [
    "antibody_selection_df= x03_compute_selections.compute_antibody_selection(\n",
    "            ab_counts=antibody_counts, package_counts=package_data, wt_norm=True)\n",
    "antibody_selection_df.head()"
   ]
  },
  {
   "cell_type": "markdown",
   "metadata": {},
   "source": [
    "### histogram of a20 interacting residues vs not "
   ]
  },
  {
   "cell_type": "code",
   "execution_count": 25,
   "metadata": {
    "collapsed": false,
    "scrolled": true
   },
   "outputs": [
    {
     "name": "stdout",
     "output_type": "stream",
     "text": [
      "mannwhitney test pval = 1.2760498469718762e-22\n",
      "effect size: -1.3496786528656872\n"
     ]
    },
    {
     "data": {
      "image/png": "[encoded data removed]",
      "text/plain": [
       "<matplotlib.figure.Figure at 0x7f7604d034a8>"
      ]
     },
     "metadata": {
      "needs_background": "light"
     },
     "output_type": "display_data"
    }
   ],
   "source": [
    "a20_postions_subs = np.array([261,262,263,264,384,385,708,717,258,253,254,658,659,660,548,556])\n",
    "\n",
    "def plot_a20_dist(ab_aa_df,\n",
    "#                   hek_or_cre='HEK',\n",
    "                  plot_wt_random = True,\n",
    "                  plot_zoom=False,\n",
    "                  legend_on=True,\n",
    "                  figname=None, \n",
    "                  return_values=False):\n",
    "\n",
    "    fig = plt.figure(figsize=[1.5,1.5])\n",
    "    if plot_wt_random:\n",
    "        wt = ab_aa_df.mean(axis=1).apply(np.log2).dropna()\n",
    "        sns.kdeplot(ab_aa_df.mean(axis=1).apply(np.log2).dropna(), label='Other',\n",
    "                    alpha=.9,color='gray', **{'linestyle':'dashed'})\n",
    "    a20 = ab_aa_df.loc[a20_postions_subs].mean(axis=1).apply(np.log2).dropna()\n",
    "    sns.kdeplot(ab_aa_df.loc[a20_postions_subs].mean(axis=1).apply(np.log2).dropna(), label='A20')\n",
    "    print ('mannwhitney test pval = %s' % stats.mannwhitneyu(wt,a20)[1])\n",
    "    print ('effect size: %s' % (wt.mean()- a20.mean()) )\n",
    "    plt.xlabel(\"\")\n",
    "    plt.ylabel('')\n",
    "    plt.plot([2.5,2.5],[0,2],c='black',lw=.5)\n",
    "    if plot_zoom:\n",
    "        plt.ylim([0,.5])\n",
    "        plt.yticks([])\n",
    "    if legend_on:\n",
    "        plt.legend().set_visible(legend_on)\n",
    "        plt.legend(bbox_to_anchor=(.4825,1),frameon=False)\n",
    "    else:\n",
    "        plt.legend().set_visible(legend_on)\n",
    "    plt.tight_layout()\n",
    "    if figname:\n",
    "        figpath =  os.path.join(FIGURES_DIR, figname)\n",
    "        save_fig(fig, figpath)\n",
    "    if return_values:\n",
    "        return wt, a20\n",
    "\n",
    "plot_a20_dist(antibody_selection_df,figname = None)"
   ]
  },
  {
   "cell_type": "code",
   "execution_count": 26,
   "metadata": {
    "collapsed": false
   },
   "outputs": [
    {
     "name": "stdout",
     "output_type": "stream",
     "text": [
      "mannwhitney test pval = 1.2760498469718762e-22\n",
      "effect size: -1.3496786528656872\n"
     ]
    },
    {
     "data": {
      "image/png": "[encoded data removed]",
      "text/plain": [
       "<matplotlib.figure.Figure at 0x7f7604953e48>"
      ]
     },
     "metadata": {
      "needs_background": "light"
     },
     "output_type": "display_data"
    }
   ],
   "source": [
    "wt, a20 = plot_a20_dist(antibody_selection_df,plot_zoom=True,legend_on=False, \n",
    "              figname = None, return_values=True)"
   ]
  },
  {
   "cell_type": "markdown",
   "metadata": {},
   "source": [
    "### effect size and p-value for known a20 interacting positions vs not"
   ]
  },
  {
   "cell_type": "code",
   "execution_count": 27,
   "metadata": {
    "collapsed": false
   },
   "outputs": [
    {
     "name": "stdout",
     "output_type": "stream",
     "text": [
      "proportion wt: 0.04938898480078535\n",
      "proportion a20: 0.2776203966005666\n",
      "effect size: 5.6210994763381334\n"
     ]
    }
   ],
   "source": [
    "wt_successes = len(wt[wt > 2.5])\n",
    "wt_obs = len(wt)\n",
    "a20_successes = len(a20[a20>2.5])\n",
    "a20_obs = len(a20)\n",
    "proportion_a20 =   a20_successes / a20_obs\n",
    "proportion_wt =   wt_successes / wt_obs\n",
    "print ('proportion wt: %s' %proportion_wt )\n",
    "print ('proportion a20: %s' %proportion_a20 )\n",
    "print ('effect size: %s' % (proportion_a20 / proportion_wt))"
   ]
  },
  {
   "cell_type": "code",
   "execution_count": 28,
   "metadata": {
    "collapsed": false
   },
   "outputs": [
    {
     "data": {
      "text/plain": [
       "(0.22823141179978124, array([0.03228094, 0.42418188]))"
      ]
     },
     "execution_count": 28,
     "metadata": {},
     "output_type": "execute_result"
    }
   ],
   "source": [
    "two_proprotions_confint(success_a=wt_successes,\n",
    "                        size_a=wt_obs, \n",
    "                        success_b=a20_successes, \n",
    "                        size_b=a20_obs, \n",
    "                        significance = 1e-16)\n"
   ]
  },
  {
   "cell_type": "markdown",
   "metadata": {},
   "source": [
    "### heatmap of selection values for positions known to interact with a20"
   ]
  },
  {
   "cell_type": "code",
   "execution_count": 29,
   "metadata": {
    "collapsed": false
   },
   "outputs": [
    {
     "data": {
      "text/plain": [
       "abs_pos  aa  wt_bc  lib_type\n",
       "1.0      *   0      sub         0.843553\n",
       "         -   0      del              NaN\n",
       "         A   0      sub         0.526672\n",
       "         C   0      sub         1.000373\n",
       "         D   0      sub         0.368794\n",
       "dtype: float64"
      ]
     },
     "execution_count": 29,
     "metadata": {},
     "output_type": "execute_result"
    }
   ],
   "source": [
    "antibody_selection_mean = antibody_selection_df.mean(axis=1)\n",
    "antibody_selection_mean.head()"
   ]
  },
  {
   "cell_type": "code",
   "execution_count": 30,
   "metadata": {
    "collapsed": false
   },
   "outputs": [
    {
     "data": {
      "text/html": [
       "<div>\n",
       "<style scoped>\n",
       "    .dataframe tbody tr th:only-of-type {\n",
       "        vertical-align: middle;\n",
       "    }\n",
       "\n",
       "    .dataframe tbody tr th {\n",
       "        vertical-align: top;\n",
       "    }\n",
       "\n",
       "    .dataframe thead th {\n",
       "        text-align: right;\n",
       "    }\n",
       "</style>\n",
       "<table border=\"1\" class=\"dataframe\">\n",
       "  <thead>\n",
       "    <tr style=\"text-align: right;\">\n",
       "      <th>abs_pos</th>\n",
       "      <th>261</th>\n",
       "      <th>262</th>\n",
       "      <th>263</th>\n",
       "      <th>264</th>\n",
       "      <th>384</th>\n",
       "      <th>385</th>\n",
       "      <th>708</th>\n",
       "      <th>717</th>\n",
       "      <th>258</th>\n",
       "      <th>253</th>\n",
       "      <th>254</th>\n",
       "      <th>658</th>\n",
       "      <th>659</th>\n",
       "      <th>660</th>\n",
       "      <th>548</th>\n",
       "      <th>556</th>\n",
       "    </tr>\n",
       "    <tr>\n",
       "      <th>aa</th>\n",
       "      <th></th>\n",
       "      <th></th>\n",
       "      <th></th>\n",
       "      <th></th>\n",
       "      <th></th>\n",
       "      <th></th>\n",
       "      <th></th>\n",
       "      <th></th>\n",
       "      <th></th>\n",
       "      <th></th>\n",
       "      <th></th>\n",
       "      <th></th>\n",
       "      <th></th>\n",
       "      <th></th>\n",
       "      <th></th>\n",
       "      <th></th>\n",
       "    </tr>\n",
       "  </thead>\n",
       "  <tbody>\n",
       "    <tr>\n",
       "      <th>-</th>\n",
       "      <td>0.392858</td>\n",
       "      <td>4.036138</td>\n",
       "      <td>51.647077</td>\n",
       "      <td>0.810298</td>\n",
       "      <td>0.343895</td>\n",
       "      <td>0.811347</td>\n",
       "      <td>0.461109</td>\n",
       "      <td>0.978609</td>\n",
       "      <td>1.111991</td>\n",
       "      <td>0.535406</td>\n",
       "      <td>0.540898</td>\n",
       "      <td>4.279639</td>\n",
       "      <td>51.651884</td>\n",
       "      <td>2.752704</td>\n",
       "      <td>0.950646</td>\n",
       "      <td>0.474343</td>\n",
       "    </tr>\n",
       "    <tr>\n",
       "      <th>I</th>\n",
       "      <td>0.861256</td>\n",
       "      <td>0.715894</td>\n",
       "      <td>23.543040</td>\n",
       "      <td>106.350820</td>\n",
       "      <td>0.674203</td>\n",
       "      <td>0.769473</td>\n",
       "      <td>0.798826</td>\n",
       "      <td>0.457136</td>\n",
       "      <td>1.065353</td>\n",
       "      <td>0.846006</td>\n",
       "      <td>2.166251</td>\n",
       "      <td>0.721707</td>\n",
       "      <td>47.640045</td>\n",
       "      <td>1.413017</td>\n",
       "      <td>0.557835</td>\n",
       "      <td>0.343208</td>\n",
       "    </tr>\n",
       "    <tr>\n",
       "      <th>L</th>\n",
       "      <td>0.848378</td>\n",
       "      <td>0.554282</td>\n",
       "      <td>34.496109</td>\n",
       "      <td>49.539701</td>\n",
       "      <td>0.637328</td>\n",
       "      <td>0.612805</td>\n",
       "      <td>1.937052</td>\n",
       "      <td>54.583211</td>\n",
       "      <td>6.654661</td>\n",
       "      <td>1.500038</td>\n",
       "      <td>0.888620</td>\n",
       "      <td>2.728250</td>\n",
       "      <td>41.279340</td>\n",
       "      <td>0.769680</td>\n",
       "      <td>0.820451</td>\n",
       "      <td>0.775035</td>\n",
       "    </tr>\n",
       "    <tr>\n",
       "      <th>V</th>\n",
       "      <td>0.987084</td>\n",
       "      <td>0.913277</td>\n",
       "      <td>42.725703</td>\n",
       "      <td>51.994317</td>\n",
       "      <td>0.632139</td>\n",
       "      <td>0.569081</td>\n",
       "      <td>8.235650</td>\n",
       "      <td>20.031644</td>\n",
       "      <td>0.128785</td>\n",
       "      <td>0.610966</td>\n",
       "      <td>2.085785</td>\n",
       "      <td>0.690144</td>\n",
       "      <td>89.211938</td>\n",
       "      <td>0.974633</td>\n",
       "      <td>0.656773</td>\n",
       "      <td>2.576019</td>\n",
       "    </tr>\n",
       "    <tr>\n",
       "      <th>A</th>\n",
       "      <td>2.118062</td>\n",
       "      <td>0.747765</td>\n",
       "      <td>15.173111</td>\n",
       "      <td>67.469300</td>\n",
       "      <td>13.683089</td>\n",
       "      <td>0.949139</td>\n",
       "      <td>0.707282</td>\n",
       "      <td>61.874952</td>\n",
       "      <td>18.718226</td>\n",
       "      <td>0.430204</td>\n",
       "      <td>15.060929</td>\n",
       "      <td>2.622297</td>\n",
       "      <td>19.621907</td>\n",
       "      <td>12.323206</td>\n",
       "      <td>0.698850</td>\n",
       "      <td>1.196742</td>\n",
       "    </tr>\n",
       "  </tbody>\n",
       "</table>\n",
       "</div>"
      ],
      "text/plain": [
       "abs_pos       261       262        263         264        384       385  \\\n",
       "aa                                                                        \n",
       "-        0.392858  4.036138  51.647077    0.810298   0.343895  0.811347   \n",
       "I        0.861256  0.715894  23.543040  106.350820   0.674203  0.769473   \n",
       "L        0.848378  0.554282  34.496109   49.539701   0.637328  0.612805   \n",
       "V        0.987084  0.913277  42.725703   51.994317   0.632139  0.569081   \n",
       "A        2.118062  0.747765  15.173111   67.469300  13.683089  0.949139   \n",
       "\n",
       "abs_pos       708        717        258       253        254       658  \\\n",
       "aa                                                                       \n",
       "-        0.461109   0.978609   1.111991  0.535406   0.540898  4.279639   \n",
       "I        0.798826   0.457136   1.065353  0.846006   2.166251  0.721707   \n",
       "L        1.937052  54.583211   6.654661  1.500038   0.888620  2.728250   \n",
       "V        8.235650  20.031644   0.128785  0.610966   2.085785  0.690144   \n",
       "A        0.707282  61.874952  18.718226  0.430204  15.060929  2.622297   \n",
       "\n",
       "abs_pos        659        660       548       556  \n",
       "aa                                                 \n",
       "-        51.651884   2.752704  0.950646  0.474343  \n",
       "I        47.640045   1.413017  0.557835  0.343208  \n",
       "L        41.279340   0.769680  0.820451  0.775035  \n",
       "V        89.211938   0.974633  0.656773  2.576019  \n",
       "A        19.621907  12.323206  0.698850  1.196742  "
      ]
     },
     "execution_count": 30,
     "metadata": {},
     "output_type": "execute_result"
    }
   ],
   "source": [
    "antibody_selection_mean_for_heatmap = antibody_selection_mean.unstack(0).query(\"wt_bc==0\").query(\"lib_type.isin(['sub','del'])\")\n",
    "antibody_selection_mean_for_heatmap = antibody_selection_mean_for_heatmap.loc[:,a20_postions_subs]\n",
    "antibody_selection_mean_for_heatmap.index = antibody_selection_mean_for_heatmap.index.droplevel([1,2])\n",
    "antibody_selection_mean_for_heatmap = antibody_selection_mean_for_heatmap.reindex(DESIRED_AA_ORD)\n",
    "antibody_selection_mean_for_heatmap.head()"
   ]
  },
  {
   "cell_type": "code",
   "execution_count": 31,
   "metadata": {
    "collapsed": false
   },
   "outputs": [
    {
     "data": {
      "text/plain": [
       "Text(0.5,6.9375,'VP Position')"
      ]
     },
     "execution_count": 31,
     "metadata": {},
     "output_type": "execute_result"
    },
    {
     "data": {
      "image/png": "[encoded data removed]",
      "text/plain": [
       "<matplotlib.figure.Figure at 0x7f7604b7dda0>"
      ]
     },
     "metadata": {},
     "output_type": "display_data"
    }
   ],
   "source": [
    "sns.set(**PAPER_PRESET)\n",
    "fig,ax =plt.subplots(figsize=[3.174*1.5, 1.625*1.5])\n",
    "sns.heatmap(antibody_selection_mean_for_heatmap.apply(np.log2), cmap='RdBu_r', vmin=-10, vmax=10, ax=ax, yticklabels=True)\n",
    "ax.set_ylabel(\"Amino Acid\")\n",
    "ax.set_xlabel(\"VP Position\")"
   ]
  },
  {
   "cell_type": "code",
   "execution_count": 32,
   "metadata": {
    "collapsed": false
   },
   "outputs": [
    {
     "data": {
      "text/plain": [
       "Text(0,0.5,'fraction > cutoff')"
      ]
     },
     "execution_count": 32,
     "metadata": {},
     "output_type": "execute_result"
    },
    {
     "data": {
      "image/png": "[encoded data removed]",
      "text/plain": [
       "<matplotlib.figure.Figure at 0x7f7617bb46d8>"
      ]
     },
     "metadata": {},
     "output_type": "display_data"
    }
   ],
   "source": [
    "all_residues = antibody_selection_mean.apply(np.log2).dropna()\n",
    "a20_residues = antibody_selection_mean.loc[a20_postions_subs].apply(np.log2).dropna()\n",
    "\n",
    "a20_fraction = a20[a20 > 2.5].count() / float(a20.count())\n",
    "all_residues_fraction = all_residues[all_residues > 2.5].count() / float(all_residues.count())\n",
    "fig = plt.figure(figsize=(1.2,1.1))\n",
    "plt.bar(['A20\\nInteracting','Other\\nResidues'],\n",
    "        [a20_fraction,\n",
    "         all_residues_fraction],color='slategrey')\n",
    "plt.ylabel('fraction > cutoff')"
   ]
  }
 ],
 "metadata": {
  "kernelspec": {
   "display_name": "aav_venv",
   "language": "python",
   "name": "aav_venv"
  },
  "language_info": {
   "codemirror_mode": {
    "name": "ipython",
    "version": 3
   },
   "file_extension": ".py",
   "mimetype": "text/x-python",
   "name": "python",
   "nbconvert_exporter": "python",
   "pygments_lexer": "ipython3",
   "version": "3.6.6"
  }
 },
 "nbformat": 4,
 "nbformat_minor": 2
}
