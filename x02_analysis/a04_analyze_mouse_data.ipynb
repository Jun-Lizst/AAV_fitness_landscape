{
 "cells": [
  {
   "cell_type": "markdown",
   "metadata": {},
   "source": [
    "# Analysis of single mutant effect on biodistribution  in mice\n",
    "\n",
    "Analysis includes:\n",
    "- correlation of mouse replicates \n",
    "- PCA of selection values across tissues \n",
    "- K-Means to determine mutation clusters\n",
    "- Validation comparison "
   ]
  },
  {
   "cell_type": "code",
   "execution_count": 1,
   "metadata": {
    "collapsed": true
   },
   "outputs": [],
   "source": [
    "import os \n",
    "import sys \n",
    "\n",
    "import pandas as pd \n",
    "pd_idx = pd.IndexSlice\n",
    "import numpy as np\n",
    "import seaborn as sns \n",
    "import matplotlib.pyplot as plt\n",
    "import matplotlib.patches as ptch\n",
    "from sklearn.decomposition import PCA\n",
    "from sklearn.cluster import KMeans\n",
    "import scipy.stats as stats\n",
    "\n",
    "import common \n",
    "\n",
    "sys.path.append('../x01_process_data/')\n",
    "import x02_load_dataframes\n",
    "import x03_compute_selections\n",
    "\n",
    "sys.path.append('../settings/')\n",
    "from paths_new import DATAFRAMES_DIR\n",
    "from paths_new import FIGURES_DIR\n",
    "from paths_new import DESIRED_AA_ORD\n",
    "from paths_new import LOOKUP_DF\n",
    "from common_functions import codon_to_aa_selector\n",
    "from paper_settings import save_fig\n",
    "from paper_settings import PAPER_PRESET\n",
    "from paper_settings import PAPER_FONTSIZE\n",
    "\n",
    "%reload_ext autoreload\n",
    "%autoreload 2\n",
    "\n",
    "set_2_colors = sns.color_palette(\"muted\")\n",
    "sns.set(**PAPER_PRESET)\n",
    "font_size=PAPER_FONTSIZE\n",
    "tissue_grabber = ['blood', 'heart', 'kidney', 'lung', 'liver','spleen']"
   ]
  },
  {
   "cell_type": "markdown",
   "metadata": {},
   "source": [
    "### load in mouse and packaging data "
   ]
  },
  {
   "cell_type": "code",
   "execution_count": 2,
   "metadata": {
    "collapsed": true
   },
   "outputs": [],
   "source": [
    "package_counts = x02_load_dataframes.load_packaging_df()\n",
    "package_counts.sort_index(inplace=True)\n",
    "mouse_counts = x02_load_dataframes.load_mouse_df()"
   ]
  },
  {
   "cell_type": "code",
   "execution_count": 3,
   "metadata": {
    "collapsed": false
   },
   "outputs": [
    {
     "data": {
      "text/html": [
       "<div>\n",
       "<style scoped>\n",
       "    .dataframe tbody tr th:only-of-type {\n",
       "        vertical-align: middle;\n",
       "    }\n",
       "\n",
       "    .dataframe tbody tr th {\n",
       "        vertical-align: top;\n",
       "    }\n",
       "\n",
       "    .dataframe thead tr th {\n",
       "        text-align: left;\n",
       "    }\n",
       "\n",
       "    .dataframe thead tr:last-of-type th {\n",
       "        text-align: right;\n",
       "    }\n",
       "</style>\n",
       "<table border=\"1\" class=\"dataframe\">\n",
       "  <thead>\n",
       "    <tr>\n",
       "      <th></th>\n",
       "      <th></th>\n",
       "      <th></th>\n",
       "      <th></th>\n",
       "      <th></th>\n",
       "      <th></th>\n",
       "      <th></th>\n",
       "      <th></th>\n",
       "      <th></th>\n",
       "      <th></th>\n",
       "      <th>organ</th>\n",
       "      <th colspan=\"8\" halign=\"left\">blood</th>\n",
       "      <th colspan=\"2\" halign=\"left\">liver</th>\n",
       "      <th>...</th>\n",
       "      <th colspan=\"10\" halign=\"left\">lung</th>\n",
       "    </tr>\n",
       "    <tr>\n",
       "      <th></th>\n",
       "      <th></th>\n",
       "      <th></th>\n",
       "      <th></th>\n",
       "      <th></th>\n",
       "      <th></th>\n",
       "      <th></th>\n",
       "      <th></th>\n",
       "      <th></th>\n",
       "      <th></th>\n",
       "      <th>virus</th>\n",
       "      <th colspan=\"4\" halign=\"left\">1</th>\n",
       "      <th colspan=\"4\" halign=\"left\">2</th>\n",
       "      <th colspan=\"2\" halign=\"left\">1</th>\n",
       "      <th>...</th>\n",
       "      <th>1</th>\n",
       "      <th colspan=\"9\" halign=\"left\">2</th>\n",
       "    </tr>\n",
       "    <tr>\n",
       "      <th></th>\n",
       "      <th></th>\n",
       "      <th></th>\n",
       "      <th></th>\n",
       "      <th></th>\n",
       "      <th></th>\n",
       "      <th></th>\n",
       "      <th></th>\n",
       "      <th></th>\n",
       "      <th></th>\n",
       "      <th>mouse</th>\n",
       "      <th>1</th>\n",
       "      <th>2</th>\n",
       "      <th>3</th>\n",
       "      <th>4</th>\n",
       "      <th>1</th>\n",
       "      <th>2</th>\n",
       "      <th>3</th>\n",
       "      <th>4</th>\n",
       "      <th>1</th>\n",
       "      <th>2</th>\n",
       "      <th>...</th>\n",
       "      <th>2</th>\n",
       "      <th colspan=\"4\" halign=\"left\">1</th>\n",
       "      <th colspan=\"5\" halign=\"left\">2</th>\n",
       "    </tr>\n",
       "    <tr>\n",
       "      <th></th>\n",
       "      <th></th>\n",
       "      <th></th>\n",
       "      <th></th>\n",
       "      <th></th>\n",
       "      <th></th>\n",
       "      <th></th>\n",
       "      <th></th>\n",
       "      <th></th>\n",
       "      <th></th>\n",
       "      <th>replicate</th>\n",
       "      <th>1</th>\n",
       "      <th>1</th>\n",
       "      <th>1</th>\n",
       "      <th>1</th>\n",
       "      <th>1</th>\n",
       "      <th>1</th>\n",
       "      <th>1</th>\n",
       "      <th>1</th>\n",
       "      <th>1</th>\n",
       "      <th>1</th>\n",
       "      <th>...</th>\n",
       "      <th>3</th>\n",
       "      <th>0</th>\n",
       "      <th>1</th>\n",
       "      <th>2</th>\n",
       "      <th>3</th>\n",
       "      <th>0</th>\n",
       "      <th>1</th>\n",
       "      <th>2</th>\n",
       "      <th>3</th>\n",
       "      <th>4</th>\n",
       "    </tr>\n",
       "    <tr>\n",
       "      <th></th>\n",
       "      <th></th>\n",
       "      <th></th>\n",
       "      <th></th>\n",
       "      <th></th>\n",
       "      <th></th>\n",
       "      <th></th>\n",
       "      <th></th>\n",
       "      <th></th>\n",
       "      <th></th>\n",
       "      <th>prep</th>\n",
       "      <th>qiagen</th>\n",
       "      <th>qiagen</th>\n",
       "      <th>qiagen</th>\n",
       "      <th>qiagen</th>\n",
       "      <th>qiagen</th>\n",
       "      <th>qiagen</th>\n",
       "      <th>qiagen</th>\n",
       "      <th>qiagen</th>\n",
       "      <th>qiagen</th>\n",
       "      <th>qiagen</th>\n",
       "      <th>...</th>\n",
       "      <th>mini</th>\n",
       "      <th>GP</th>\n",
       "      <th>mini</th>\n",
       "      <th>mini</th>\n",
       "      <th>mini</th>\n",
       "      <th>GP</th>\n",
       "      <th>mini</th>\n",
       "      <th>mini</th>\n",
       "      <th>mini</th>\n",
       "      <th>mini</th>\n",
       "    </tr>\n",
       "    <tr>\n",
       "      <th></th>\n",
       "      <th></th>\n",
       "      <th></th>\n",
       "      <th></th>\n",
       "      <th></th>\n",
       "      <th></th>\n",
       "      <th></th>\n",
       "      <th></th>\n",
       "      <th></th>\n",
       "      <th></th>\n",
       "      <th>lib_num</th>\n",
       "      <th>97</th>\n",
       "      <th>98</th>\n",
       "      <th>99</th>\n",
       "      <th>100</th>\n",
       "      <th>101</th>\n",
       "      <th>102</th>\n",
       "      <th>103</th>\n",
       "      <th>104</th>\n",
       "      <th>9</th>\n",
       "      <th>10</th>\n",
       "      <th>...</th>\n",
       "      <th>26</th>\n",
       "      <th>31</th>\n",
       "      <th>28</th>\n",
       "      <th>29</th>\n",
       "      <th>30</th>\n",
       "      <th>36</th>\n",
       "      <th>32</th>\n",
       "      <th>33</th>\n",
       "      <th>34</th>\n",
       "      <th>35</th>\n",
       "    </tr>\n",
       "    <tr>\n",
       "      <th>abs_pos</th>\n",
       "      <th>tile_num</th>\n",
       "      <th>aa</th>\n",
       "      <th>is_wt_aa</th>\n",
       "      <th>is_wt_codon</th>\n",
       "      <th>wt_bc</th>\n",
       "      <th>lib_type</th>\n",
       "      <th>enzyme</th>\n",
       "      <th>codon</th>\n",
       "      <th>aa-codon</th>\n",
       "      <th>barcode</th>\n",
       "      <th></th>\n",
       "      <th></th>\n",
       "      <th></th>\n",
       "      <th></th>\n",
       "      <th></th>\n",
       "      <th></th>\n",
       "      <th></th>\n",
       "      <th></th>\n",
       "      <th></th>\n",
       "      <th></th>\n",
       "      <th></th>\n",
       "      <th></th>\n",
       "      <th></th>\n",
       "      <th></th>\n",
       "      <th></th>\n",
       "      <th></th>\n",
       "      <th></th>\n",
       "      <th></th>\n",
       "      <th></th>\n",
       "      <th></th>\n",
       "      <th></th>\n",
       "    </tr>\n",
       "  </thead>\n",
       "  <tbody>\n",
       "    <tr>\n",
       "      <th rowspan=\"5\" valign=\"top\">1.0</th>\n",
       "      <th rowspan=\"5\" valign=\"top\">0.0</th>\n",
       "      <th rowspan=\"5\" valign=\"top\">*</th>\n",
       "      <th rowspan=\"5\" valign=\"top\">0</th>\n",
       "      <th rowspan=\"5\" valign=\"top\">0</th>\n",
       "      <th rowspan=\"5\" valign=\"top\">0</th>\n",
       "      <th rowspan=\"5\" valign=\"top\">sub</th>\n",
       "      <th rowspan=\"5\" valign=\"top\">bbsi</th>\n",
       "      <th rowspan=\"2\" valign=\"top\">TAA</th>\n",
       "      <th rowspan=\"2\" valign=\"top\">*-TAA</th>\n",
       "      <th>CACTGTCACACACTGACACT</th>\n",
       "      <td>70.0</td>\n",
       "      <td>70.0</td>\n",
       "      <td>57.0</td>\n",
       "      <td>148.0</td>\n",
       "      <td>275.0</td>\n",
       "      <td>96.0</td>\n",
       "      <td>174.0</td>\n",
       "      <td>177.0</td>\n",
       "      <td>NaN</td>\n",
       "      <td>NaN</td>\n",
       "      <td>...</td>\n",
       "      <td>57.0</td>\n",
       "      <td>NaN</td>\n",
       "      <td>16.0</td>\n",
       "      <td>7.0</td>\n",
       "      <td>21.0</td>\n",
       "      <td>54.0</td>\n",
       "      <td>NaN</td>\n",
       "      <td>8.0</td>\n",
       "      <td>46.0</td>\n",
       "      <td>NaN</td>\n",
       "    </tr>\n",
       "    <tr>\n",
       "      <th>CTGTGAGTGTGAGAGACACT</th>\n",
       "      <td>101.0</td>\n",
       "      <td>64.0</td>\n",
       "      <td>62.0</td>\n",
       "      <td>188.0</td>\n",
       "      <td>317.0</td>\n",
       "      <td>150.0</td>\n",
       "      <td>148.0</td>\n",
       "      <td>192.0</td>\n",
       "      <td>NaN</td>\n",
       "      <td>NaN</td>\n",
       "      <td>...</td>\n",
       "      <td>35.0</td>\n",
       "      <td>NaN</td>\n",
       "      <td>18.0</td>\n",
       "      <td>NaN</td>\n",
       "      <td>NaN</td>\n",
       "      <td>NaN</td>\n",
       "      <td>NaN</td>\n",
       "      <td>NaN</td>\n",
       "      <td>20.0</td>\n",
       "      <td>NaN</td>\n",
       "    </tr>\n",
       "    <tr>\n",
       "      <th rowspan=\"2\" valign=\"top\">TAG</th>\n",
       "      <th rowspan=\"2\" valign=\"top\">*-TAG</th>\n",
       "      <th>CAGAGACAGAGTCTGTCACT</th>\n",
       "      <td>11.0</td>\n",
       "      <td>19.0</td>\n",
       "      <td>8.0</td>\n",
       "      <td>49.0</td>\n",
       "      <td>54.0</td>\n",
       "      <td>37.0</td>\n",
       "      <td>42.0</td>\n",
       "      <td>49.0</td>\n",
       "      <td>NaN</td>\n",
       "      <td>NaN</td>\n",
       "      <td>...</td>\n",
       "      <td>NaN</td>\n",
       "      <td>NaN</td>\n",
       "      <td>NaN</td>\n",
       "      <td>7.0</td>\n",
       "      <td>NaN</td>\n",
       "      <td>NaN</td>\n",
       "      <td>NaN</td>\n",
       "      <td>NaN</td>\n",
       "      <td>73.0</td>\n",
       "      <td>NaN</td>\n",
       "    </tr>\n",
       "    <tr>\n",
       "      <th>CTCTCACACAGTGAGTCTGA</th>\n",
       "      <td>10.0</td>\n",
       "      <td>12.0</td>\n",
       "      <td>8.0</td>\n",
       "      <td>8.0</td>\n",
       "      <td>37.0</td>\n",
       "      <td>12.0</td>\n",
       "      <td>22.0</td>\n",
       "      <td>36.0</td>\n",
       "      <td>NaN</td>\n",
       "      <td>NaN</td>\n",
       "      <td>...</td>\n",
       "      <td>NaN</td>\n",
       "      <td>NaN</td>\n",
       "      <td>NaN</td>\n",
       "      <td>2.0</td>\n",
       "      <td>NaN</td>\n",
       "      <td>50.0</td>\n",
       "      <td>NaN</td>\n",
       "      <td>8.0</td>\n",
       "      <td>NaN</td>\n",
       "      <td>NaN</td>\n",
       "    </tr>\n",
       "    <tr>\n",
       "      <th>TGA</th>\n",
       "      <th>*-TGA</th>\n",
       "      <th>ACACTGTCTCTGTCAGACAG</th>\n",
       "      <td>114.0</td>\n",
       "      <td>112.0</td>\n",
       "      <td>89.0</td>\n",
       "      <td>175.0</td>\n",
       "      <td>467.0</td>\n",
       "      <td>202.0</td>\n",
       "      <td>149.0</td>\n",
       "      <td>253.0</td>\n",
       "      <td>NaN</td>\n",
       "      <td>NaN</td>\n",
       "      <td>...</td>\n",
       "      <td>NaN</td>\n",
       "      <td>NaN</td>\n",
       "      <td>8.0</td>\n",
       "      <td>28.0</td>\n",
       "      <td>11.0</td>\n",
       "      <td>NaN</td>\n",
       "      <td>126.0</td>\n",
       "      <td>NaN</td>\n",
       "      <td>67.0</td>\n",
       "      <td>2.0</td>\n",
       "    </tr>\n",
       "  </tbody>\n",
       "</table>\n",
       "<p>5 rows × 75 columns</p>\n",
       "</div>"
      ],
      "text/plain": [
       "organ                                                                                               blood  \\\n",
       "virus                                                                                                   1   \n",
       "mouse                                                                                                   1   \n",
       "replicate                                                                                               1   \n",
       "prep                                                                                               qiagen   \n",
       "lib_num                                                                                                97   \n",
       "abs_pos tile_num aa is_wt_aa is_wt_codon wt_bc lib_type enzyme codon aa-codon barcode                       \n",
       "1.0     0.0      *  0        0           0     sub      bbsi   TAA   *-TAA    CACTGTCACACACTGACACT   70.0   \n",
       "                                                                              CTGTGAGTGTGAGAGACACT  101.0   \n",
       "                                                               TAG   *-TAG    CAGAGACAGAGTCTGTCACT   11.0   \n",
       "                                                                              CTCTCACACAGTGAGTCTGA   10.0   \n",
       "                                                               TGA   *-TGA    ACACTGTCTCTGTCAGACAG  114.0   \n",
       "\n",
       "organ                                                                                                      \\\n",
       "virus                                                                                                       \n",
       "mouse                                                                                                   2   \n",
       "replicate                                                                                               1   \n",
       "prep                                                                                               qiagen   \n",
       "lib_num                                                                                                98   \n",
       "abs_pos tile_num aa is_wt_aa is_wt_codon wt_bc lib_type enzyme codon aa-codon barcode                       \n",
       "1.0     0.0      *  0        0           0     sub      bbsi   TAA   *-TAA    CACTGTCACACACTGACACT   70.0   \n",
       "                                                                              CTGTGAGTGTGAGAGACACT   64.0   \n",
       "                                                               TAG   *-TAG    CAGAGACAGAGTCTGTCACT   19.0   \n",
       "                                                                              CTCTCACACAGTGAGTCTGA   12.0   \n",
       "                                                               TGA   *-TGA    ACACTGTCTCTGTCAGACAG  112.0   \n",
       "\n",
       "organ                                                                                                      \\\n",
       "virus                                                                                                       \n",
       "mouse                                                                                                   3   \n",
       "replicate                                                                                               1   \n",
       "prep                                                                                               qiagen   \n",
       "lib_num                                                                                                99   \n",
       "abs_pos tile_num aa is_wt_aa is_wt_codon wt_bc lib_type enzyme codon aa-codon barcode                       \n",
       "1.0     0.0      *  0        0           0     sub      bbsi   TAA   *-TAA    CACTGTCACACACTGACACT   57.0   \n",
       "                                                                              CTGTGAGTGTGAGAGACACT   62.0   \n",
       "                                                               TAG   *-TAG    CAGAGACAGAGTCTGTCACT    8.0   \n",
       "                                                                              CTCTCACACAGTGAGTCTGA    8.0   \n",
       "                                                               TGA   *-TGA    ACACTGTCTCTGTCAGACAG   89.0   \n",
       "\n",
       "organ                                                                                                      \\\n",
       "virus                                                                                                       \n",
       "mouse                                                                                                   4   \n",
       "replicate                                                                                               1   \n",
       "prep                                                                                               qiagen   \n",
       "lib_num                                                                                               100   \n",
       "abs_pos tile_num aa is_wt_aa is_wt_codon wt_bc lib_type enzyme codon aa-codon barcode                       \n",
       "1.0     0.0      *  0        0           0     sub      bbsi   TAA   *-TAA    CACTGTCACACACTGACACT  148.0   \n",
       "                                                                              CTGTGAGTGTGAGAGACACT  188.0   \n",
       "                                                               TAG   *-TAG    CAGAGACAGAGTCTGTCACT   49.0   \n",
       "                                                                              CTCTCACACAGTGAGTCTGA    8.0   \n",
       "                                                               TGA   *-TGA    ACACTGTCTCTGTCAGACAG  175.0   \n",
       "\n",
       "organ                                                                                                      \\\n",
       "virus                                                                                                   2   \n",
       "mouse                                                                                                   1   \n",
       "replicate                                                                                               1   \n",
       "prep                                                                                               qiagen   \n",
       "lib_num                                                                                               101   \n",
       "abs_pos tile_num aa is_wt_aa is_wt_codon wt_bc lib_type enzyme codon aa-codon barcode                       \n",
       "1.0     0.0      *  0        0           0     sub      bbsi   TAA   *-TAA    CACTGTCACACACTGACACT  275.0   \n",
       "                                                                              CTGTGAGTGTGAGAGACACT  317.0   \n",
       "                                                               TAG   *-TAG    CAGAGACAGAGTCTGTCACT   54.0   \n",
       "                                                                              CTCTCACACAGTGAGTCTGA   37.0   \n",
       "                                                               TGA   *-TGA    ACACTGTCTCTGTCAGACAG  467.0   \n",
       "\n",
       "organ                                                                                                      \\\n",
       "virus                                                                                                       \n",
       "mouse                                                                                                   2   \n",
       "replicate                                                                                               1   \n",
       "prep                                                                                               qiagen   \n",
       "lib_num                                                                                               102   \n",
       "abs_pos tile_num aa is_wt_aa is_wt_codon wt_bc lib_type enzyme codon aa-codon barcode                       \n",
       "1.0     0.0      *  0        0           0     sub      bbsi   TAA   *-TAA    CACTGTCACACACTGACACT   96.0   \n",
       "                                                                              CTGTGAGTGTGAGAGACACT  150.0   \n",
       "                                                               TAG   *-TAG    CAGAGACAGAGTCTGTCACT   37.0   \n",
       "                                                                              CTCTCACACAGTGAGTCTGA   12.0   \n",
       "                                                               TGA   *-TGA    ACACTGTCTCTGTCAGACAG  202.0   \n",
       "\n",
       "organ                                                                                                      \\\n",
       "virus                                                                                                       \n",
       "mouse                                                                                                   3   \n",
       "replicate                                                                                               1   \n",
       "prep                                                                                               qiagen   \n",
       "lib_num                                                                                               103   \n",
       "abs_pos tile_num aa is_wt_aa is_wt_codon wt_bc lib_type enzyme codon aa-codon barcode                       \n",
       "1.0     0.0      *  0        0           0     sub      bbsi   TAA   *-TAA    CACTGTCACACACTGACACT  174.0   \n",
       "                                                                              CTGTGAGTGTGAGAGACACT  148.0   \n",
       "                                                               TAG   *-TAG    CAGAGACAGAGTCTGTCACT   42.0   \n",
       "                                                                              CTCTCACACAGTGAGTCTGA   22.0   \n",
       "                                                               TGA   *-TGA    ACACTGTCTCTGTCAGACAG  149.0   \n",
       "\n",
       "organ                                                                                                      \\\n",
       "virus                                                                                                       \n",
       "mouse                                                                                                   4   \n",
       "replicate                                                                                               1   \n",
       "prep                                                                                               qiagen   \n",
       "lib_num                                                                                               104   \n",
       "abs_pos tile_num aa is_wt_aa is_wt_codon wt_bc lib_type enzyme codon aa-codon barcode                       \n",
       "1.0     0.0      *  0        0           0     sub      bbsi   TAA   *-TAA    CACTGTCACACACTGACACT  177.0   \n",
       "                                                                              CTGTGAGTGTGAGAGACACT  192.0   \n",
       "                                                               TAG   *-TAG    CAGAGACAGAGTCTGTCACT   49.0   \n",
       "                                                                              CTCTCACACAGTGAGTCTGA   36.0   \n",
       "                                                               TGA   *-TGA    ACACTGTCTCTGTCAGACAG  253.0   \n",
       "\n",
       "organ                                                                                               liver  \\\n",
       "virus                                                                                                   1   \n",
       "mouse                                                                                                   1   \n",
       "replicate                                                                                               1   \n",
       "prep                                                                                               qiagen   \n",
       "lib_num                                                                                                 9   \n",
       "abs_pos tile_num aa is_wt_aa is_wt_codon wt_bc lib_type enzyme codon aa-codon barcode                       \n",
       "1.0     0.0      *  0        0           0     sub      bbsi   TAA   *-TAA    CACTGTCACACACTGACACT    NaN   \n",
       "                                                                              CTGTGAGTGTGAGAGACACT    NaN   \n",
       "                                                               TAG   *-TAG    CAGAGACAGAGTCTGTCACT    NaN   \n",
       "                                                                              CTCTCACACAGTGAGTCTGA    NaN   \n",
       "                                                               TGA   *-TGA    ACACTGTCTCTGTCAGACAG    NaN   \n",
       "\n",
       "organ                                                                                                      \\\n",
       "virus                                                                                                       \n",
       "mouse                                                                                                   2   \n",
       "replicate                                                                                               1   \n",
       "prep                                                                                               qiagen   \n",
       "lib_num                                                                                                10   \n",
       "abs_pos tile_num aa is_wt_aa is_wt_codon wt_bc lib_type enzyme codon aa-codon barcode                       \n",
       "1.0     0.0      *  0        0           0     sub      bbsi   TAA   *-TAA    CACTGTCACACACTGACACT    NaN   \n",
       "                                                                              CTGTGAGTGTGAGAGACACT    NaN   \n",
       "                                                               TAG   *-TAG    CAGAGACAGAGTCTGTCACT    NaN   \n",
       "                                                                              CTCTCACACAGTGAGTCTGA    NaN   \n",
       "                                                               TGA   *-TGA    ACACTGTCTCTGTCAGACAG    NaN   \n",
       "\n",
       "organ                                                                                              ...   \\\n",
       "virus                                                                                              ...    \n",
       "mouse                                                                                              ...    \n",
       "replicate                                                                                          ...    \n",
       "prep                                                                                               ...    \n",
       "lib_num                                                                                            ...    \n",
       "abs_pos tile_num aa is_wt_aa is_wt_codon wt_bc lib_type enzyme codon aa-codon barcode              ...    \n",
       "1.0     0.0      *  0        0           0     sub      bbsi   TAA   *-TAA    CACTGTCACACACTGACACT ...    \n",
       "                                                                              CTGTGAGTGTGAGAGACACT ...    \n",
       "                                                               TAG   *-TAG    CAGAGACAGAGTCTGTCACT ...    \n",
       "                                                                              CTCTCACACAGTGAGTCTGA ...    \n",
       "                                                               TGA   *-TGA    ACACTGTCTCTGTCAGACAG ...    \n",
       "\n",
       "organ                                                                                               lung  \\\n",
       "virus                                                                                                  1   \n",
       "mouse                                                                                                  2   \n",
       "replicate                                                                                              3   \n",
       "prep                                                                                                mini   \n",
       "lib_num                                                                                               26   \n",
       "abs_pos tile_num aa is_wt_aa is_wt_codon wt_bc lib_type enzyme codon aa-codon barcode                      \n",
       "1.0     0.0      *  0        0           0     sub      bbsi   TAA   *-TAA    CACTGTCACACACTGACACT  57.0   \n",
       "                                                                              CTGTGAGTGTGAGAGACACT  35.0   \n",
       "                                                               TAG   *-TAG    CAGAGACAGAGTCTGTCACT   NaN   \n",
       "                                                                              CTCTCACACAGTGAGTCTGA   NaN   \n",
       "                                                               TGA   *-TGA    ACACTGTCTCTGTCAGACAG   NaN   \n",
       "\n",
       "organ                                                                                                   \\\n",
       "virus                                                                                                2   \n",
       "mouse                                                                                                1   \n",
       "replicate                                                                                            0   \n",
       "prep                                                                                                GP   \n",
       "lib_num                                                                                             31   \n",
       "abs_pos tile_num aa is_wt_aa is_wt_codon wt_bc lib_type enzyme codon aa-codon barcode                    \n",
       "1.0     0.0      *  0        0           0     sub      bbsi   TAA   *-TAA    CACTGTCACACACTGACACT NaN   \n",
       "                                                                              CTGTGAGTGTGAGAGACACT NaN   \n",
       "                                                               TAG   *-TAG    CAGAGACAGAGTCTGTCACT NaN   \n",
       "                                                                              CTCTCACACAGTGAGTCTGA NaN   \n",
       "                                                               TGA   *-TGA    ACACTGTCTCTGTCAGACAG NaN   \n",
       "\n",
       "organ                                                                                                     \\\n",
       "virus                                                                                                      \n",
       "mouse                                                                                                      \n",
       "replicate                                                                                              1   \n",
       "prep                                                                                                mini   \n",
       "lib_num                                                                                               28   \n",
       "abs_pos tile_num aa is_wt_aa is_wt_codon wt_bc lib_type enzyme codon aa-codon barcode                      \n",
       "1.0     0.0      *  0        0           0     sub      bbsi   TAA   *-TAA    CACTGTCACACACTGACACT  16.0   \n",
       "                                                                              CTGTGAGTGTGAGAGACACT  18.0   \n",
       "                                                               TAG   *-TAG    CAGAGACAGAGTCTGTCACT   NaN   \n",
       "                                                                              CTCTCACACAGTGAGTCTGA   NaN   \n",
       "                                                               TGA   *-TGA    ACACTGTCTCTGTCAGACAG   8.0   \n",
       "\n",
       "organ                                                                                                     \\\n",
       "virus                                                                                                      \n",
       "mouse                                                                                                      \n",
       "replicate                                                                                              2   \n",
       "prep                                                                                                mini   \n",
       "lib_num                                                                                               29   \n",
       "abs_pos tile_num aa is_wt_aa is_wt_codon wt_bc lib_type enzyme codon aa-codon barcode                      \n",
       "1.0     0.0      *  0        0           0     sub      bbsi   TAA   *-TAA    CACTGTCACACACTGACACT   7.0   \n",
       "                                                                              CTGTGAGTGTGAGAGACACT   NaN   \n",
       "                                                               TAG   *-TAG    CAGAGACAGAGTCTGTCACT   7.0   \n",
       "                                                                              CTCTCACACAGTGAGTCTGA   2.0   \n",
       "                                                               TGA   *-TGA    ACACTGTCTCTGTCAGACAG  28.0   \n",
       "\n",
       "organ                                                                                                     \\\n",
       "virus                                                                                                      \n",
       "mouse                                                                                                      \n",
       "replicate                                                                                              3   \n",
       "prep                                                                                                mini   \n",
       "lib_num                                                                                               30   \n",
       "abs_pos tile_num aa is_wt_aa is_wt_codon wt_bc lib_type enzyme codon aa-codon barcode                      \n",
       "1.0     0.0      *  0        0           0     sub      bbsi   TAA   *-TAA    CACTGTCACACACTGACACT  21.0   \n",
       "                                                                              CTGTGAGTGTGAGAGACACT   NaN   \n",
       "                                                               TAG   *-TAG    CAGAGACAGAGTCTGTCACT   NaN   \n",
       "                                                                              CTCTCACACAGTGAGTCTGA   NaN   \n",
       "                                                               TGA   *-TGA    ACACTGTCTCTGTCAGACAG  11.0   \n",
       "\n",
       "organ                                                                                                     \\\n",
       "virus                                                                                                      \n",
       "mouse                                                                                                  2   \n",
       "replicate                                                                                              0   \n",
       "prep                                                                                                  GP   \n",
       "lib_num                                                                                               36   \n",
       "abs_pos tile_num aa is_wt_aa is_wt_codon wt_bc lib_type enzyme codon aa-codon barcode                      \n",
       "1.0     0.0      *  0        0           0     sub      bbsi   TAA   *-TAA    CACTGTCACACACTGACACT  54.0   \n",
       "                                                                              CTGTGAGTGTGAGAGACACT   NaN   \n",
       "                                                               TAG   *-TAG    CAGAGACAGAGTCTGTCACT   NaN   \n",
       "                                                                              CTCTCACACAGTGAGTCTGA  50.0   \n",
       "                                                               TGA   *-TGA    ACACTGTCTCTGTCAGACAG   NaN   \n",
       "\n",
       "organ                                                                                                      \\\n",
       "virus                                                                                                       \n",
       "mouse                                                                                                       \n",
       "replicate                                                                                               1   \n",
       "prep                                                                                                 mini   \n",
       "lib_num                                                                                                32   \n",
       "abs_pos tile_num aa is_wt_aa is_wt_codon wt_bc lib_type enzyme codon aa-codon barcode                       \n",
       "1.0     0.0      *  0        0           0     sub      bbsi   TAA   *-TAA    CACTGTCACACACTGACACT    NaN   \n",
       "                                                                              CTGTGAGTGTGAGAGACACT    NaN   \n",
       "                                                               TAG   *-TAG    CAGAGACAGAGTCTGTCACT    NaN   \n",
       "                                                                              CTCTCACACAGTGAGTCTGA    NaN   \n",
       "                                                               TGA   *-TGA    ACACTGTCTCTGTCAGACAG  126.0   \n",
       "\n",
       "organ                                                                                                    \\\n",
       "virus                                                                                                     \n",
       "mouse                                                                                                     \n",
       "replicate                                                                                             2   \n",
       "prep                                                                                               mini   \n",
       "lib_num                                                                                              33   \n",
       "abs_pos tile_num aa is_wt_aa is_wt_codon wt_bc lib_type enzyme codon aa-codon barcode                     \n",
       "1.0     0.0      *  0        0           0     sub      bbsi   TAA   *-TAA    CACTGTCACACACTGACACT  8.0   \n",
       "                                                                              CTGTGAGTGTGAGAGACACT  NaN   \n",
       "                                                               TAG   *-TAG    CAGAGACAGAGTCTGTCACT  NaN   \n",
       "                                                                              CTCTCACACAGTGAGTCTGA  8.0   \n",
       "                                                               TGA   *-TGA    ACACTGTCTCTGTCAGACAG  NaN   \n",
       "\n",
       "organ                                                                                                     \\\n",
       "virus                                                                                                      \n",
       "mouse                                                                                                      \n",
       "replicate                                                                                              3   \n",
       "prep                                                                                                mini   \n",
       "lib_num                                                                                               34   \n",
       "abs_pos tile_num aa is_wt_aa is_wt_codon wt_bc lib_type enzyme codon aa-codon barcode                      \n",
       "1.0     0.0      *  0        0           0     sub      bbsi   TAA   *-TAA    CACTGTCACACACTGACACT  46.0   \n",
       "                                                                              CTGTGAGTGTGAGAGACACT  20.0   \n",
       "                                                               TAG   *-TAG    CAGAGACAGAGTCTGTCACT  73.0   \n",
       "                                                                              CTCTCACACAGTGAGTCTGA   NaN   \n",
       "                                                               TGA   *-TGA    ACACTGTCTCTGTCAGACAG  67.0   \n",
       "\n",
       "organ                                                                                                    \n",
       "virus                                                                                                    \n",
       "mouse                                                                                                    \n",
       "replicate                                                                                             4  \n",
       "prep                                                                                               mini  \n",
       "lib_num                                                                                              35  \n",
       "abs_pos tile_num aa is_wt_aa is_wt_codon wt_bc lib_type enzyme codon aa-codon barcode                    \n",
       "1.0     0.0      *  0        0           0     sub      bbsi   TAA   *-TAA    CACTGTCACACACTGACACT  NaN  \n",
       "                                                                              CTGTGAGTGTGAGAGACACT  NaN  \n",
       "                                                               TAG   *-TAG    CAGAGACAGAGTCTGTCACT  NaN  \n",
       "                                                                              CTCTCACACAGTGAGTCTGA  NaN  \n",
       "                                                               TGA   *-TGA    ACACTGTCTCTGTCAGACAG  2.0  \n",
       "\n",
       "[5 rows x 75 columns]"
      ]
     },
     "execution_count": 3,
     "metadata": {},
     "output_type": "execute_result"
    }
   ],
   "source": [
    "mouse_counts.head()"
   ]
  },
  {
   "cell_type": "markdown",
   "metadata": {},
   "source": [
    "### filter out mutations with low counts and compute selection for mouse data"
   ]
  },
  {
   "cell_type": "code",
   "execution_count": 4,
   "metadata": {
    "collapsed": false
   },
   "outputs": [
    {
     "name": "stderr",
     "output_type": "stream",
     "text": [
      "/home/ubuntu/repos/AAV_fitness_landscape/venv/lib/python3.6/site-packages/numpy/lib/nanfunctions.py:879: RuntimeWarning: All-NaN slice encountered\n",
      "  result = np.apply_along_axis(_nanmedian1d, axis, a, overwrite_input)\n"
     ]
    },
    {
     "name": "stdout",
     "output_type": "stream",
     "text": [
      "['abs_pos', 'aa', 'lib_type']\n"
     ]
    },
    {
     "name": "stderr",
     "output_type": "stream",
     "text": [
      "/home/ubuntu/repos/AAV_fitness_landscape/venv/lib/python3.6/site-packages/pandas/core/reshape/merge.py:544: UserWarning: merging between different levels can give an unintended result (6 levels on the left, 2 on the right)\n",
      "  warnings.warn(msg, UserWarning)\n",
      "/home/ubuntu/repos/AAV_fitness_landscape/venv/lib/python3.6/site-packages/pandas/core/generic.py:3111: PerformanceWarning: dropping on a non-lexsorted multi-index without a level parameter may impact performance.\n",
      "  obj = obj._drop_axis(labels, axis, level=level, errors=errors)\n"
     ]
    },
    {
     "data": {
      "text/html": [
       "<div>\n",
       "<style scoped>\n",
       "    .dataframe tbody tr th:only-of-type {\n",
       "        vertical-align: middle;\n",
       "    }\n",
       "\n",
       "    .dataframe tbody tr th {\n",
       "        vertical-align: top;\n",
       "    }\n",
       "\n",
       "    .dataframe thead tr th {\n",
       "        text-align: left;\n",
       "    }\n",
       "\n",
       "    .dataframe thead tr:last-of-type th {\n",
       "        text-align: right;\n",
       "    }\n",
       "</style>\n",
       "<table border=\"1\" class=\"dataframe\">\n",
       "  <thead>\n",
       "    <tr>\n",
       "      <th></th>\n",
       "      <th></th>\n",
       "      <th></th>\n",
       "      <th>organ</th>\n",
       "      <th colspan=\"4\" halign=\"left\">blood</th>\n",
       "      <th colspan=\"4\" halign=\"left\">liver</th>\n",
       "      <th colspan=\"2\" halign=\"left\">spleen</th>\n",
       "      <th>...</th>\n",
       "      <th>kidney</th>\n",
       "      <th colspan=\"9\" halign=\"left\">lung</th>\n",
       "    </tr>\n",
       "    <tr>\n",
       "      <th></th>\n",
       "      <th></th>\n",
       "      <th></th>\n",
       "      <th>virus</th>\n",
       "      <th colspan=\"4\" halign=\"left\">1</th>\n",
       "      <th colspan=\"4\" halign=\"left\">1</th>\n",
       "      <th colspan=\"2\" halign=\"left\">1</th>\n",
       "      <th>...</th>\n",
       "      <th>2</th>\n",
       "      <th colspan=\"9\" halign=\"left\">2</th>\n",
       "    </tr>\n",
       "    <tr>\n",
       "      <th></th>\n",
       "      <th></th>\n",
       "      <th></th>\n",
       "      <th>mouse</th>\n",
       "      <th>1</th>\n",
       "      <th>2</th>\n",
       "      <th>3</th>\n",
       "      <th>4</th>\n",
       "      <th>1</th>\n",
       "      <th>2</th>\n",
       "      <th>3</th>\n",
       "      <th>4</th>\n",
       "      <th>1</th>\n",
       "      <th>2</th>\n",
       "      <th>...</th>\n",
       "      <th>2</th>\n",
       "      <th colspan=\"4\" halign=\"left\">1</th>\n",
       "      <th colspan=\"5\" halign=\"left\">2</th>\n",
       "    </tr>\n",
       "    <tr>\n",
       "      <th></th>\n",
       "      <th></th>\n",
       "      <th></th>\n",
       "      <th>replicate</th>\n",
       "      <th>1</th>\n",
       "      <th>1</th>\n",
       "      <th>1</th>\n",
       "      <th>1</th>\n",
       "      <th>1</th>\n",
       "      <th>1</th>\n",
       "      <th>1</th>\n",
       "      <th>1</th>\n",
       "      <th>1</th>\n",
       "      <th>1</th>\n",
       "      <th>...</th>\n",
       "      <th>4</th>\n",
       "      <th>0</th>\n",
       "      <th>1</th>\n",
       "      <th>2</th>\n",
       "      <th>3</th>\n",
       "      <th>0</th>\n",
       "      <th>1</th>\n",
       "      <th>2</th>\n",
       "      <th>3</th>\n",
       "      <th>4</th>\n",
       "    </tr>\n",
       "    <tr>\n",
       "      <th></th>\n",
       "      <th></th>\n",
       "      <th></th>\n",
       "      <th>prep</th>\n",
       "      <th>qiagen</th>\n",
       "      <th>qiagen</th>\n",
       "      <th>qiagen</th>\n",
       "      <th>qiagen</th>\n",
       "      <th>qiagen</th>\n",
       "      <th>qiagen</th>\n",
       "      <th>qiagen</th>\n",
       "      <th>qiagen</th>\n",
       "      <th>qiagen</th>\n",
       "      <th>qiagen</th>\n",
       "      <th>...</th>\n",
       "      <th>mini</th>\n",
       "      <th>GP</th>\n",
       "      <th>mini</th>\n",
       "      <th>mini</th>\n",
       "      <th>mini</th>\n",
       "      <th>GP</th>\n",
       "      <th>mini</th>\n",
       "      <th>mini</th>\n",
       "      <th>mini</th>\n",
       "      <th>mini</th>\n",
       "    </tr>\n",
       "    <tr>\n",
       "      <th></th>\n",
       "      <th></th>\n",
       "      <th></th>\n",
       "      <th>lib_num</th>\n",
       "      <th>97</th>\n",
       "      <th>98</th>\n",
       "      <th>99</th>\n",
       "      <th>100</th>\n",
       "      <th>9</th>\n",
       "      <th>10</th>\n",
       "      <th>11</th>\n",
       "      <th>12</th>\n",
       "      <th>1</th>\n",
       "      <th>2</th>\n",
       "      <th>...</th>\n",
       "      <th>19</th>\n",
       "      <th>31</th>\n",
       "      <th>28</th>\n",
       "      <th>29</th>\n",
       "      <th>30</th>\n",
       "      <th>36</th>\n",
       "      <th>32</th>\n",
       "      <th>33</th>\n",
       "      <th>34</th>\n",
       "      <th>35</th>\n",
       "    </tr>\n",
       "    <tr>\n",
       "      <th>abs_pos</th>\n",
       "      <th>aa</th>\n",
       "      <th>wt_bc</th>\n",
       "      <th>lib_type</th>\n",
       "      <th></th>\n",
       "      <th></th>\n",
       "      <th></th>\n",
       "      <th></th>\n",
       "      <th></th>\n",
       "      <th></th>\n",
       "      <th></th>\n",
       "      <th></th>\n",
       "      <th></th>\n",
       "      <th></th>\n",
       "      <th></th>\n",
       "      <th></th>\n",
       "      <th></th>\n",
       "      <th></th>\n",
       "      <th></th>\n",
       "      <th></th>\n",
       "      <th></th>\n",
       "      <th></th>\n",
       "      <th></th>\n",
       "      <th></th>\n",
       "      <th></th>\n",
       "    </tr>\n",
       "  </thead>\n",
       "  <tbody>\n",
       "    <tr>\n",
       "      <th>1.0</th>\n",
       "      <th>M</th>\n",
       "      <th>1</th>\n",
       "      <th>sub</th>\n",
       "      <td>0.979467</td>\n",
       "      <td>1.001131</td>\n",
       "      <td>1.008093</td>\n",
       "      <td>1.015803</td>\n",
       "      <td>0.356283</td>\n",
       "      <td>0.658451</td>\n",
       "      <td>0.896220</td>\n",
       "      <td>1.092260</td>\n",
       "      <td>0.905939</td>\n",
       "      <td>0.988181</td>\n",
       "      <td>...</td>\n",
       "      <td>0.968157</td>\n",
       "      <td>1.001215</td>\n",
       "      <td>0.929890</td>\n",
       "      <td>0.989829</td>\n",
       "      <td>1.060381</td>\n",
       "      <td>1.156421</td>\n",
       "      <td>1.021424</td>\n",
       "      <td>1.043092</td>\n",
       "      <td>1.017331</td>\n",
       "      <td>NaN</td>\n",
       "    </tr>\n",
       "    <tr>\n",
       "      <th rowspan=\"2\" valign=\"top\">1.5</th>\n",
       "      <th>A</th>\n",
       "      <th>0</th>\n",
       "      <th>ins</th>\n",
       "      <td>0.851688</td>\n",
       "      <td>0.911220</td>\n",
       "      <td>0.985651</td>\n",
       "      <td>0.957245</td>\n",
       "      <td>1.485345</td>\n",
       "      <td>NaN</td>\n",
       "      <td>1.425935</td>\n",
       "      <td>0.639529</td>\n",
       "      <td>0.873168</td>\n",
       "      <td>0.921540</td>\n",
       "      <td>...</td>\n",
       "      <td>0.812046</td>\n",
       "      <td>0.600955</td>\n",
       "      <td>0.879422</td>\n",
       "      <td>0.670771</td>\n",
       "      <td>0.804960</td>\n",
       "      <td>0.637138</td>\n",
       "      <td>0.670797</td>\n",
       "      <td>0.585228</td>\n",
       "      <td>0.658230</td>\n",
       "      <td>NaN</td>\n",
       "    </tr>\n",
       "    <tr>\n",
       "      <th>G</th>\n",
       "      <th>0</th>\n",
       "      <th>ins</th>\n",
       "      <td>1.064947</td>\n",
       "      <td>1.082238</td>\n",
       "      <td>1.248799</td>\n",
       "      <td>1.087336</td>\n",
       "      <td>NaN</td>\n",
       "      <td>1.897374</td>\n",
       "      <td>1.083420</td>\n",
       "      <td>0.665003</td>\n",
       "      <td>0.886194</td>\n",
       "      <td>0.906433</td>\n",
       "      <td>...</td>\n",
       "      <td>1.137538</td>\n",
       "      <td>0.812873</td>\n",
       "      <td>0.523290</td>\n",
       "      <td>0.682510</td>\n",
       "      <td>0.935368</td>\n",
       "      <td>0.805495</td>\n",
       "      <td>0.520995</td>\n",
       "      <td>0.768576</td>\n",
       "      <td>0.667615</td>\n",
       "      <td>NaN</td>\n",
       "    </tr>\n",
       "    <tr>\n",
       "      <th>2.0</th>\n",
       "      <th>A</th>\n",
       "      <th>0</th>\n",
       "      <th>sub</th>\n",
       "      <td>0.388537</td>\n",
       "      <td>0.552416</td>\n",
       "      <td>0.590746</td>\n",
       "      <td>1.221429</td>\n",
       "      <td>NaN</td>\n",
       "      <td>NaN</td>\n",
       "      <td>NaN</td>\n",
       "      <td>0.711105</td>\n",
       "      <td>0.509681</td>\n",
       "      <td>1.262808</td>\n",
       "      <td>...</td>\n",
       "      <td>0.564716</td>\n",
       "      <td>0.482100</td>\n",
       "      <td>0.261691</td>\n",
       "      <td>0.104977</td>\n",
       "      <td>0.328843</td>\n",
       "      <td>1.520199</td>\n",
       "      <td>0.378239</td>\n",
       "      <td>0.170513</td>\n",
       "      <td>0.401062</td>\n",
       "      <td>NaN</td>\n",
       "    </tr>\n",
       "    <tr>\n",
       "      <th>2.5</th>\n",
       "      <th>A</th>\n",
       "      <th>0</th>\n",
       "      <th>ins</th>\n",
       "      <td>1.028298</td>\n",
       "      <td>1.098367</td>\n",
       "      <td>1.017820</td>\n",
       "      <td>0.999689</td>\n",
       "      <td>0.267847</td>\n",
       "      <td>1.734873</td>\n",
       "      <td>1.280167</td>\n",
       "      <td>0.573528</td>\n",
       "      <td>1.022857</td>\n",
       "      <td>0.887595</td>\n",
       "      <td>...</td>\n",
       "      <td>0.911151</td>\n",
       "      <td>0.871157</td>\n",
       "      <td>0.689805</td>\n",
       "      <td>0.782754</td>\n",
       "      <td>0.801642</td>\n",
       "      <td>0.700359</td>\n",
       "      <td>0.648466</td>\n",
       "      <td>0.829416</td>\n",
       "      <td>0.803694</td>\n",
       "      <td>NaN</td>\n",
       "    </tr>\n",
       "  </tbody>\n",
       "</table>\n",
       "<p>5 rows × 75 columns</p>\n",
       "</div>"
      ],
      "text/plain": [
       "organ                         blood                                   liver  \\\n",
       "virus                             1                                       1   \n",
       "mouse                             1         2         3         4         1   \n",
       "replicate                         1         1         1         1         1   \n",
       "prep                         qiagen    qiagen    qiagen    qiagen    qiagen   \n",
       "lib_num                          97        98        99       100         9   \n",
       "abs_pos aa wt_bc lib_type                                                     \n",
       "1.0     M  1     sub       0.979467  1.001131  1.008093  1.015803  0.356283   \n",
       "1.5     A  0     ins       0.851688  0.911220  0.985651  0.957245  1.485345   \n",
       "        G  0     ins       1.064947  1.082238  1.248799  1.087336       NaN   \n",
       "2.0     A  0     sub       0.388537  0.552416  0.590746  1.221429       NaN   \n",
       "2.5     A  0     ins       1.028298  1.098367  1.017820  0.999689  0.267847   \n",
       "\n",
       "organ                                                      spleen            \\\n",
       "virus                                                           1             \n",
       "mouse                             2         3         4         1         2   \n",
       "replicate                         1         1         1         1         1   \n",
       "prep                         qiagen    qiagen    qiagen    qiagen    qiagen   \n",
       "lib_num                          10        11        12         1         2   \n",
       "abs_pos aa wt_bc lib_type                                                     \n",
       "1.0     M  1     sub       0.658451  0.896220  1.092260  0.905939  0.988181   \n",
       "1.5     A  0     ins            NaN  1.425935  0.639529  0.873168  0.921540   \n",
       "        G  0     ins       1.897374  1.083420  0.665003  0.886194  0.906433   \n",
       "2.0     A  0     sub            NaN       NaN  0.711105  0.509681  1.262808   \n",
       "2.5     A  0     ins       1.734873  1.280167  0.573528  1.022857  0.887595   \n",
       "\n",
       "organ                     ...     kidney      lung                      \\\n",
       "virus                     ...          2         2                       \n",
       "mouse                     ...          2         1                       \n",
       "replicate                 ...          4         0         1         2   \n",
       "prep                      ...       mini        GP      mini      mini   \n",
       "lib_num                   ...         19        31        28        29   \n",
       "abs_pos aa wt_bc lib_type ...                                            \n",
       "1.0     M  1     sub      ...   0.968157  1.001215  0.929890  0.989829   \n",
       "1.5     A  0     ins      ...   0.812046  0.600955  0.879422  0.670771   \n",
       "        G  0     ins      ...   1.137538  0.812873  0.523290  0.682510   \n",
       "2.0     A  0     sub      ...   0.564716  0.482100  0.261691  0.104977   \n",
       "2.5     A  0     ins      ...   0.911151  0.871157  0.689805  0.782754   \n",
       "\n",
       "organ                                                                        \\\n",
       "virus                                                                         \n",
       "mouse                                       2                                 \n",
       "replicate                         3         0         1         2         3   \n",
       "prep                           mini        GP      mini      mini      mini   \n",
       "lib_num                          30        36        32        33        34   \n",
       "abs_pos aa wt_bc lib_type                                                     \n",
       "1.0     M  1     sub       1.060381  1.156421  1.021424  1.043092  1.017331   \n",
       "1.5     A  0     ins       0.804960  0.637138  0.670797  0.585228  0.658230   \n",
       "        G  0     ins       0.935368  0.805495  0.520995  0.768576  0.667615   \n",
       "2.0     A  0     sub       0.328843  1.520199  0.378239  0.170513  0.401062   \n",
       "2.5     A  0     ins       0.801642  0.700359  0.648466  0.829416  0.803694   \n",
       "\n",
       "organ                           \n",
       "virus                           \n",
       "mouse                           \n",
       "replicate                    4  \n",
       "prep                      mini  \n",
       "lib_num                     35  \n",
       "abs_pos aa wt_bc lib_type       \n",
       "1.0     M  1     sub       NaN  \n",
       "1.5     A  0     ins       NaN  \n",
       "        G  0     ins       NaN  \n",
       "2.0     A  0     sub       NaN  \n",
       "2.5     A  0     ins       NaN  \n",
       "\n",
       "[5 rows x 75 columns]"
      ]
     },
     "execution_count": 4,
     "metadata": {},
     "output_type": "execute_result"
    }
   ],
   "source": [
    "mouse_counts_filtered = mouse_counts.where(\n",
    "        (mouse_counts > 10) & (mouse_counts <31000), np.nan)\n",
    "\n",
    "package_selection = x03_compute_selections.compute_packaging_selection(package_counts, level='aa')\n",
    "\n",
    "new_mouse_selection = x03_compute_selections.compute_mouse_selections(\n",
    "        package_counts=package_counts, \n",
    "        mouse_counts=mouse_counts_filtered, \n",
    "        wt_norm=True,drop=True,\n",
    "        drop_tile=False,\n",
    "        return_freq=False)\n",
    "\n",
    "mouse_aa_selection =  new_mouse_selection['aa_selection']\n",
    "mouse_aa_sel_package_filtered = codon_to_aa_selector(\n",
    "    package_selection[package_selection[('CMV','0')]>.5], mouse_aa_selection)\n",
    "mouse_aa_sel_package_filtered.head()"
   ]
  },
  {
   "cell_type": "markdown",
   "metadata": {},
   "source": [
    "### pearson correlation for selection across all mouse replicates "
   ]
  },
  {
   "cell_type": "code",
   "execution_count": 5,
   "metadata": {
    "collapsed": true
   },
   "outputs": [],
   "source": [
    "mini_tissues = mouse_aa_sel_package_filtered.loc[:,pd_idx[:,:,:,:,'mini']]\n",
    "qiagen_tissues = mouse_aa_sel_package_filtered.loc[:,pd_idx[['blood','liver','spleen'],:,:,:]]\n",
    "mouse_data_for_corr_plot = pd.concat([mini_tissues, qiagen_tissues], axis=1)"
   ]
  },
  {
   "cell_type": "code",
   "execution_count": 6,
   "metadata": {
    "collapsed": true
   },
   "outputs": [],
   "source": [
    "mouse_aa_sel_filtered_corr = mouse_data_for_corr_plot.corr()\n",
    "mouse_aa_sel_filtered_corr.columns = mouse_aa_sel_filtered_corr.columns.droplevel([3,4,5]) \n",
    "mouse_aa_sel_filtered_corr.index = mouse_aa_sel_filtered_corr.index.droplevel([3,4,5]) \n",
    "mouse_aa_sel_filtered_corr.sort_index(axis=0,inplace=True)\n",
    "mouse_aa_sel_filtered_corr.sort_index(axis=1,inplace=True)\n",
    "mouse_aa_sel_filtered_corr.dropna(how='all',inplace=True)\n",
    "mouse_aa_sel_filtered_corr.dropna(axis=1,how='all',inplace=True)"
   ]
  },
  {
   "cell_type": "code",
   "execution_count": 7,
   "metadata": {
    "collapsed": false
   },
   "outputs": [
    {
     "data": {
      "text/plain": [
       "<matplotlib.axes._subplots.AxesSubplot at 0x7fd265db7e80>"
      ]
     },
     "execution_count": 7,
     "metadata": {},
     "output_type": "execute_result"
    },
    {
     "data": {
      "image/png": "[encoded data removed]",
      "text/plain": [
       "<matplotlib.figure.Figure at 0x7fd2c83f14e0>"
      ]
     },
     "metadata": {
      "needs_background": "light"
     },
     "output_type": "display_data"
    }
   ],
   "source": [
    "fig, ax = plt.subplots(figsize=(5*1.6,4*1.6))\n",
    "\n",
    "sns.heatmap(mouse_aa_sel_filtered_corr,\n",
    "            xticklabels=mouse_aa_sel_filtered_corr.columns,\n",
    "           yticklabels=mouse_aa_sel_filtered_corr.index,ax=ax)\n",
    "# save_fig(fig, 'a03s_revisions_PO29a_mouse_replicates_corr_heatmap.pdf')"
   ]
  },
  {
   "cell_type": "markdown",
   "metadata": {},
   "source": [
    "### pearson within a tissue for all samples "
   ]
  },
  {
   "cell_type": "code",
   "execution_count": 8,
   "metadata": {
    "collapsed": false
   },
   "outputs": [
    {
     "data": {
      "text/html": [
       "<div>\n",
       "<style scoped>\n",
       "    .dataframe tbody tr th:only-of-type {\n",
       "        vertical-align: middle;\n",
       "    }\n",
       "\n",
       "    .dataframe tbody tr th {\n",
       "        vertical-align: top;\n",
       "    }\n",
       "\n",
       "    .dataframe thead th {\n",
       "        text-align: right;\n",
       "    }\n",
       "</style>\n",
       "<table border=\"1\" class=\"dataframe\">\n",
       "  <thead>\n",
       "    <tr style=\"text-align: right;\">\n",
       "      <th></th>\n",
       "      <th>level_0</th>\n",
       "      <th>level_6</th>\n",
       "      <th>0</th>\n",
       "    </tr>\n",
       "  </thead>\n",
       "  <tbody>\n",
       "    <tr>\n",
       "      <th>2356</th>\n",
       "      <td>blood</td>\n",
       "      <td>blood</td>\n",
       "      <td>1.000000</td>\n",
       "    </tr>\n",
       "    <tr>\n",
       "      <th>2357</th>\n",
       "      <td>blood</td>\n",
       "      <td>blood</td>\n",
       "      <td>0.963477</td>\n",
       "    </tr>\n",
       "    <tr>\n",
       "      <th>2358</th>\n",
       "      <td>blood</td>\n",
       "      <td>blood</td>\n",
       "      <td>0.942001</td>\n",
       "    </tr>\n",
       "    <tr>\n",
       "      <th>2359</th>\n",
       "      <td>blood</td>\n",
       "      <td>blood</td>\n",
       "      <td>0.937798</td>\n",
       "    </tr>\n",
       "    <tr>\n",
       "      <th>2360</th>\n",
       "      <td>blood</td>\n",
       "      <td>blood</td>\n",
       "      <td>0.821809</td>\n",
       "    </tr>\n",
       "  </tbody>\n",
       "</table>\n",
       "</div>"
      ],
      "text/plain": [
       "     level_0 level_6         0\n",
       "2356   blood   blood  1.000000\n",
       "2357   blood   blood  0.963477\n",
       "2358   blood   blood  0.942001\n",
       "2359   blood   blood  0.937798\n",
       "2360   blood   blood  0.821809"
      ]
     },
     "execution_count": 8,
     "metadata": {},
     "output_type": "execute_result"
    }
   ],
   "source": [
    "mouse_aa_sel_filtered_corr_cop = mouse_data_for_corr_plot.corr()\n",
    "mouse_aa_sel_filtered_corr_cop = mouse_aa_sel_filtered_corr_cop.rename_axis(\n",
    "    [None,None,None,None,None,None]).rename_axis( [None,None,None,None,None,None], axis=1)\n",
    "\n",
    "mouse_corr_flatten_df = mouse_aa_sel_filtered_corr_cop.stack(list(range(0,6))).reset_index()[['level_0','level_6',0]]\n",
    "# mouse_corr_flatten_df\n",
    "\n",
    "mouse_aa_sel_filtered_corr_cop.head()\n",
    "mouse_corr_intra_tissue =  pd.DataFrame()\n",
    "\n",
    "for tissue in tissue_grabber:\n",
    "    df = mouse_corr_flatten_df.query(\"level_0==@tissue\").query(\"level_6==@tissue\")\n",
    "    mouse_corr_intra_tissue = pd.concat([mouse_corr_intra_tissue, df])\n",
    "    \n",
    "mouse_corr_intra_tissue.drop_duplicates(inplace=True)\n",
    "mouse_corr_intra_tissue.head()"
   ]
  },
  {
   "cell_type": "code",
   "execution_count": 9,
   "metadata": {
    "collapsed": false
   },
   "outputs": [
    {
     "data": {
      "text/plain": [
       "Text(0,0.5,'Pearson R')"
      ]
     },
     "execution_count": 9,
     "metadata": {},
     "output_type": "execute_result"
    },
    {
     "data": {
      "image/png": "[encoded data removed]",
      "text/plain": [
       "<matplotlib.figure.Figure at 0x7fd25bea4160>"
      ]
     },
     "metadata": {
      "needs_background": "light"
     },
     "output_type": "display_data"
    }
   ],
   "source": [
    "fig,ax = plt.subplots(figsize=[3,2])\n",
    "sns.swarmplot(x='level_0', y=0, data=mouse_corr_intra_tissue[mouse_corr_intra_tissue[0]<1], size=3)\n",
    "ax.set_xlabel('Tissue')\n",
    "ax.set_ylabel('Pearson R')\n",
    "# save_fig(fig, 'a03_revisions_x05_intratissue_corr_swarm.pdf')"
   ]
  },
  {
   "cell_type": "markdown",
   "metadata": {},
   "source": [
    "### process data for pca\n",
    "- take the median aa measurement for each tissue across all replicates\n",
    "- remove infinity values\n",
    "- filter selection to only get mutations which contain at least one deviant from WT selection value across all tissues"
   ]
  },
  {
   "cell_type": "code",
   "execution_count": 10,
   "metadata": {
    "collapsed": false
   },
   "outputs": [
    {
     "data": {
      "text/html": [
       "<div>\n",
       "<style scoped>\n",
       "    .dataframe tbody tr th:only-of-type {\n",
       "        vertical-align: middle;\n",
       "    }\n",
       "\n",
       "    .dataframe tbody tr th {\n",
       "        vertical-align: top;\n",
       "    }\n",
       "\n",
       "    .dataframe thead th {\n",
       "        text-align: right;\n",
       "    }\n",
       "</style>\n",
       "<table border=\"1\" class=\"dataframe\">\n",
       "  <thead>\n",
       "    <tr style=\"text-align: right;\">\n",
       "      <th></th>\n",
       "      <th></th>\n",
       "      <th></th>\n",
       "      <th>organ</th>\n",
       "      <th>blood</th>\n",
       "      <th>heart</th>\n",
       "      <th>kidney</th>\n",
       "      <th>liver</th>\n",
       "      <th>lung</th>\n",
       "      <th>spleen</th>\n",
       "    </tr>\n",
       "    <tr>\n",
       "      <th>abs_pos</th>\n",
       "      <th>aa</th>\n",
       "      <th>wt_bc</th>\n",
       "      <th>lib_type</th>\n",
       "      <th></th>\n",
       "      <th></th>\n",
       "      <th></th>\n",
       "      <th></th>\n",
       "      <th></th>\n",
       "      <th></th>\n",
       "    </tr>\n",
       "  </thead>\n",
       "  <tbody>\n",
       "    <tr>\n",
       "      <th>1.0</th>\n",
       "      <th>M</th>\n",
       "      <th>1</th>\n",
       "      <th>sub</th>\n",
       "      <td>-0.004536</td>\n",
       "      <td>-0.041369</td>\n",
       "      <td>0.017231</td>\n",
       "      <td>-0.273577</td>\n",
       "      <td>0.024789</td>\n",
       "      <td>-0.066456</td>\n",
       "    </tr>\n",
       "    <tr>\n",
       "      <th rowspan=\"2\" valign=\"top\">1.5</th>\n",
       "      <th>A</th>\n",
       "      <th>0</th>\n",
       "      <th>ins</th>\n",
       "      <td>-0.041792</td>\n",
       "      <td>-0.010272</td>\n",
       "      <td>-0.203204</td>\n",
       "      <td>0.016588</td>\n",
       "      <td>-0.313011</td>\n",
       "      <td>-0.143360</td>\n",
       "    </tr>\n",
       "    <tr>\n",
       "      <th>G</th>\n",
       "      <th>0</th>\n",
       "      <th>ins</th>\n",
       "      <td>0.288646</td>\n",
       "      <td>-0.132954</td>\n",
       "      <td>-0.314006</td>\n",
       "      <td>-0.172299</td>\n",
       "      <td>-0.551078</td>\n",
       "      <td>-0.122369</td>\n",
       "    </tr>\n",
       "    <tr>\n",
       "      <th>2.0</th>\n",
       "      <th>A</th>\n",
       "      <th>0</th>\n",
       "      <th>sub</th>\n",
       "      <td>-0.650473</td>\n",
       "      <td>-0.546251</td>\n",
       "      <td>-0.511453</td>\n",
       "      <td>-1.942433</td>\n",
       "      <td>-1.402631</td>\n",
       "      <td>-0.401723</td>\n",
       "    </tr>\n",
       "    <tr>\n",
       "      <th>2.5</th>\n",
       "      <th>A</th>\n",
       "      <th>0</th>\n",
       "      <th>ins</th>\n",
       "      <td>-0.005815</td>\n",
       "      <td>-0.160016</td>\n",
       "      <td>-0.061207</td>\n",
       "      <td>-0.698470</td>\n",
       "      <td>-0.318969</td>\n",
       "      <td>-0.117321</td>\n",
       "    </tr>\n",
       "  </tbody>\n",
       "</table>\n",
       "</div>"
      ],
      "text/plain": [
       "organ                         blood     heart    kidney     liver      lung  \\\n",
       "abs_pos aa wt_bc lib_type                                                     \n",
       "1.0     M  1     sub      -0.004536 -0.041369  0.017231 -0.273577  0.024789   \n",
       "1.5     A  0     ins      -0.041792 -0.010272 -0.203204  0.016588 -0.313011   \n",
       "        G  0     ins       0.288646 -0.132954 -0.314006 -0.172299 -0.551078   \n",
       "2.0     A  0     sub      -0.650473 -0.546251 -0.511453 -1.942433 -1.402631   \n",
       "2.5     A  0     ins      -0.005815 -0.160016 -0.061207 -0.698470 -0.318969   \n",
       "\n",
       "organ                        spleen  \n",
       "abs_pos aa wt_bc lib_type            \n",
       "1.0     M  1     sub      -0.066456  \n",
       "1.5     A  0     ins      -0.143360  \n",
       "        G  0     ins      -0.122369  \n",
       "2.0     A  0     sub      -0.401723  \n",
       "2.5     A  0     ins      -0.117321  "
      ]
     },
     "execution_count": 10,
     "metadata": {},
     "output_type": "execute_result"
    }
   ],
   "source": [
    "mouse_data_for_pca = mouse_data_for_corr_plot.T.groupby(level='organ').median().replace(\n",
    "        [np.inf,-np.inf,0],np.nan).apply(np.log2).T.dropna()\n",
    "mouse_data_for_pca_selection_filtered = mouse_data_for_pca[\n",
    "    ((mouse_data_for_pca>1).any(1)) | ((mouse_data_for_pca<-1).any(1))]\n",
    "mouse_data_for_pca.head()"
   ]
  },
  {
   "cell_type": "markdown",
   "metadata": {},
   "source": [
    "### correlation of median AA selection value across tissues"
   ]
  },
  {
   "cell_type": "code",
   "execution_count": 11,
   "metadata": {
    "collapsed": false
   },
   "outputs": [
    {
     "data": {
      "text/plain": [
       "<matplotlib.axes._subplots.AxesSubplot at 0x7fd25bcfa2e8>"
      ]
     },
     "execution_count": 11,
     "metadata": {},
     "output_type": "execute_result"
    },
    {
     "data": {
      "image/png": "[encoded data removed]",
      "text/plain": [
       "<matplotlib.figure.Figure at 0x7fd25be35048>"
      ]
     },
     "metadata": {
      "needs_background": "light"
     },
     "output_type": "display_data"
    }
   ],
   "source": [
    "fig,ax = plt.subplots(figsize=[3,2])\n",
    "\n",
    "sns.heatmap(mouse_data_for_pca_selection_filtered.corr(),ax=ax)"
   ]
  },
  {
   "cell_type": "markdown",
   "metadata": {},
   "source": [
    "### compute PCA "
   ]
  },
  {
   "cell_type": "code",
   "execution_count": 12,
   "metadata": {
    "collapsed": false
   },
   "outputs": [
    {
     "data": {
      "text/plain": [
       "(7267, 6)"
      ]
     },
     "execution_count": 12,
     "metadata": {},
     "output_type": "execute_result"
    }
   ],
   "source": [
    "mouse_data_for_pca.shape"
   ]
  },
  {
   "cell_type": "code",
   "execution_count": 13,
   "metadata": {
    "collapsed": false
   },
   "outputs": [
    {
     "data": {
      "text/plain": [
       "array([ 0.58092162,  0.2576817 ,  0.08672888,  0.03451919,  0.02704102,\n",
       "        0.0131076 ])"
      ]
     },
     "execution_count": 13,
     "metadata": {},
     "output_type": "execute_result"
    }
   ],
   "source": [
    "pca = PCA()\n",
    "# pca_fit_best_tissues = pca.fit_transform(mouse_data_for_pca)\n",
    "pca_fit_best_tissues = pca.fit_transform(mouse_data_for_pca_selection_filtered)\n",
    "\n",
    "\n",
    "pca.explained_variance_ratio_"
   ]
  },
  {
   "cell_type": "code",
   "execution_count": 14,
   "metadata": {
    "collapsed": false
   },
   "outputs": [
    {
     "data": {
      "text/plain": [
       "(2007, 6)"
      ]
     },
     "execution_count": 14,
     "metadata": {},
     "output_type": "execute_result"
    }
   ],
   "source": [
    "pca_fit_best_tissues.shape"
   ]
  },
  {
   "cell_type": "markdown",
   "metadata": {},
   "source": [
    "### generate dataframe of component values"
   ]
  },
  {
   "cell_type": "code",
   "execution_count": 15,
   "metadata": {
    "collapsed": false
   },
   "outputs": [
    {
     "name": "stdout",
     "output_type": "stream",
     "text": [
      "(2007, 6)\n"
     ]
    },
    {
     "data": {
      "text/html": [
       "<div>\n",
       "<style scoped>\n",
       "    .dataframe tbody tr th:only-of-type {\n",
       "        vertical-align: middle;\n",
       "    }\n",
       "\n",
       "    .dataframe tbody tr th {\n",
       "        vertical-align: top;\n",
       "    }\n",
       "\n",
       "    .dataframe thead th {\n",
       "        text-align: right;\n",
       "    }\n",
       "</style>\n",
       "<table border=\"1\" class=\"dataframe\">\n",
       "  <thead>\n",
       "    <tr style=\"text-align: right;\">\n",
       "      <th></th>\n",
       "      <th></th>\n",
       "      <th></th>\n",
       "      <th></th>\n",
       "      <th>0</th>\n",
       "      <th>1</th>\n",
       "      <th>2</th>\n",
       "      <th>3</th>\n",
       "      <th>4</th>\n",
       "      <th>5</th>\n",
       "    </tr>\n",
       "    <tr>\n",
       "      <th>abs_pos</th>\n",
       "      <th>aa</th>\n",
       "      <th>wt_bc</th>\n",
       "      <th>lib_type</th>\n",
       "      <th></th>\n",
       "      <th></th>\n",
       "      <th></th>\n",
       "      <th></th>\n",
       "      <th></th>\n",
       "      <th></th>\n",
       "    </tr>\n",
       "  </thead>\n",
       "  <tbody>\n",
       "    <tr>\n",
       "      <th>2.0</th>\n",
       "      <th>A</th>\n",
       "      <th>0</th>\n",
       "      <th>sub</th>\n",
       "      <td>1.001602</td>\n",
       "      <td>0.119837</td>\n",
       "      <td>1.064891</td>\n",
       "      <td>-0.142870</td>\n",
       "      <td>0.110609</td>\n",
       "      <td>0.162696</td>\n",
       "    </tr>\n",
       "    <tr>\n",
       "      <th>10.0</th>\n",
       "      <th>T</th>\n",
       "      <th>0</th>\n",
       "      <th>sub</th>\n",
       "      <td>2.454055</td>\n",
       "      <td>-0.369599</td>\n",
       "      <td>0.809465</td>\n",
       "      <td>0.012530</td>\n",
       "      <td>-0.211280</td>\n",
       "      <td>0.182861</td>\n",
       "    </tr>\n",
       "    <tr>\n",
       "      <th>13.0</th>\n",
       "      <th>C</th>\n",
       "      <th>0</th>\n",
       "      <th>sub</th>\n",
       "      <td>2.688441</td>\n",
       "      <td>-0.216320</td>\n",
       "      <td>0.719888</td>\n",
       "      <td>0.132583</td>\n",
       "      <td>-0.135554</td>\n",
       "      <td>-0.026570</td>\n",
       "    </tr>\n",
       "    <tr>\n",
       "      <th rowspan=\"2\" valign=\"top\">19.0</th>\n",
       "      <th>E</th>\n",
       "      <th>0</th>\n",
       "      <th>sub</th>\n",
       "      <td>2.656961</td>\n",
       "      <td>-0.425986</td>\n",
       "      <td>0.815969</td>\n",
       "      <td>0.021397</td>\n",
       "      <td>-0.315456</td>\n",
       "      <td>0.071424</td>\n",
       "    </tr>\n",
       "    <tr>\n",
       "      <th>S</th>\n",
       "      <th>0</th>\n",
       "      <th>sub</th>\n",
       "      <td>2.746411</td>\n",
       "      <td>-0.167938</td>\n",
       "      <td>0.816788</td>\n",
       "      <td>0.081451</td>\n",
       "      <td>-0.294462</td>\n",
       "      <td>-0.042492</td>\n",
       "    </tr>\n",
       "  </tbody>\n",
       "</table>\n",
       "</div>"
      ],
      "text/plain": [
       "                                  0         1         2         3         4  \\\n",
       "abs_pos aa wt_bc lib_type                                                     \n",
       "2.0     A  0     sub       1.001602  0.119837  1.064891 -0.142870  0.110609   \n",
       "10.0    T  0     sub       2.454055 -0.369599  0.809465  0.012530 -0.211280   \n",
       "13.0    C  0     sub       2.688441 -0.216320  0.719888  0.132583 -0.135554   \n",
       "19.0    E  0     sub       2.656961 -0.425986  0.815969  0.021397 -0.315456   \n",
       "        S  0     sub       2.746411 -0.167938  0.816788  0.081451 -0.294462   \n",
       "\n",
       "                                  5  \n",
       "abs_pos aa wt_bc lib_type            \n",
       "2.0     A  0     sub       0.162696  \n",
       "10.0    T  0     sub       0.182861  \n",
       "13.0    C  0     sub      -0.026570  \n",
       "19.0    E  0     sub       0.071424  \n",
       "        S  0     sub      -0.042492  "
      ]
     },
     "execution_count": 15,
     "metadata": {},
     "output_type": "execute_result"
    }
   ],
   "source": [
    "pca_df = pd.DataFrame(pca_fit_best_tissues * -1, index=mouse_data_for_pca_selection_filtered.index)\n",
    "\n",
    "print (pca_df.shape)\n",
    "pca_df.head()"
   ]
  },
  {
   "cell_type": "markdown",
   "metadata": {},
   "source": [
    "### join component values with selection for plotting "
   ]
  },
  {
   "cell_type": "code",
   "execution_count": 16,
   "metadata": {
    "collapsed": true
   },
   "outputs": [],
   "source": [
    "pca_selection_joined = pca_df.join(mouse_data_for_pca_selection_filtered)"
   ]
  },
  {
   "cell_type": "code",
   "execution_count": 17,
   "metadata": {
    "collapsed": true
   },
   "outputs": [],
   "source": [
    "pos_list = [str(x) for x in (list(pca_selection_joined.index.get_level_values(0)))]"
   ]
  },
  {
   "cell_type": "markdown",
   "metadata": {},
   "source": [
    "### K-means to determine clusters "
   ]
  },
  {
   "cell_type": "code",
   "execution_count": 18,
   "metadata": {
    "collapsed": false
   },
   "outputs": [
    {
     "data": {
      "text/plain": [
       "<matplotlib.legend.Legend at 0x7fd25bc59b38>"
      ]
     },
     "execution_count": 18,
     "metadata": {},
     "output_type": "execute_result"
    },
    {
     "data": {
      "image/png": "[encoded data removed]",
      "text/plain": [
       "<matplotlib.figure.Figure at 0x7fd25bc32470>"
      ]
     },
     "metadata": {},
     "output_type": "display_data"
    }
   ],
   "source": [
    "kmean_1 =KMeans(n_clusters=9, random_state=0).fit(pca_df)\n",
    "\n",
    "label_dict = {0:3, 1:0,2:0,3:9, 4:2,5:0,6:0,7:0,8:1}\n",
    "def relabel(x):\n",
    "    return label_dict[x]\n",
    "\n",
    "pca_df_kmeans = pca_df.copy()\n",
    "pca_df_kmeans['labels'] = kmean_1.labels_\n",
    "pca_df_kmeans\n",
    "\n",
    "label_dict = {0:5, 1:8,2:4,3:9, 4:1,5:2,6:6,7:7,8:3}\n",
    "def relabel(x):\n",
    "    return label_dict[x]\n",
    "\n",
    "pca_df_kmeans['labels'] = pca_df_kmeans['labels'].apply(relabel)\n",
    "\n",
    "# plt.scatter(pca_df_kmeans[0],pca_df_kmeans[1],c=pca_df_kmeans['labels'])\n",
    "fig,ax = plt.subplots(figsize=[2.2,2.2])\n",
    "sns.scatterplot(\n",
    "    pca_df_kmeans[0] ,pca_df_kmeans[1],s=5,lw=0,\n",
    "    alpha=1, hue=pca_df_kmeans['labels'], \n",
    "    palette=[sns.color_palette('deep', 9)[i] for i in (1,2,4,3,5,0,6,8,7)],ax=ax)\n",
    "# ax.axes('off')\n",
    "\n",
    "ax.yaxis.set_major_locator(plt.NullLocator())\n",
    "ax.xaxis.set_major_locator(plt.NullLocator())\n",
    "ax.set_xlabel('')\n",
    "ax.set_ylabel('')\n",
    "ax.legend( loc=1, frameon=False, bbox_to_anchor=[1.35,1])"
   ]
  },
  {
   "cell_type": "code",
   "execution_count": 19,
   "metadata": {
    "collapsed": false
   },
   "outputs": [
    {
     "data": {
      "text/plain": [
       "<matplotlib.legend.Legend at 0x7fd25abcb2b0>"
      ]
     },
     "execution_count": 19,
     "metadata": {},
     "output_type": "execute_result"
    },
    {
     "data": {
      "image/png": "[encoded data removed]",
      "text/plain": [
       "<matplotlib.figure.Figure at 0x7fd25ac053c8>"
      ]
     },
     "metadata": {},
     "output_type": "display_data"
    }
   ],
   "source": [
    "label_dict = {9:0,1:1,2:2, 3:3, 4:0,5:0,6:0,7:0,8:0}\n",
    "\n",
    "pca_df_kmeans['labels_important'] = pca_df_kmeans['labels'].apply(relabel)\n",
    "\n",
    "# plt.scatter(pca_df_kmeans[0],pca_df_kmeans[1],c=pca_df_kmeans['labels'])\n",
    "fig,ax = plt.subplots(figsize=[2.2,2.2])\n",
    "sns.scatterplot(\n",
    "    pca_df_kmeans[0],pca_df_kmeans[1],s=5,lw=0.05,\n",
    "    alpha=1, hue=pca_df_kmeans['labels_important'], \n",
    "    palette=[sns.color_palette('deep', 9)[i] for i in (7,1,2,4)] ,ax=ax)\n",
    "# ax.axes('off')\n",
    "\n",
    "ax.yaxis.set_major_locator(plt.NullLocator())\n",
    "ax.xaxis.set_major_locator(plt.NullLocator())\n",
    "ax.set_xlabel('')\n",
    "ax.set_ylabel('')\n",
    "ax.legend( loc=1, frameon=False, bbox_to_anchor=[1.55,1])"
   ]
  },
  {
   "cell_type": "markdown",
   "metadata": {},
   "source": [
    "### selection values for all clusters identified with K-means"
   ]
  },
  {
   "cell_type": "code",
   "execution_count": 20,
   "metadata": {
    "collapsed": false
   },
   "outputs": [
    {
     "data": {
      "image/png": "[encoded data removed]",
      "text/plain": [
       "<matplotlib.figure.Figure at 0x7fd25abc1f60>"
      ]
     },
     "metadata": {
      "needs_background": "light"
     },
     "output_type": "display_data"
    }
   ],
   "source": [
    "pca_kmeans_selection = pca_df_kmeans.join(mouse_data_for_pca_selection_filtered)\n",
    "\n",
    "pca_kmeans_selection\n",
    "fig, axes = plt.subplots(ncols=3,nrows=3, sharex=True,sharey=True,figsize=[6,6] )\n",
    "kmeans=9\n",
    "for ax, kmeans in zip(axes.flatten(), range(1,11)):\n",
    "\n",
    "    kmeans_melted = pca_kmeans_selection[pca_kmeans_selection['labels'] == kmeans].melt(value_vars=['blood', 'liver', 'spleen','lung', 'heart', 'kidney'], var_name= 'tissue', \n",
    "                                value_name='selection')\n",
    "    kmeans_melted\n",
    "    sns.violinplot(x='tissue', y='selection', data=kmeans_melted,\n",
    "                order=tissue_grabber,palette = sns.color_palette(\"muted\", 6), errwidth=1,ax=ax )\n",
    "    ax.text(.5,.9,'Kmeans Cluster: %s' % kmeans,\n",
    "        horizontalalignment='center',\n",
    "        transform=ax.transAxes)\n",
    "    ax.set_yticks([0], minor=True)\n",
    "    ax.yaxis.grid(which='minor')"
   ]
  },
  {
   "cell_type": "code",
   "execution_count": 21,
   "metadata": {
    "collapsed": false
   },
   "outputs": [
    {
     "data": {
      "image/png": "[encoded data removed]",
      "text/plain": [
       "<matplotlib.figure.Figure at 0x7fd24840e278>"
      ]
     },
     "metadata": {
      "needs_background": "light"
     },
     "output_type": "display_data"
    }
   ],
   "source": [
    "fig, (ax1,ax2,ax3) = plt.subplots(nrows=3,sharex=True,sharey=True, figsize=[2.2,2.3],gridspec_kw = {\"hspace\":0.09})\n",
    "\n",
    "kmeans_melted_8 = pca_kmeans_selection[pca_kmeans_selection['labels'] == 1].\\\n",
    "    melt(value_vars=['blood', 'liver', 'spleen','lung', 'heart', 'kidney'], var_name= 'tissue', \n",
    "                            value_name='selection')\n",
    "\n",
    "sns.violinplot(x='tissue', y='selection', data=kmeans_melted_8,linewidth=.5,\n",
    "            order=tissue_grabber,color=[sns.color_palette('deep', 9)[i] for i in (1,2,4)][0], errwidth=1,ax=ax1 )\n",
    "\n",
    "kmeans_melted_4 = pca_kmeans_selection[pca_kmeans_selection['labels'] == 2].\\\n",
    "    melt(value_vars=['blood', 'liver', 'spleen','lung', 'heart', 'kidney'], var_name= 'tissue', \n",
    "                            value_name='selection')\n",
    "sns.violinplot(x='tissue', y='selection', data=kmeans_melted_4,linewidth=.5,\n",
    "            order=tissue_grabber,color = [sns.color_palette('deep', 9)[i] for i in (1,2,4)][1], errwidth=1,ax=ax2 )\n",
    "\n",
    "kmeans_melted_0 = pca_kmeans_selection[pca_kmeans_selection['labels'] == 3].\\\n",
    "    melt(value_vars=['blood', 'liver', 'spleen','lung', 'heart', 'kidney'], var_name= 'tissue', \n",
    "                            value_name='selection')\n",
    "sns.violinplot(x='tissue', y='selection', data=kmeans_melted_0,linewidth=.5,\n",
    "            order=tissue_grabber,color=[sns.color_palette('deep', 9)[i] for i in (1,2,4)][2], errwidth=1,ax=ax3 )\n",
    "\n",
    "for ax in (ax1,ax2,ax3):\n",
    "    ax.set_xlabel('')\n",
    "    ax.set_xticks([])\n",
    "    ax.set_yticks([-4,0,4])\n",
    "    ax.set_yticks([0], minor=True)\n",
    "    ax.yaxis.grid(which='minor')\n",
    "    ax.set_ylabel('')\n",
    "    ax.yaxis.tick_right()\n",
    "#     ax.grid(axis='y')\n",
    "    ax.tick_params(length=3,pad=7)\n",
    "    ax.set_yticklabels([-4,0,4], ha='right')"
   ]
  },
  {
   "cell_type": "markdown",
   "metadata": {},
   "source": [
    "### approximate K-means location (circles) with tissue selection values "
   ]
  },
  {
   "cell_type": "code",
   "execution_count": 22,
   "metadata": {
    "collapsed": false
   },
   "outputs": [
    {
     "data": {
      "image/png": "[encoded data removed]",
      "text/plain": [
       "<matplotlib.figure.Figure at 0x7fd25bc88b38>"
      ]
     },
     "metadata": {},
     "output_type": "display_data"
    }
   ],
   "source": [
    "c1_coord = (4.8,.82)\n",
    "c1_rad = 1.7\n",
    "# c2_coord = (2.3,-3.5)\n",
    "c2_coord = (2,-3.5)\n",
    "c2_rad=2\n",
    "c3_coord = (-5,1.5)\n",
    "c3_rad = 2.8\n",
    "c4_coord = (-1,-4.5)\n",
    "c4_rad = 1\n",
    "\n",
    "pca_selection_joined = pca_df.join(mouse_data_for_pca_selection_filtered)\n",
    "\n",
    "fig, axes = plt.subplots(ncols=3,nrows=2, sharex=True,sharey=True,figsize=[4,2.7] )\n",
    "# fig, axes = plt.subplots(ncols=3,nrows=2, sharex=True,sharey=True,figsize=[10,5] )\n",
    "\n",
    "\n",
    "for ax, tissue in zip(axes.flatten(), tissue_grabber):\n",
    "    ax.scatter(pca_selection_joined[0], pca_selection_joined[1], c=pca_selection_joined[tissue],\n",
    "            cmap='RdBu_r',alpha=1,vmin=-2, vmax=2,s=.5)\n",
    "    ax.set_title(tissue)\n",
    "\n",
    "    c1 = plt.Circle(c1_coord,c1_rad, color=None,alpha=.5, ec='black', fc='none',ls='dashed',lw=.5)\n",
    "    c2 = plt.Circle(c2_coord,c2_rad, color=None,alpha=.5, ec='black', fc='none',ls='dashed',lw=.5)\n",
    "    c3 = plt.Circle(c3_coord,c3_rad, color=None,alpha=.5, ec='black', fc='none',ls='dashed',lw=.5)\n",
    "#     c4 = plt.Circle(c4_coord,c4_rad, color=None,alpha=.5, ec='black', fc='none',ls='dashed')\n",
    "\n",
    "    \n",
    "    ax.add_artist(c1)\n",
    "    ax.add_artist(c2)\n",
    "    ax.add_artist(c3)\n",
    "#     ax.add_artist(c4)\n",
    "\n",
    "\n",
    "\n",
    "    ax.yaxis.set_major_locator(plt.NullLocator())\n",
    "    ax.xaxis.set_major_locator(plt.NullLocator())\n",
    "plt.tight_layout()"
   ]
  },
  {
   "cell_type": "markdown",
   "metadata": {},
   "source": [
    "### return residues within clusters for plotting\n",
    "script (tested with pymol 2.0) which can be pasted into pymol to color the residues is here, replace `<resi list>` with list of residues\n",
    "#### pymol cmds \n",
    "\n",
    "setup   \n",
    "`fetch 1lp3, type=pdb1`  \n",
    "`split_states 1lp3`  \n",
    "`delete lp13`  \n",
    "`set_view (\\\n",
    "     0.037507217,   -0.607802093,   -0.793202281,\\\n",
    "     0.784735262,    0.509351134,   -0.353193521,\\\n",
    "     0.618690848,   -0.609206140,    0.496069700,\\\n",
    "     0.000000000,    0.000000000, -850.692321777,\\\n",
    "   -71.660736084,   22.312057495,   74.474777222,\\\n",
    "  -72682.515625000, 74383.906250000,  -20.000000000 )`\n",
    "\n",
    "color  \n",
    "`show spheres`  \n",
    "`color *teal, resi <resi list>`   \n",
    "#then draw ray  \n",
    "\n",
    "`hide everything`  \n",
    "`show spheres, resi <resi list>`  \n",
    "#then draw raw of just residues \n"
   ]
  },
  {
   "cell_type": "markdown",
   "metadata": {},
   "source": [
    "#### cluster 1 (as is into pymol, no brackets for group)"
   ]
  },
  {
   "cell_type": "code",
   "execution_count": 23,
   "metadata": {
    "collapsed": false
   },
   "outputs": [
    {
     "data": {
      "text/plain": [
       "'325+327+349+350+350+350+350+350+350+350+350+350+350+350+350+352+353+354+355+359+364+367+395+395+395+395+395+395+395+395+395+395+395+395+395+395+395+395+395+434+443+443+443+443+444+444+445+445+445+445+445+446+446+446+446+446+446+446+447+447+447+447+447+447+447+447+447+448+448+448+448+448+448+448+448+448+448+448+448+448+448+448+448+448+448+448+448+449+449+449+449+450+450+450+450+451+451+451+451+451+451+451+451+451+451+451+451+451+451+451+451+451+451+451+451+452+452+452+453+453+453+454+454+454+454+454+454+456+456+456+457+457'"
      ]
     },
     "execution_count": 23,
     "metadata": {},
     "output_type": "execute_result"
    }
   ],
   "source": [
    "#1 color = set_color deep1, [0.8666666666666667, 0.5176470588235295, 0.3215686274509804]\n",
    "pymol_array_circle1 = np.array(pca_kmeans_selection[pca_kmeans_selection['labels'] == 1].index.get_level_values(0)) - 216 + 79\n",
    "int_pymol_array = np.array([int(x) for x in pymol_array_circle1])\n",
    "'+'.join([str(x) for x in int_pymol_array])"
   ]
  },
  {
   "cell_type": "markdown",
   "metadata": {},
   "source": [
    "#### cluster 2 "
   ]
  },
  {
   "cell_type": "code",
   "execution_count": 24,
   "metadata": {
    "collapsed": false
   },
   "outputs": [
    {
     "data": {
      "text/plain": [
       "'308+309+309+310+310+310+310+310+310+310+310+311+311+311+311+311+347+347+347+347+347+348+349+350+350+350+350+351+352+353+354+358+358+358+358+358+359+359+359+363+363+364+364+365+365+366+366+367+370+387+390+395+395+395+395+396+396+396+396+396+396+434+434+440+442+442+442+442+443+443+443+444+444+444+444+444+445+445+445+446+446+446+447+447+447+447+447+447+447+447+447+448+448+449+449+449+449+449+450+450+451+451+452+452+453+453+453+455+455+455+456+456+457+457+457'"
      ]
     },
     "execution_count": 24,
     "metadata": {},
     "output_type": "execute_result"
    }
   ],
   "source": [
    "#2 color =  set_color deep2, [0.3333333333333333, 0.6588235294117647, 0.40784313725490196]\n",
    "pymol_array_circle1 = np.array(pca_kmeans_selection[pca_kmeans_selection['labels'] == 2].index.get_level_values(0)) - 216 + 79\n",
    "int_pymol_array = np.array([int(x) for x in pymol_array_circle1])\n",
    "'+'.join([str(x) for x in int_pymol_array])"
   ]
  },
  {
   "cell_type": "markdown",
   "metadata": {},
   "source": [
    "#### cluster 3"
   ]
  },
  {
   "cell_type": "code",
   "execution_count": 25,
   "metadata": {
    "collapsed": false
   },
   "outputs": [
    {
     "data": {
      "text/plain": [
       "'-94+-86+-77+-74+-28+53+123+123+126+165+170+204+233+250+252+252+252+252+257+276+280+282+284+305+307+307+310+320+321+321+321+322+322+322+323+323+323+327+330+330+330+330+330+332+332+332+332+332+332+332+333+334+334+335+339+344+346+346+349+357+359+360+361+361+361+369+379+384+384+388+389+389+389+389+389+404+407+407+407+412+413+413+419+419+421+424+429+429+429+429+429+429+430+438+441+442+444+446+448+450+454+455+456+457+458+459+460+460+461+461+496+561+568+568+587'"
      ]
     },
     "execution_count": 25,
     "metadata": {},
     "output_type": "execute_result"
    }
   ],
   "source": [
    "#3 color = set_color deep3, [0.5058823529411764, 0.4470588235294118, 0.7019607843137254]\n",
    "pymol_array_circle1 = np.array(pca_kmeans_selection[pca_kmeans_selection['labels'] == 3].index.get_level_values(0)) - 216 + 79\n",
    "int_pymol_array = np.array([int(x) for x in pymol_array_circle1])\n",
    "'+'.join([str(x) for x in int_pymol_array])"
   ]
  },
  {
   "cell_type": "markdown",
   "metadata": {},
   "source": [
    "### mouse validation data \n",
    "compare the library results to the single mutant qPCR validation experiment"
   ]
  },
  {
   "cell_type": "code",
   "execution_count": 26,
   "metadata": {
    "collapsed": true
   },
   "outputs": [],
   "source": [
    "def tidy_mouse_df(df):\n",
    "    df_tidy = df.apply(np.log2).stack([0,1,2,3,4,5]).reset_index()\n",
    "    df_tidy['aa_gene'] = df_tidy['abs_pos'].apply(str)+'-'+df_tidy['aa']+'-'+df_tidy['lib_type']\n",
    "    return df_tidy.replace([np.inf, -np.inf], np.nan).dropna()"
   ]
  },
  {
   "cell_type": "markdown",
   "metadata": {},
   "source": [
    "### graph of selection values in library for validated mutants "
   ]
  },
  {
   "cell_type": "code",
   "execution_count": 27,
   "metadata": {
    "collapsed": false
   },
   "outputs": [
    {
     "data": {
      "text/plain": [
       "Text(0.5,0,'')"
      ]
     },
     "execution_count": 27,
     "metadata": {},
     "output_type": "execute_result"
    },
    {
     "data": {
      "image/png": "[encoded data removed]",
      "text/plain": [
       "<matplotlib.figure.Figure at 0x7fd25beb31d0>"
      ]
     },
     "metadata": {
      "needs_background": "light"
     },
     "output_type": "display_data"
    }
   ],
   "source": [
    "validation_set = [(705.0, 'W', 0, 'sub'),\n",
    "          (261.5, 'S', 0, 'ins'),\n",
    "          (471.0, 'K', 0, 'sub'),\n",
    "          (567.0, 'Q', 0, 'sub'),\n",
    "          (588.0, 'T', 0, 'sub'),\n",
    "         (588, 'T',0,'sub')\n",
    "          ]\n",
    "\n",
    "df = pd.DataFrame()\n",
    "mutant_list=[]\n",
    "for mut in  validation_set:\n",
    "#     print mut\n",
    "    if mut[3] == 'sub':\n",
    "        wt_res = LOOKUP_DF[(LOOKUP_DF['abs_pos']==mut[0]) & (LOOKUP_DF['is_wt_aa']==1)]['aa'].values[0]\n",
    "#         print wt_res\n",
    "    else:\n",
    "        wt_res = mut[3]\n",
    "    df = pd.concat([df, mouse_aa_selection.xs(mut, level=['abs_pos', 'aa','wt_bc', 'lib_type'], drop_level=False)])\n",
    "    mutant_add = list(mut)\n",
    "    mutant_add.insert(0, wt_res)\n",
    "    mutant_list.append(tuple(mutant_add))\n",
    "\n",
    "df_tidy = tidy_mouse_df(df)\n",
    "fig = plt.figure(figsize=[2,1])\n",
    "g = sns.barplot(x='aa_gene', y=0, hue='organ',errwidth=.1,  data=df_tidy, \n",
    "            dodge=True, hue_order=tissue_grabber,palette = sns.color_palette(\"muted\", 10) )\n",
    "g.set_title('Mutants Selected for Validation')\n",
    "g.set_ylabel('log2(selection)')\n",
    "g.set(ylim=(-3,4))\n",
    "g.set_xticklabels(['%s-%s-%s' % (x[0],int(x[1]),x[2]) for x in mutant_list], rotation = 15)\n",
    "plt.legend(frameon=False,bbox_to_anchor=[1,1],handlelength=.8,labelspacing=.1,handletextpad=.2)\n",
    "plt.xlabel('')"
   ]
  },
  {
   "cell_type": "code",
   "execution_count": 28,
   "metadata": {
    "collapsed": false
   },
   "outputs": [
    {
     "name": "stdout",
     "output_type": "stream",
     "text": [
      "N-705-W\n",
      "ins-261-S\n",
      "R-471-K\n",
      "T-567-Q\n",
      "R-588-T\n",
      "R-588-T\n"
     ]
    }
   ],
   "source": [
    "for x in mutant_list:\n",
    "    print ('%s-%s-%s' % (x[0],int(x[1]),x[2]))"
   ]
  },
  {
   "cell_type": "code",
   "execution_count": 29,
   "metadata": {
    "collapsed": false
   },
   "outputs": [
    {
     "name": "stderr",
     "output_type": "stream",
     "text": [
      "/home/ubuntu/repos/AAV_fitness_landscape/x02_analysis/common.py:176: FutureWarning: Sorting because non-concatenation axis is not aligned. A future version\n",
      "of pandas will change to not sort by default.\n",
      "\n",
      "To accept the future behavior, pass 'sort=False'.\n",
      "\n",
      "To retain the current behavior and silence the warning, pass 'sort=True'.\n",
      "\n",
      "  all_data = pd.concat([data_2_merge, data_merge])\n"
     ]
    }
   ],
   "source": [
    "validation_df = common.construct_validation_qPCR_df()"
   ]
  },
  {
   "cell_type": "code",
   "execution_count": 30,
   "metadata": {
    "collapsed": false
   },
   "outputs": [
    {
     "data": {
      "text/html": [
       "<div>\n",
       "<style scoped>\n",
       "    .dataframe tbody tr th:only-of-type {\n",
       "        vertical-align: middle;\n",
       "    }\n",
       "\n",
       "    .dataframe tbody tr th {\n",
       "        vertical-align: top;\n",
       "    }\n",
       "\n",
       "    .dataframe thead th {\n",
       "        text-align: right;\n",
       "    }\n",
       "</style>\n",
       "<table border=\"1\" class=\"dataframe\">\n",
       "  <thead>\n",
       "    <tr style=\"text-align: right;\">\n",
       "      <th></th>\n",
       "      <th>aa</th>\n",
       "      <th>abs_pos</th>\n",
       "      <th>codon</th>\n",
       "      <th>lib_type</th>\n",
       "      <th>pEK</th>\n",
       "      <th>wt_aa</th>\n",
       "      <th>index</th>\n",
       "      <th>tissue</th>\n",
       "      <th>biological</th>\n",
       "      <th>FAM_tissue</th>\n",
       "      <th>HEX_tissue</th>\n",
       "      <th>log2-selection_tissue</th>\n",
       "      <th>HEX_virus</th>\n",
       "      <th>FAM_virus</th>\n",
       "      <th>log2-selection_virus</th>\n",
       "      <th>organ</th>\n",
       "      <th>selection_virus_tissue</th>\n",
       "    </tr>\n",
       "  </thead>\n",
       "  <tbody>\n",
       "    <tr>\n",
       "      <th>0</th>\n",
       "      <td>T</td>\n",
       "      <td>588.0</td>\n",
       "      <td>act</td>\n",
       "      <td>sub</td>\n",
       "      <td>212</td>\n",
       "      <td>R</td>\n",
       "      <td>58</td>\n",
       "      <td>H</td>\n",
       "      <td>a</td>\n",
       "      <td>25.488133</td>\n",
       "      <td>27.295514</td>\n",
       "      <td>-1.807381</td>\n",
       "      <td>17.314752</td>\n",
       "      <td>17.217971</td>\n",
       "      <td>-0.096781</td>\n",
       "      <td>heart</td>\n",
       "      <td>1.710600</td>\n",
       "    </tr>\n",
       "    <tr>\n",
       "      <th>1</th>\n",
       "      <td>T</td>\n",
       "      <td>588.0</td>\n",
       "      <td>act</td>\n",
       "      <td>sub</td>\n",
       "      <td>212</td>\n",
       "      <td>R</td>\n",
       "      <td>59</td>\n",
       "      <td>H</td>\n",
       "      <td>b</td>\n",
       "      <td>26.016722</td>\n",
       "      <td>27.988104</td>\n",
       "      <td>-1.971382</td>\n",
       "      <td>17.314752</td>\n",
       "      <td>17.217971</td>\n",
       "      <td>-0.096781</td>\n",
       "      <td>heart</td>\n",
       "      <td>1.874601</td>\n",
       "    </tr>\n",
       "    <tr>\n",
       "      <th>2</th>\n",
       "      <td>T</td>\n",
       "      <td>588.0</td>\n",
       "      <td>act</td>\n",
       "      <td>sub</td>\n",
       "      <td>212</td>\n",
       "      <td>R</td>\n",
       "      <td>60</td>\n",
       "      <td>H</td>\n",
       "      <td>c</td>\n",
       "      <td>25.260015</td>\n",
       "      <td>27.707480</td>\n",
       "      <td>-2.447465</td>\n",
       "      <td>17.314752</td>\n",
       "      <td>17.217971</td>\n",
       "      <td>-0.096781</td>\n",
       "      <td>heart</td>\n",
       "      <td>2.350683</td>\n",
       "    </tr>\n",
       "    <tr>\n",
       "      <th>3</th>\n",
       "      <td>T</td>\n",
       "      <td>588.0</td>\n",
       "      <td>act</td>\n",
       "      <td>sub</td>\n",
       "      <td>212</td>\n",
       "      <td>R</td>\n",
       "      <td>61</td>\n",
       "      <td>K</td>\n",
       "      <td>a</td>\n",
       "      <td>24.805328</td>\n",
       "      <td>26.669068</td>\n",
       "      <td>-1.863741</td>\n",
       "      <td>17.314752</td>\n",
       "      <td>17.217971</td>\n",
       "      <td>-0.096781</td>\n",
       "      <td>kidney</td>\n",
       "      <td>1.766959</td>\n",
       "    </tr>\n",
       "    <tr>\n",
       "      <th>4</th>\n",
       "      <td>T</td>\n",
       "      <td>588.0</td>\n",
       "      <td>act</td>\n",
       "      <td>sub</td>\n",
       "      <td>212</td>\n",
       "      <td>R</td>\n",
       "      <td>62</td>\n",
       "      <td>K</td>\n",
       "      <td>b</td>\n",
       "      <td>24.511344</td>\n",
       "      <td>26.979276</td>\n",
       "      <td>-2.467933</td>\n",
       "      <td>17.314752</td>\n",
       "      <td>17.217971</td>\n",
       "      <td>-0.096781</td>\n",
       "      <td>kidney</td>\n",
       "      <td>2.371151</td>\n",
       "    </tr>\n",
       "  </tbody>\n",
       "</table>\n",
       "</div>"
      ],
      "text/plain": [
       "  aa  abs_pos codon lib_type  pEK wt_aa  index tissue biological  FAM_tissue  \\\n",
       "0  T    588.0   act      sub  212     R     58      H          a   25.488133   \n",
       "1  T    588.0   act      sub  212     R     59      H          b   26.016722   \n",
       "2  T    588.0   act      sub  212     R     60      H          c   25.260015   \n",
       "3  T    588.0   act      sub  212     R     61      K          a   24.805328   \n",
       "4  T    588.0   act      sub  212     R     62      K          b   24.511344   \n",
       "\n",
       "   HEX_tissue  log2-selection_tissue  HEX_virus  FAM_virus  \\\n",
       "0   27.295514              -1.807381  17.314752  17.217971   \n",
       "1   27.988104              -1.971382  17.314752  17.217971   \n",
       "2   27.707480              -2.447465  17.314752  17.217971   \n",
       "3   26.669068              -1.863741  17.314752  17.217971   \n",
       "4   26.979276              -2.467933  17.314752  17.217971   \n",
       "\n",
       "   log2-selection_virus   organ  selection_virus_tissue  \n",
       "0             -0.096781   heart                1.710600  \n",
       "1             -0.096781   heart                1.874601  \n",
       "2             -0.096781   heart                2.350683  \n",
       "3             -0.096781  kidney                1.766959  \n",
       "4             -0.096781  kidney                2.371151  "
      ]
     },
     "execution_count": 30,
     "metadata": {},
     "output_type": "execute_result"
    }
   ],
   "source": [
    "validation_df.head()"
   ]
  },
  {
   "cell_type": "code",
   "execution_count": 31,
   "metadata": {
    "collapsed": true
   },
   "outputs": [],
   "source": [
    "validation_df = common.construct_validation_qPCR_df()\n",
    "validation_df.drop(index=192,inplace=True)\n",
    "validation_df.head()\n",
    "library_mutant_validation_selection = df_tidy.groupby(\n",
    "    ['abs_pos', 'aa','organ'])[0].aggregate(['median','mean'])\n",
    "pcr_mutant_validation_selection = validation_df.groupby(\n",
    "    ['abs_pos','aa','organ','biological' ])['selection_virus_tissue'].aggregate(['median','mean'])\n",
    "val_lib_joined = pcr_mutant_validation_selection.reset_index().merge(\n",
    "    library_mutant_validation_selection.reset_index(),on=['abs_pos', 'aa', 'organ'], suffixes=('_val', '_lib'))"
   ]
  },
  {
   "cell_type": "code",
   "execution_count": 32,
   "metadata": {
    "collapsed": false
   },
   "outputs": [
    {
     "data": {
      "text/plain": [
       "(0.75471231777608061, 1.9119182542815268e-14)"
      ]
     },
     "execution_count": 32,
     "metadata": {},
     "output_type": "execute_result"
    }
   ],
   "source": [
    "stats.pearsonr(val_lib_joined['median_lib'], val_lib_joined['median_val'])"
   ]
  },
  {
   "cell_type": "markdown",
   "metadata": {},
   "source": [
    "### compare validation selection to selection in library"
   ]
  },
  {
   "cell_type": "code",
   "execution_count": 33,
   "metadata": {
    "collapsed": false
   },
   "outputs": [
    {
     "data": {
      "text/plain": [
       "<seaborn.axisgrid.FacetGrid at 0x7fd24833e160>"
      ]
     },
     "execution_count": 33,
     "metadata": {},
     "output_type": "execute_result"
    },
    {
     "data": {
      "image/png": "[encoded data removed]",
      "text/plain": [
       "<matplotlib.figure.Figure at 0x7fd2484dc240>"
      ]
     },
     "metadata": {
      "needs_background": "light"
     },
     "output_type": "display_data"
    }
   ],
   "source": [
    "height=1.5\n",
    "s=5\n",
    "markers = ['.','.','.','.','.','.']\n",
    "g = sns.lmplot('median_val', 'median_lib',val_lib_joined, hue='organ',hue_order=tissue_grabber,markers=markers,\n",
    "           fit_reg=False,scatter_kws={'s':5,'alpha':.8},line_kws={'color':'gray'}, height=height)\n",
    "g.set_axis_labels('validation', 'library')\n"
   ]
  },
  {
   "cell_type": "code",
   "execution_count": null,
   "metadata": {
    "collapsed": true
   },
   "outputs": [],
   "source": []
  }
 ],
 "metadata": {
  "kernelspec": {
   "display_name": "aav_venv_v2",
   "language": "python",
   "name": "aav_venv_v2"
  },
  "language_info": {
   "codemirror_mode": {
    "name": "ipython",
    "version": 3
   },
   "file_extension": ".py",
   "mimetype": "text/x-python",
   "name": "python",
   "nbconvert_exporter": "python",
   "pygments_lexer": "ipython3",
   "version": "3.6.6"
  }
 },
 "nbformat": 4,
 "nbformat_minor": 2
}
